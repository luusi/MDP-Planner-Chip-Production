{
 "cells": [
  {
   "cell_type": "code",
   "execution_count": 1,
   "metadata": {},
   "outputs": [],
   "source": [
    "from mdp_dp_rl.algorithms.dp.dp_analytic import DPAnalytic\n",
    "from stochastic_service_composition.declare_utils import *\n",
    "from docs.notebooks.utils import render_service, render_target, render_composition_mdp,  \\\n",
    "    print_policy_data, print_value_function, print_q_value_function\n",
    "from stochastic_service_composition.composition_mdp import composition_mdp\n",
    "from stochastic_service_composition.services import build_service_from_transitions, Service\n",
    "from stochastic_service_composition.target import build_target_from_transitions"
   ]
  },
  {
   "cell_type": "markdown",
   "metadata": {},
   "source": [
    "## Use case for \"Stochastic Service Composition with Industrial APIs\" - Chip Production.\n",
    "\n",
    "In this notebook, we present the implementation of the use case for \"Stochastic Service Composition with Industrial APIs\" about chip production."
   ]
  },
  {
   "cell_type": "markdown",
   "metadata": {},
   "source": [
    "# Available Services\n",
    "\n",
    "In the following we provide definitions about available services:"
   ]
  },
  {
   "cell_type": "code",
   "execution_count": 7,
   "metadata": {},
   "outputs": [],
   "source": [
    "LOW_PROB = 0.05\n",
    "\n",
    "# probabilities of being broken after an action\n",
    "DEFAULT_BROKEN_PROB = LOW_PROB\n",
    "BROKEN_PROB = 0.5\n",
    "HIGH_BROKEN_PROB = 0.7\n",
    "\n",
    "# default probability of being unemployable after the configuration\n",
    "DEFAULT_UNEMPLOYABLE_PROB = LOW_PROB\n",
    "HIGH_UNEMPLOYABLE_PROB = 0.5\n",
    "\n",
    "# costs of the machines that perform their job in different countries\n",
    "#DEFAULT_USA_REWARD = -1.0\n",
    "WAR_REWARD = -3.0\n",
    "USA_REWARD = -1.0\n",
    "HIGH_USA_REWARD = -5.0\n",
    "UK_REWARD = -6.8\n",
    "CHINA_REWARD = -11.7\n",
    "TAIWAN_REWARD = -12.2\n",
    "RUSSIA_REWARD = -9.12 # we have to take into the account political problems\n",
    "NORWAY_REWARD = -7.16\n",
    "BRAZIL_REWARD = -6.7\n",
    "FRANCE_REWARD = -7.6\n",
    "AUSTRALIA_REWARD = -14.0\n",
    "INDIA_REWARD = -13.1\n",
    "BELGIUM_REWARD = -7.6\n",
    "SWITZERLAND_REWARD = -8.0\n",
    "CANADA_REWARD = -1.8\n",
    "PERU_REWARD = -6.0\n",
    "AUSTRIA_REWARD = -8.38\n",
    "MALAYSIA_REWARD = -14.73\n",
    "TURKEY_REWARD = -10.16\n",
    "KAZAKHSTAN_REWARD = -10.4\n",
    "CHILE_REWARD = -7.8\n",
    "BOLIVIA_REWARD = -6.8\n",
    "ARGENTINA_REWARD = -8.55\n",
    "MOROCCO_REWARD = -7.9\n",
    "JAPAN_REWARD = -10.1\n",
    "SOUTH_KOREA = -10.7\n",
    "NETHERLANDS_REWARD = -7.5\n",
    "\n",
    "# default reward when the service becomes broken\n",
    "DEFAULT_BROKEN_REWARD = -10.0"
   ]
  },
  {
   "cell_type": "code",
   "execution_count": 8,
   "metadata": {},
   "outputs": [],
   "source": [
    "# all the atomic actions for the task\n",
    "PICK_BUY_DESIGN = \"pick_buy_design\"\n",
    "PICK_SILICON = \"pick_silicon\"\n",
    "PICK_WAFER = \"pick_wafer\"\n",
    "PICK_BORON = \"pick_boron\"\n",
    "PICK_PHOSPHOR = \"pick_phosphor\"\n",
    "PICK_ALUMINUM = \"pick_aluminum\"\n",
    "PICK_RESIST = \"pick_resist\"\n",
    "PICK_PLASTIC = \"pick_plastic\"\n",
    "PICK_CHEMICALS = \"pick_chemicals\"\n",
    "PICK_COPPER_FRAME = \"pick_copper_frame\"\n",
    "CLEANING = \"cleaning\"\n",
    "CONFIG_FILM_DEPOSITION = \"config_film_deposition\"\n",
    "CHECKED_FILM_DEPOSITION = \"checked_film_deposition\"\n",
    "FILM_DEPOSITION = \"film_deposition\"\n",
    "CONFIG_RESIST_COATING = \"config_resist_coating\"\n",
    "CHECKED_RESIST_COATING = \"checked_resist_coating\"\n",
    "RESIST_COATING = \"resist_coating\"\n",
    "EXPOSURE = \"exposure\"\n",
    "CHECK_EXPOSURE = \"check_exposure\"\n",
    "CONFIG_DEVELOPMENT = \"config_development\"\n",
    "CHECKED_DEVELOPMENT = \"checked_development\"\n",
    "DEVELOPMENT = \"development\"\n",
    "ETCHING = \"etching\"\n",
    "CHECK_ETCHING = \"check_etching\"\n",
    "CONFIG_IMPURITIES_IMPLANTATION = \"config_impurities_implantation\"\n",
    "CHECKED_IMPURITIES_IMPLANTATION = \"checked_impurities_implantation\"\n",
    "IMPURITIES_IMPLANTATION = \"impurities_implantation\"\n",
    "ACTIVATION = \"activation\"\n",
    "RESIST_STRIPPING = \"resist_stripping\"\n",
    "CHECK_RESIST_STRIPPING = \"check_resist_stripping\"\n",
    "ASSEMBLY = \"assembly\"\n",
    "TESTING =\"testing\"\n",
    "PACKAGING = \"packaging\""
   ]
  },
  {
   "cell_type": "code",
   "execution_count": 9,
   "metadata": {},
   "outputs": [],
   "source": [
    "# service names\n",
    "DESIGN_SERVICE_NAME_USA = \"design_usa\"                                      # human\n",
    "DESIGN_SERVICE_NAME_UK = \"design_uk\"                                        # human\n",
    "DESIGN_SERVICE_NAME_CHINA = \"design_china\"                                  # human\n",
    "DESIGN_SERVICE_NAME_TAIWAN = \"design_taiwan\"                                # human\n",
    "SILICON_SERVICE_NAME_CHINA = \"silicon_china\"                                # warehouse\n",
    "SILICON_SERVICE_NAME_RUSSIA = \"silicon_russia\"                              # warehouse\n",
    "SILICON_SERVICE_NAME_NORWAY = \"silicon_norway\"                              # warehouse\n",
    "SILICON_SERVICE_NAME_USA = \"silicon_usa\"                                    # warehouse\n",
    "SILICON_SERVICE_NAME_FRANCE = \"silicon_france\"                              # warehouse\n",
    "SILICON_SERVICE_NAME_BRAZIL = \"silicon_brazil\"                              # warehouse\n",
    "SILICON_SERVICE_NAME_MALAYSIA = \"silicon_malaysia\"                          # warehouse\n",
    "WAFER_SERVICE_NAME_JAPAN = \"wafer_japan\"                                    # warehouse\n",
    "WAFER_SERVICE_NAME_SOUTH_KOREA = \"wafer_south_korea\"                        # warehouse\n",
    "BORON_SERVICE_NAME_TURKEY = \"boron_turkey\"                                  # warehouse\n",
    "BORON_SERVICE_NAME_USA = \"boron_usa\"                                        # warehouse\n",
    "BORON_SERVICE_NAME_KAZAKHSTAN = \"boron_kazakhstan\"                          # warehouse\n",
    "BORON_SERVICE_NAME_CHILE = \"boron_chile\"                                    # warehouse\n",
    "BORON_SERVICE_NAME_CHINA = \"boron_china\"                                    # warehouse\n",
    "BORON_SERVICE_NAME_ARGENTINA = \"boron_argentina\"                            # warehouse\n",
    "BORON_SERVICE_NAME_RUSSIA = \"boron_russia\"                                  # warehouse\n",
    "BORON_SERVICE_NAME_BOLIVIA = \"boron_bolivia\"                                # warehouse\n",
    "PHOSPHOR_SERVICE_NAME_MOROCCO = \"phosphor_morocco\"                          # warehouse\n",
    "PHOSPHOR_SERVICE_NAME_CHINA = \"phosphor_china\"                              # warehouse\n",
    "PHOSPHOR_SERVICE_NAME_USA = \"phosphor_usa\"                                  # warehouse\n",
    "ALUMINUM_SERVICE_NAME_AUSTRALIA = \"aluminum_australia\"                      # warehouse\n",
    "ALUMINUM_SERVICE_NAME_INDIA = \"aluminum_india\"                              # warehouse\n",
    "ALUMINUM_SERVICE_NAME_BRAZIL = \"aluminum_brazil\"                            # warehouse\n",
    "RESIST_SERVICE_NAME_USA = \"resist_usa\"                                      # warehouse\n",
    "RESIST_SERVICE_NAME_BELGIUM = \"resist_belgium\"                              # warehouse\n",
    "RESIST_SERVICE_NAME_AUSTRIA = \"resist_austria\"                              # warehouse\n",
    "RESIST_SERVICE_NAME_INDIA = \"resist_india\"                                  # warehouse\n",
    "RESIST_SERVICE_NAME_SWITZERLAND = \"resist_switzerland\"                      # warehouse\n",
    "RESIST_SERVICE_NAME_CANADA = \"resist_canada\"                                # warehouse\n",
    "PLASTIC_SERVICE_NAME_CHINA = \"plastic_china\"                                # warehouse\n",
    "PLASTIC_SERVICE_NAME_INDIA = \"plastic_india\"                                # warehouse\n",
    "CHEMICALS_SERVICE_NAME_USA = \"chemicals_usa\"                                # warehouse\n",
    "CHEMICALS_SERVICE_NAME_CANADA = \"chemicals_canada\"                          # warehouse\n",
    "COPPER_FRAME_SERVICE_NAME_USA = \"copper_frame_usa\"                          # warehouse\n",
    "COPPER_FRAME_SERVICE_NAME_CHINA = \"copper_frame_china\"                      # warehouse\n",
    "COPPER_FRAME_SERVICE_NAME_PERU = \"copper_frame_peru\"                        # warehouse\n",
    "COPPER_FRAME_SERVICE_NAME_CHILE = \"copper_frame_chile\"                      # warehouse\n",
    "CLEANING_SERVICE_NAME = \"cleaning_human\"                                    # human\n",
    "FILM_DEPOSITION1_SERVICE_NAME = \"film_deposition_machine1\"                  # machine\n",
    "FILM_DEPOSITION2_SERVICE_NAME = \"film_deposition_machine2\"                  # machine\n",
    "RESIST_COATING1_SERVICE_NAME = \"resist_coating_machine1\"                    # machine\n",
    "RESIST_COATING2_SERVICE_NAME = \"resist_coating_machine2\"                    # machine\n",
    "EXPOSURE1_SERVICE_NAME = \"exposure_machine1\"                                # machine\n",
    "EXPOSURE2_SERVICE_NAME = \"exposure_machine2\"                                # machine\n",
    "DEVELOPMENT1_SERVICE_NAME = \"development_machine1\"                          # machine\n",
    "DEVELOPMENT2_SERVICE_NAME = \"development_machine2\"                          # machine\n",
    "ETCHING1_SERVICE_NAME = \"etching_machine1\"                                  # machine\n",
    "ETCHING2_SERVICE_NAME = \"etching_machine2\"                                  # machine\n",
    "IMPURITIES_IMPLANTATION_SERVICE_NAME = \"impurities_implantation_machine\"    # machine\n",
    "ACTIVATION_SERVICE_NAME = \"activation_human\"                                # human\n",
    "RESIST_STRIPPING_SERVICE_NAME = \"resist_stripping_machine\"                  # machine\n",
    "ASSEMBLY_SERVICE_NAME = \"assembly_human\"                                    # human\n",
    "TESTING_SERVICE_NAME = \"testing_human\"                                      # human\n",
    "PACKAGING_SERVICE_NAME = \"packaging_human\"                                  # human"
   ]
  },
  {
   "cell_type": "markdown",
   "metadata": {},
   "source": [
    "We have different type of services:\n",
    "\n",
    "- generic breakable machines;\n",
    "- complex breakable machines;\n",
    "- warehouse machines;\n",
    "- human workers"
   ]
  },
  {
   "cell_type": "code",
   "execution_count": 10,
   "metadata": {},
   "outputs": [],
   "source": [
    "def build_generic_breakable_service(service_name: str, action_name: str, broken_prob: float, broken_reward: float, action_reward: float):\n",
    "    assert 0.0 <= broken_prob <= 1.0\n",
    "    deterministic_prob = 1.0\n",
    "    success_prob = deterministic_prob - broken_prob\n",
    "    transitions = {\n",
    "        \"available\": {\n",
    "          action_name: ({\"done\": success_prob, \"broken\": broken_prob}, action_reward),\n",
    "        },\n",
    "        \"broken\": {\n",
    "            f\"check_{action_name}\": ({\"available\": 1.0}, broken_reward),\n",
    "        },\n",
    "        \"done\": {\n",
    "            f\"check_{action_name}\": ({\"available\": 1.0}, 0.0),\n",
    "        }\n",
    "    }\n",
    "    final_states = {\"available\"}\n",
    "    initial_state = \"available\"\n",
    "    return build_service_from_transitions(transitions, initial_state, final_states)  # type: ignore\n",
    "\n",
    "def build_complex_breakable_service(service_name: str, action_name: str, broken_prob: float, unemployable_prob: float, broken_reward: float, action_reward: float) -> Service:\n",
    "    assert 0.0 <= broken_prob <= 1.0\n",
    "    deterministic_prob = 1.0\n",
    "    configure_success_prob = deterministic_prob - unemployable_prob\n",
    "    op_success_prob = deterministic_prob - broken_prob\n",
    "    transitions = {\n",
    "        \"ready\": { # current state\n",
    "            f\"config_{action_name}\": # action\n",
    "                (\n",
    "                    {\n",
    "                        \"configured\": deterministic_prob # next state : prob\n",
    "                    },\n",
    "                    0.0\n",
    "                ),\n",
    "        },\n",
    "        \"configured\": {\n",
    "            f\"checked_{action_name}\":\n",
    "                (\n",
    "                    {\n",
    "                    \"executing\": configure_success_prob,\n",
    "                    \"broken\": unemployable_prob\n",
    "                    } if unemployable_prob > 0.0 else {\"executing\": configure_success_prob},\n",
    "                    0.0\n",
    "                ),\n",
    "        },\n",
    "        \"executing\": {\n",
    "            action_name: # operation\n",
    "                (\n",
    "                    {\n",
    "                        \"ready\": op_success_prob,\n",
    "                        \"broken\": broken_prob\n",
    "                    } if broken_prob > 0.0 else {\"ready\": op_success_prob},\n",
    "                    action_reward\n",
    "                ),\n",
    "        },\n",
    "        \"broken\": {\n",
    "            f\"restore_{action_name}\":\n",
    "               (\n",
    "                   {\n",
    "                       \"repairing\": deterministic_prob\n",
    "                   },\n",
    "                   broken_reward\n",
    "               ),\n",
    "        },\n",
    "        \"repairing\": {\n",
    "            f\"repaired_{action_name}\":\n",
    "                (\n",
    "                    {\n",
    "                        \"ready\": deterministic_prob\n",
    "                    },\n",
    "                    0.0\n",
    "                ),\n",
    "        },\n",
    "\n",
    "    }\n",
    "    final_states = {\"ready\"}\n",
    "    initial_state = \"ready\"\n",
    "    return build_service_from_transitions(transitions, initial_state, final_states)  # type: ignore\n",
    "\n",
    "def build_generic_service_one_state(\n",
    "    service_name: str,\n",
    "    operation_names: Set[str],\n",
    "    action_reward: float,\n",
    ") -> Service:\n",
    "    \"\"\"Build the one state device.\"\"\"\n",
    "    transitions = {\n",
    "        \"ready\": {\n",
    "            operation_name: ({\"ready\": 1.0}, action_reward) for operation_name in operation_names\n",
    "        },\n",
    "    }\n",
    "    final_states = {\"ready\"}\n",
    "    initial_state = \"ready\"\n",
    "    return build_service_from_transitions(transitions, initial_state, final_states)  # type: ignore"
   ]
  },
  {
   "cell_type": "code",
   "execution_count": 13,
   "metadata": {},
   "outputs": [
    {
     "data": {
      "text/plain": "<IPython.core.display.SVG object>",
      "image/svg+xml": "<svg xmlns=\"http://www.w3.org/2000/svg\" xmlns:xlink=\"http://www.w3.org/1999/xlink\" width=\"209pt\" height=\"110pt\" viewBox=\"0.00 0.00 209.05 110.09\">\n<g id=\"graph0\" class=\"graph\" transform=\"scale(1 1) rotate(0) translate(4 106.09)\">\n<polygon fill=\"white\" stroke=\"none\" points=\"-4,4 -4,-106.09 205.05,-106.09 205.05,4 -4,4\"/>\n<!-- fake -->\n<g id=\"node1\" class=\"node\">\n<title>fake</title>\n</g>\n<!-- ready -->\n<g id=\"node2\" class=\"node\">\n<title>ready</title>\n<ellipse fill=\"none\" stroke=\"black\" cx=\"125.55\" cy=\"-34.55\" rx=\"30.59\" ry=\"30.59\"/>\n<ellipse fill=\"none\" stroke=\"black\" cx=\"125.55\" cy=\"-34.55\" rx=\"34.59\" ry=\"34.59\"/>\n<text text-anchor=\"middle\" x=\"125.55\" y=\"-30.85\" font-family=\"Times New Roman,serif\" font-size=\"14.00\">ready</text>\n</g>\n<!-- fake&#45;&gt;ready -->\n<g id=\"edge1\" class=\"edge\">\n<title>fake-&gt;ready</title>\n<path fill=\"none\" stroke=\"black\" stroke-width=\"2\" d=\"M54.38,-34.55C62.06,-34.55 70.67,-34.55 79.17,-34.55\"/>\n<polygon fill=\"black\" stroke=\"black\" stroke-width=\"2\" points=\"77.55,-38.05 87.55,-34.55 77.55,-31.05 77.55,-38.05\"/>\n</g>\n<!-- ready&#45;&gt;ready -->\n<g id=\"edge2\" class=\"edge\">\n<title>ready-&gt;ready</title>\n<path fill=\"none\" stroke=\"black\" d=\"M115.61,-68.16C115.76,-78.74 119.07,-87.09 125.55,-87.09 129.49,-87.09 132.27,-83.99 133.86,-79.17\"/>\n<polygon fill=\"black\" stroke=\"black\" points=\"137.27,-80.06 135.27,-69.65 130.35,-79.03 137.27,-80.06\"/>\n<text text-anchor=\"middle\" x=\"125.55\" y=\"-90.89\" font-family=\"Times New Roman,serif\" font-size=\"14.00\">pick_buy_design, 1.0, -1.0</text>\n</g>\n</g>\n</svg>"
     },
     "metadata": {},
     "output_type": "display_data"
    },
    {
     "data": {
      "text/plain": "<IPython.core.display.SVG object>",
      "image/svg+xml": "<svg xmlns=\"http://www.w3.org/2000/svg\" xmlns:xlink=\"http://www.w3.org/1999/xlink\" width=\"209pt\" height=\"110pt\" viewBox=\"0.00 0.00 209.05 110.09\">\n<g id=\"graph0\" class=\"graph\" transform=\"scale(1 1) rotate(0) translate(4 106.09)\">\n<polygon fill=\"white\" stroke=\"none\" points=\"-4,4 -4,-106.09 205.05,-106.09 205.05,4 -4,4\"/>\n<!-- fake -->\n<g id=\"node1\" class=\"node\">\n<title>fake</title>\n</g>\n<!-- ready -->\n<g id=\"node2\" class=\"node\">\n<title>ready</title>\n<ellipse fill=\"none\" stroke=\"black\" cx=\"125.55\" cy=\"-34.55\" rx=\"30.59\" ry=\"30.59\"/>\n<ellipse fill=\"none\" stroke=\"black\" cx=\"125.55\" cy=\"-34.55\" rx=\"34.59\" ry=\"34.59\"/>\n<text text-anchor=\"middle\" x=\"125.55\" y=\"-30.85\" font-family=\"Times New Roman,serif\" font-size=\"14.00\">ready</text>\n</g>\n<!-- fake&#45;&gt;ready -->\n<g id=\"edge1\" class=\"edge\">\n<title>fake-&gt;ready</title>\n<path fill=\"none\" stroke=\"black\" stroke-width=\"2\" d=\"M54.38,-34.55C62.06,-34.55 70.67,-34.55 79.17,-34.55\"/>\n<polygon fill=\"black\" stroke=\"black\" stroke-width=\"2\" points=\"77.55,-38.05 87.55,-34.55 77.55,-31.05 77.55,-38.05\"/>\n</g>\n<!-- ready&#45;&gt;ready -->\n<g id=\"edge2\" class=\"edge\">\n<title>ready-&gt;ready</title>\n<path fill=\"none\" stroke=\"black\" d=\"M115.61,-68.16C115.76,-78.74 119.07,-87.09 125.55,-87.09 129.49,-87.09 132.27,-83.99 133.86,-79.17\"/>\n<polygon fill=\"black\" stroke=\"black\" points=\"137.27,-80.06 135.27,-69.65 130.35,-79.03 137.27,-80.06\"/>\n<text text-anchor=\"middle\" x=\"125.55\" y=\"-90.89\" font-family=\"Times New Roman,serif\" font-size=\"14.00\">pick_buy_design, 1.0, -6.8</text>\n</g>\n</g>\n</svg>"
     },
     "metadata": {},
     "output_type": "display_data"
    },
    {
     "data": {
      "text/plain": "<IPython.core.display.SVG object>",
      "image/svg+xml": "<svg xmlns=\"http://www.w3.org/2000/svg\" xmlns:xlink=\"http://www.w3.org/1999/xlink\" width=\"212pt\" height=\"110pt\" viewBox=\"0.00 0.00 212.05 110.09\">\n<g id=\"graph0\" class=\"graph\" transform=\"scale(1 1) rotate(0) translate(4 106.09)\">\n<polygon fill=\"white\" stroke=\"none\" points=\"-4,4 -4,-106.09 208.05,-106.09 208.05,4 -4,4\"/>\n<!-- fake -->\n<g id=\"node1\" class=\"node\">\n<title>fake</title>\n</g>\n<!-- ready -->\n<g id=\"node2\" class=\"node\">\n<title>ready</title>\n<ellipse fill=\"none\" stroke=\"black\" cx=\"125.55\" cy=\"-34.55\" rx=\"30.59\" ry=\"30.59\"/>\n<ellipse fill=\"none\" stroke=\"black\" cx=\"125.55\" cy=\"-34.55\" rx=\"34.59\" ry=\"34.59\"/>\n<text text-anchor=\"middle\" x=\"125.55\" y=\"-30.85\" font-family=\"Times New Roman,serif\" font-size=\"14.00\">ready</text>\n</g>\n<!-- fake&#45;&gt;ready -->\n<g id=\"edge1\" class=\"edge\">\n<title>fake-&gt;ready</title>\n<path fill=\"none\" stroke=\"black\" stroke-width=\"2\" d=\"M54.38,-34.55C62.06,-34.55 70.67,-34.55 79.17,-34.55\"/>\n<polygon fill=\"black\" stroke=\"black\" stroke-width=\"2\" points=\"77.55,-38.05 87.55,-34.55 77.55,-31.05 77.55,-38.05\"/>\n</g>\n<!-- ready&#45;&gt;ready -->\n<g id=\"edge2\" class=\"edge\">\n<title>ready-&gt;ready</title>\n<path fill=\"none\" stroke=\"black\" d=\"M115.61,-68.16C115.76,-78.74 119.07,-87.09 125.55,-87.09 129.49,-87.09 132.27,-83.99 133.86,-79.17\"/>\n<polygon fill=\"black\" stroke=\"black\" points=\"137.27,-80.06 135.27,-69.65 130.35,-79.03 137.27,-80.06\"/>\n<text text-anchor=\"middle\" x=\"125.55\" y=\"-90.89\" font-family=\"Times New Roman,serif\" font-size=\"14.00\">pick_buy_design, 1.0, -11.7</text>\n</g>\n</g>\n</svg>"
     },
     "metadata": {},
     "output_type": "display_data"
    },
    {
     "data": {
      "text/plain": "<IPython.core.display.SVG object>",
      "image/svg+xml": "<svg xmlns=\"http://www.w3.org/2000/svg\" xmlns:xlink=\"http://www.w3.org/1999/xlink\" width=\"212pt\" height=\"110pt\" viewBox=\"0.00 0.00 212.05 110.09\">\n<g id=\"graph0\" class=\"graph\" transform=\"scale(1 1) rotate(0) translate(4 106.09)\">\n<polygon fill=\"white\" stroke=\"none\" points=\"-4,4 -4,-106.09 208.05,-106.09 208.05,4 -4,4\"/>\n<!-- fake -->\n<g id=\"node1\" class=\"node\">\n<title>fake</title>\n</g>\n<!-- ready -->\n<g id=\"node2\" class=\"node\">\n<title>ready</title>\n<ellipse fill=\"none\" stroke=\"black\" cx=\"125.55\" cy=\"-34.55\" rx=\"30.59\" ry=\"30.59\"/>\n<ellipse fill=\"none\" stroke=\"black\" cx=\"125.55\" cy=\"-34.55\" rx=\"34.59\" ry=\"34.59\"/>\n<text text-anchor=\"middle\" x=\"125.55\" y=\"-30.85\" font-family=\"Times New Roman,serif\" font-size=\"14.00\">ready</text>\n</g>\n<!-- fake&#45;&gt;ready -->\n<g id=\"edge1\" class=\"edge\">\n<title>fake-&gt;ready</title>\n<path fill=\"none\" stroke=\"black\" stroke-width=\"2\" d=\"M54.38,-34.55C62.06,-34.55 70.67,-34.55 79.17,-34.55\"/>\n<polygon fill=\"black\" stroke=\"black\" stroke-width=\"2\" points=\"77.55,-38.05 87.55,-34.55 77.55,-31.05 77.55,-38.05\"/>\n</g>\n<!-- ready&#45;&gt;ready -->\n<g id=\"edge2\" class=\"edge\">\n<title>ready-&gt;ready</title>\n<path fill=\"none\" stroke=\"black\" d=\"M115.61,-68.16C115.76,-78.74 119.07,-87.09 125.55,-87.09 129.49,-87.09 132.27,-83.99 133.86,-79.17\"/>\n<polygon fill=\"black\" stroke=\"black\" points=\"137.27,-80.06 135.27,-69.65 130.35,-79.03 137.27,-80.06\"/>\n<text text-anchor=\"middle\" x=\"125.55\" y=\"-90.89\" font-family=\"Times New Roman,serif\" font-size=\"14.00\">pick_buy_design, 1.0, -12.2</text>\n</g>\n</g>\n</svg>"
     },
     "metadata": {},
     "output_type": "display_data"
    }
   ],
   "source": [
    "def design_service(name: str, action_reward: float) -> Service:\n",
    "    \"\"\"Build the design device.\"\"\"\n",
    "    return build_generic_service_one_state(\n",
    "        name,\n",
    "        {PICK_BUY_DESIGN},\n",
    "        action_reward=action_reward\n",
    "    )\n",
    "\n",
    "service_design_usa = design_service(DESIGN_SERVICE_NAME_USA, USA_REWARD)\n",
    "service_design_uk = design_service(DESIGN_SERVICE_NAME_UK, UK_REWARD)\n",
    "service_design_china = design_service(DESIGN_SERVICE_NAME_CHINA, CHINA_REWARD)\n",
    "service_design_taiwan = design_service(DESIGN_SERVICE_NAME_TAIWAN, TAIWAN_REWARD)\n",
    "render_service(service_design_usa)\n",
    "render_service(service_design_uk)\n",
    "render_service(service_design_china)\n",
    "render_service(service_design_taiwan)"
   ]
  },
  {
   "cell_type": "code",
   "execution_count": 14,
   "metadata": {},
   "outputs": [
    {
     "data": {
      "text/plain": "<IPython.core.display.SVG object>",
      "image/svg+xml": "<svg xmlns=\"http://www.w3.org/2000/svg\" xmlns:xlink=\"http://www.w3.org/1999/xlink\" width=\"198pt\" height=\"110pt\" viewBox=\"0.00 0.00 198.05 110.09\">\n<g id=\"graph0\" class=\"graph\" transform=\"scale(1 1) rotate(0) translate(4 106.09)\">\n<polygon fill=\"white\" stroke=\"none\" points=\"-4,4 -4,-106.09 194.05,-106.09 194.05,4 -4,4\"/>\n<!-- fake -->\n<g id=\"node1\" class=\"node\">\n<title>fake</title>\n</g>\n<!-- ready -->\n<g id=\"node2\" class=\"node\">\n<title>ready</title>\n<ellipse fill=\"none\" stroke=\"black\" cx=\"125.55\" cy=\"-34.55\" rx=\"30.59\" ry=\"30.59\"/>\n<ellipse fill=\"none\" stroke=\"black\" cx=\"125.55\" cy=\"-34.55\" rx=\"34.59\" ry=\"34.59\"/>\n<text text-anchor=\"middle\" x=\"125.55\" y=\"-30.85\" font-family=\"Times New Roman,serif\" font-size=\"14.00\">ready</text>\n</g>\n<!-- fake&#45;&gt;ready -->\n<g id=\"edge1\" class=\"edge\">\n<title>fake-&gt;ready</title>\n<path fill=\"none\" stroke=\"black\" stroke-width=\"2\" d=\"M54.38,-34.55C62.06,-34.55 70.67,-34.55 79.17,-34.55\"/>\n<polygon fill=\"black\" stroke=\"black\" stroke-width=\"2\" points=\"77.55,-38.05 87.55,-34.55 77.55,-31.05 77.55,-38.05\"/>\n</g>\n<!-- ready&#45;&gt;ready -->\n<g id=\"edge2\" class=\"edge\">\n<title>ready-&gt;ready</title>\n<path fill=\"none\" stroke=\"black\" d=\"M115.61,-68.16C115.76,-78.74 119.07,-87.09 125.55,-87.09 129.49,-87.09 132.27,-83.99 133.86,-79.17\"/>\n<polygon fill=\"black\" stroke=\"black\" points=\"137.27,-80.06 135.27,-69.65 130.35,-79.03 137.27,-80.06\"/>\n<text text-anchor=\"middle\" x=\"125.55\" y=\"-90.89\" font-family=\"Times New Roman,serif\" font-size=\"14.00\">pick_silicon, 1.0, -11.7</text>\n</g>\n</g>\n</svg>"
     },
     "metadata": {},
     "output_type": "display_data"
    },
    {
     "data": {
      "text/plain": "<IPython.core.display.SVG object>",
      "image/svg+xml": "<svg xmlns=\"http://www.w3.org/2000/svg\" xmlns:xlink=\"http://www.w3.org/1999/xlink\" width=\"202pt\" height=\"110pt\" viewBox=\"0.00 0.00 201.55 110.09\">\n<g id=\"graph0\" class=\"graph\" transform=\"scale(1 1) rotate(0) translate(4 106.09)\">\n<polygon fill=\"white\" stroke=\"none\" points=\"-4,4 -4,-106.09 197.55,-106.09 197.55,4 -4,4\"/>\n<!-- fake -->\n<g id=\"node1\" class=\"node\">\n<title>fake</title>\n</g>\n<!-- ready -->\n<g id=\"node2\" class=\"node\">\n<title>ready</title>\n<ellipse fill=\"none\" stroke=\"black\" cx=\"125.55\" cy=\"-34.55\" rx=\"30.59\" ry=\"30.59\"/>\n<ellipse fill=\"none\" stroke=\"black\" cx=\"125.55\" cy=\"-34.55\" rx=\"34.59\" ry=\"34.59\"/>\n<text text-anchor=\"middle\" x=\"125.55\" y=\"-30.85\" font-family=\"Times New Roman,serif\" font-size=\"14.00\">ready</text>\n</g>\n<!-- fake&#45;&gt;ready -->\n<g id=\"edge1\" class=\"edge\">\n<title>fake-&gt;ready</title>\n<path fill=\"none\" stroke=\"black\" stroke-width=\"2\" d=\"M54.38,-34.55C62.06,-34.55 70.67,-34.55 79.17,-34.55\"/>\n<polygon fill=\"black\" stroke=\"black\" stroke-width=\"2\" points=\"77.55,-38.05 87.55,-34.55 77.55,-31.05 77.55,-38.05\"/>\n</g>\n<!-- ready&#45;&gt;ready -->\n<g id=\"edge2\" class=\"edge\">\n<title>ready-&gt;ready</title>\n<path fill=\"none\" stroke=\"black\" d=\"M115.61,-68.16C115.76,-78.74 119.07,-87.09 125.55,-87.09 129.49,-87.09 132.27,-83.99 133.86,-79.17\"/>\n<polygon fill=\"black\" stroke=\"black\" points=\"137.27,-80.06 135.27,-69.65 130.35,-79.03 137.27,-80.06\"/>\n<text text-anchor=\"middle\" x=\"125.55\" y=\"-90.89\" font-family=\"Times New Roman,serif\" font-size=\"14.00\">pick_silicon, 1.0, -12.12</text>\n</g>\n</g>\n</svg>"
     },
     "metadata": {},
     "output_type": "display_data"
    },
    {
     "data": {
      "text/plain": "<IPython.core.display.SVG object>",
      "image/svg+xml": "<svg xmlns=\"http://www.w3.org/2000/svg\" xmlns:xlink=\"http://www.w3.org/1999/xlink\" width=\"198pt\" height=\"110pt\" viewBox=\"0.00 0.00 198.05 110.09\">\n<g id=\"graph0\" class=\"graph\" transform=\"scale(1 1) rotate(0) translate(4 106.09)\">\n<polygon fill=\"white\" stroke=\"none\" points=\"-4,4 -4,-106.09 194.05,-106.09 194.05,4 -4,4\"/>\n<!-- fake -->\n<g id=\"node1\" class=\"node\">\n<title>fake</title>\n</g>\n<!-- ready -->\n<g id=\"node2\" class=\"node\">\n<title>ready</title>\n<ellipse fill=\"none\" stroke=\"black\" cx=\"125.55\" cy=\"-34.55\" rx=\"30.59\" ry=\"30.59\"/>\n<ellipse fill=\"none\" stroke=\"black\" cx=\"125.55\" cy=\"-34.55\" rx=\"34.59\" ry=\"34.59\"/>\n<text text-anchor=\"middle\" x=\"125.55\" y=\"-30.85\" font-family=\"Times New Roman,serif\" font-size=\"14.00\">ready</text>\n</g>\n<!-- fake&#45;&gt;ready -->\n<g id=\"edge1\" class=\"edge\">\n<title>fake-&gt;ready</title>\n<path fill=\"none\" stroke=\"black\" stroke-width=\"2\" d=\"M54.38,-34.55C62.06,-34.55 70.67,-34.55 79.17,-34.55\"/>\n<polygon fill=\"black\" stroke=\"black\" stroke-width=\"2\" points=\"77.55,-38.05 87.55,-34.55 77.55,-31.05 77.55,-38.05\"/>\n</g>\n<!-- ready&#45;&gt;ready -->\n<g id=\"edge2\" class=\"edge\">\n<title>ready-&gt;ready</title>\n<path fill=\"none\" stroke=\"black\" d=\"M115.61,-68.16C115.76,-78.74 119.07,-87.09 125.55,-87.09 129.49,-87.09 132.27,-83.99 133.86,-79.17\"/>\n<polygon fill=\"black\" stroke=\"black\" points=\"137.27,-80.06 135.27,-69.65 130.35,-79.03 137.27,-80.06\"/>\n<text text-anchor=\"middle\" x=\"125.55\" y=\"-90.89\" font-family=\"Times New Roman,serif\" font-size=\"14.00\">pick_silicon, 1.0, -7.16</text>\n</g>\n</g>\n</svg>"
     },
     "metadata": {},
     "output_type": "display_data"
    },
    {
     "data": {
      "text/plain": "<IPython.core.display.SVG object>",
      "image/svg+xml": "<svg xmlns=\"http://www.w3.org/2000/svg\" xmlns:xlink=\"http://www.w3.org/1999/xlink\" width=\"195pt\" height=\"110pt\" viewBox=\"0.00 0.00 194.55 110.09\">\n<g id=\"graph0\" class=\"graph\" transform=\"scale(1 1) rotate(0) translate(4 106.09)\">\n<polygon fill=\"white\" stroke=\"none\" points=\"-4,4 -4,-106.09 190.55,-106.09 190.55,4 -4,4\"/>\n<!-- fake -->\n<g id=\"node1\" class=\"node\">\n<title>fake</title>\n</g>\n<!-- ready -->\n<g id=\"node2\" class=\"node\">\n<title>ready</title>\n<ellipse fill=\"none\" stroke=\"black\" cx=\"125.55\" cy=\"-34.55\" rx=\"30.59\" ry=\"30.59\"/>\n<ellipse fill=\"none\" stroke=\"black\" cx=\"125.55\" cy=\"-34.55\" rx=\"34.59\" ry=\"34.59\"/>\n<text text-anchor=\"middle\" x=\"125.55\" y=\"-30.85\" font-family=\"Times New Roman,serif\" font-size=\"14.00\">ready</text>\n</g>\n<!-- fake&#45;&gt;ready -->\n<g id=\"edge1\" class=\"edge\">\n<title>fake-&gt;ready</title>\n<path fill=\"none\" stroke=\"black\" stroke-width=\"2\" d=\"M54.38,-34.55C62.06,-34.55 70.67,-34.55 79.17,-34.55\"/>\n<polygon fill=\"black\" stroke=\"black\" stroke-width=\"2\" points=\"77.55,-38.05 87.55,-34.55 77.55,-31.05 77.55,-38.05\"/>\n</g>\n<!-- ready&#45;&gt;ready -->\n<g id=\"edge2\" class=\"edge\">\n<title>ready-&gt;ready</title>\n<path fill=\"none\" stroke=\"black\" d=\"M115.61,-68.16C115.76,-78.74 119.07,-87.09 125.55,-87.09 129.49,-87.09 132.27,-83.99 133.86,-79.17\"/>\n<polygon fill=\"black\" stroke=\"black\" points=\"137.27,-80.06 135.27,-69.65 130.35,-79.03 137.27,-80.06\"/>\n<text text-anchor=\"middle\" x=\"125.55\" y=\"-90.89\" font-family=\"Times New Roman,serif\" font-size=\"14.00\">pick_silicon, 1.0, -1.0</text>\n</g>\n</g>\n</svg>"
     },
     "metadata": {},
     "output_type": "display_data"
    },
    {
     "data": {
      "text/plain": "<IPython.core.display.SVG object>",
      "image/svg+xml": "<svg xmlns=\"http://www.w3.org/2000/svg\" xmlns:xlink=\"http://www.w3.org/1999/xlink\" width=\"195pt\" height=\"110pt\" viewBox=\"0.00 0.00 194.55 110.09\">\n<g id=\"graph0\" class=\"graph\" transform=\"scale(1 1) rotate(0) translate(4 106.09)\">\n<polygon fill=\"white\" stroke=\"none\" points=\"-4,4 -4,-106.09 190.55,-106.09 190.55,4 -4,4\"/>\n<!-- fake -->\n<g id=\"node1\" class=\"node\">\n<title>fake</title>\n</g>\n<!-- ready -->\n<g id=\"node2\" class=\"node\">\n<title>ready</title>\n<ellipse fill=\"none\" stroke=\"black\" cx=\"125.55\" cy=\"-34.55\" rx=\"30.59\" ry=\"30.59\"/>\n<ellipse fill=\"none\" stroke=\"black\" cx=\"125.55\" cy=\"-34.55\" rx=\"34.59\" ry=\"34.59\"/>\n<text text-anchor=\"middle\" x=\"125.55\" y=\"-30.85\" font-family=\"Times New Roman,serif\" font-size=\"14.00\">ready</text>\n</g>\n<!-- fake&#45;&gt;ready -->\n<g id=\"edge1\" class=\"edge\">\n<title>fake-&gt;ready</title>\n<path fill=\"none\" stroke=\"black\" stroke-width=\"2\" d=\"M54.38,-34.55C62.06,-34.55 70.67,-34.55 79.17,-34.55\"/>\n<polygon fill=\"black\" stroke=\"black\" stroke-width=\"2\" points=\"77.55,-38.05 87.55,-34.55 77.55,-31.05 77.55,-38.05\"/>\n</g>\n<!-- ready&#45;&gt;ready -->\n<g id=\"edge2\" class=\"edge\">\n<title>ready-&gt;ready</title>\n<path fill=\"none\" stroke=\"black\" d=\"M115.61,-68.16C115.76,-78.74 119.07,-87.09 125.55,-87.09 129.49,-87.09 132.27,-83.99 133.86,-79.17\"/>\n<polygon fill=\"black\" stroke=\"black\" points=\"137.27,-80.06 135.27,-69.65 130.35,-79.03 137.27,-80.06\"/>\n<text text-anchor=\"middle\" x=\"125.55\" y=\"-90.89\" font-family=\"Times New Roman,serif\" font-size=\"14.00\">pick_silicon, 1.0, -6.7</text>\n</g>\n</g>\n</svg>"
     },
     "metadata": {},
     "output_type": "display_data"
    },
    {
     "data": {
      "text/plain": "<IPython.core.display.SVG object>",
      "image/svg+xml": "<svg xmlns=\"http://www.w3.org/2000/svg\" xmlns:xlink=\"http://www.w3.org/1999/xlink\" width=\"195pt\" height=\"110pt\" viewBox=\"0.00 0.00 194.55 110.09\">\n<g id=\"graph0\" class=\"graph\" transform=\"scale(1 1) rotate(0) translate(4 106.09)\">\n<polygon fill=\"white\" stroke=\"none\" points=\"-4,4 -4,-106.09 190.55,-106.09 190.55,4 -4,4\"/>\n<!-- fake -->\n<g id=\"node1\" class=\"node\">\n<title>fake</title>\n</g>\n<!-- ready -->\n<g id=\"node2\" class=\"node\">\n<title>ready</title>\n<ellipse fill=\"none\" stroke=\"black\" cx=\"125.55\" cy=\"-34.55\" rx=\"30.59\" ry=\"30.59\"/>\n<ellipse fill=\"none\" stroke=\"black\" cx=\"125.55\" cy=\"-34.55\" rx=\"34.59\" ry=\"34.59\"/>\n<text text-anchor=\"middle\" x=\"125.55\" y=\"-30.85\" font-family=\"Times New Roman,serif\" font-size=\"14.00\">ready</text>\n</g>\n<!-- fake&#45;&gt;ready -->\n<g id=\"edge1\" class=\"edge\">\n<title>fake-&gt;ready</title>\n<path fill=\"none\" stroke=\"black\" stroke-width=\"2\" d=\"M54.38,-34.55C62.06,-34.55 70.67,-34.55 79.17,-34.55\"/>\n<polygon fill=\"black\" stroke=\"black\" stroke-width=\"2\" points=\"77.55,-38.05 87.55,-34.55 77.55,-31.05 77.55,-38.05\"/>\n</g>\n<!-- ready&#45;&gt;ready -->\n<g id=\"edge2\" class=\"edge\">\n<title>ready-&gt;ready</title>\n<path fill=\"none\" stroke=\"black\" d=\"M115.61,-68.16C115.76,-78.74 119.07,-87.09 125.55,-87.09 129.49,-87.09 132.27,-83.99 133.86,-79.17\"/>\n<polygon fill=\"black\" stroke=\"black\" points=\"137.27,-80.06 135.27,-69.65 130.35,-79.03 137.27,-80.06\"/>\n<text text-anchor=\"middle\" x=\"125.55\" y=\"-90.89\" font-family=\"Times New Roman,serif\" font-size=\"14.00\">pick_silicon, 1.0, -7.6</text>\n</g>\n</g>\n</svg>"
     },
     "metadata": {},
     "output_type": "display_data"
    },
    {
     "data": {
      "text/plain": "<IPython.core.display.SVG object>",
      "image/svg+xml": "<svg xmlns=\"http://www.w3.org/2000/svg\" xmlns:xlink=\"http://www.w3.org/1999/xlink\" width=\"202pt\" height=\"110pt\" viewBox=\"0.00 0.00 201.55 110.09\">\n<g id=\"graph0\" class=\"graph\" transform=\"scale(1 1) rotate(0) translate(4 106.09)\">\n<polygon fill=\"white\" stroke=\"none\" points=\"-4,4 -4,-106.09 197.55,-106.09 197.55,4 -4,4\"/>\n<!-- fake -->\n<g id=\"node1\" class=\"node\">\n<title>fake</title>\n</g>\n<!-- ready -->\n<g id=\"node2\" class=\"node\">\n<title>ready</title>\n<ellipse fill=\"none\" stroke=\"black\" cx=\"125.55\" cy=\"-34.55\" rx=\"30.59\" ry=\"30.59\"/>\n<ellipse fill=\"none\" stroke=\"black\" cx=\"125.55\" cy=\"-34.55\" rx=\"34.59\" ry=\"34.59\"/>\n<text text-anchor=\"middle\" x=\"125.55\" y=\"-30.85\" font-family=\"Times New Roman,serif\" font-size=\"14.00\">ready</text>\n</g>\n<!-- fake&#45;&gt;ready -->\n<g id=\"edge1\" class=\"edge\">\n<title>fake-&gt;ready</title>\n<path fill=\"none\" stroke=\"black\" stroke-width=\"2\" d=\"M54.38,-34.55C62.06,-34.55 70.67,-34.55 79.17,-34.55\"/>\n<polygon fill=\"black\" stroke=\"black\" stroke-width=\"2\" points=\"77.55,-38.05 87.55,-34.55 77.55,-31.05 77.55,-38.05\"/>\n</g>\n<!-- ready&#45;&gt;ready -->\n<g id=\"edge2\" class=\"edge\">\n<title>ready-&gt;ready</title>\n<path fill=\"none\" stroke=\"black\" d=\"M115.61,-68.16C115.76,-78.74 119.07,-87.09 125.55,-87.09 129.49,-87.09 132.27,-83.99 133.86,-79.17\"/>\n<polygon fill=\"black\" stroke=\"black\" points=\"137.27,-80.06 135.27,-69.65 130.35,-79.03 137.27,-80.06\"/>\n<text text-anchor=\"middle\" x=\"125.55\" y=\"-90.89\" font-family=\"Times New Roman,serif\" font-size=\"14.00\">pick_silicon, 1.0, -14.73</text>\n</g>\n</g>\n</svg>"
     },
     "metadata": {},
     "output_type": "display_data"
    }
   ],
   "source": [
    "def silicon_warehouse_service(name: str, action_reward) -> Service:\n",
    "    \"\"\"Build the silicon warehouse device.\"\"\"\n",
    "    return build_generic_service_one_state(\n",
    "        name,\n",
    "        {PICK_SILICON},\n",
    "        action_reward=action_reward\n",
    "    )\n",
    "\n",
    "service_silicon_china = silicon_warehouse_service(SILICON_SERVICE_NAME_CHINA, CHINA_REWARD)\n",
    "service_silicon_russia = silicon_warehouse_service(SILICON_SERVICE_NAME_RUSSIA, RUSSIA_REWARD + WAR_REWARD)\n",
    "service_silicon_norway = silicon_warehouse_service(SILICON_SERVICE_NAME_NORWAY, NORWAY_REWARD)\n",
    "service_silicon_usa = silicon_warehouse_service(SILICON_SERVICE_NAME_USA, USA_REWARD)\n",
    "service_silicon_brazil = silicon_warehouse_service(SILICON_SERVICE_NAME_BRAZIL, BRAZIL_REWARD)\n",
    "service_silicon_france = silicon_warehouse_service(SILICON_SERVICE_NAME_FRANCE, FRANCE_REWARD)\n",
    "service_silicon_malaysia = silicon_warehouse_service(SILICON_SERVICE_NAME_MALAYSIA, MALAYSIA_REWARD)\n",
    "render_service(service_silicon_china)\n",
    "render_service(service_silicon_russia)\n",
    "render_service(service_silicon_norway)\n",
    "render_service(service_silicon_usa)\n",
    "render_service(service_silicon_brazil)\n",
    "render_service(service_silicon_france)\n",
    "render_service(service_silicon_malaysia)"
   ]
  },
  {
   "cell_type": "code",
   "execution_count": 15,
   "metadata": {},
   "outputs": [
    {
     "data": {
      "text/plain": "<IPython.core.display.SVG object>",
      "image/svg+xml": "<svg xmlns=\"http://www.w3.org/2000/svg\" xmlns:xlink=\"http://www.w3.org/1999/xlink\" width=\"196pt\" height=\"110pt\" viewBox=\"0.00 0.00 195.55 110.09\">\n<g id=\"graph0\" class=\"graph\" transform=\"scale(1 1) rotate(0) translate(4 106.09)\">\n<polygon fill=\"white\" stroke=\"none\" points=\"-4,4 -4,-106.09 191.55,-106.09 191.55,4 -4,4\"/>\n<!-- fake -->\n<g id=\"node1\" class=\"node\">\n<title>fake</title>\n</g>\n<!-- ready -->\n<g id=\"node2\" class=\"node\">\n<title>ready</title>\n<ellipse fill=\"none\" stroke=\"black\" cx=\"125.55\" cy=\"-34.55\" rx=\"30.59\" ry=\"30.59\"/>\n<ellipse fill=\"none\" stroke=\"black\" cx=\"125.55\" cy=\"-34.55\" rx=\"34.59\" ry=\"34.59\"/>\n<text text-anchor=\"middle\" x=\"125.55\" y=\"-30.85\" font-family=\"Times New Roman,serif\" font-size=\"14.00\">ready</text>\n</g>\n<!-- fake&#45;&gt;ready -->\n<g id=\"edge1\" class=\"edge\">\n<title>fake-&gt;ready</title>\n<path fill=\"none\" stroke=\"black\" stroke-width=\"2\" d=\"M54.38,-34.55C62.06,-34.55 70.67,-34.55 79.17,-34.55\"/>\n<polygon fill=\"black\" stroke=\"black\" stroke-width=\"2\" points=\"77.55,-38.05 87.55,-34.55 77.55,-31.05 77.55,-38.05\"/>\n</g>\n<!-- ready&#45;&gt;ready -->\n<g id=\"edge2\" class=\"edge\">\n<title>ready-&gt;ready</title>\n<path fill=\"none\" stroke=\"black\" d=\"M115.61,-68.16C115.76,-78.74 119.07,-87.09 125.55,-87.09 129.49,-87.09 132.27,-83.99 133.86,-79.17\"/>\n<polygon fill=\"black\" stroke=\"black\" points=\"137.27,-80.06 135.27,-69.65 130.35,-79.03 137.27,-80.06\"/>\n<text text-anchor=\"middle\" x=\"125.55\" y=\"-90.89\" font-family=\"Times New Roman,serif\" font-size=\"14.00\">pick_wafer, 1.0, -10.1</text>\n</g>\n</g>\n</svg>"
     },
     "metadata": {},
     "output_type": "display_data"
    },
    {
     "data": {
      "text/plain": "<IPython.core.display.SVG object>",
      "image/svg+xml": "<svg xmlns=\"http://www.w3.org/2000/svg\" xmlns:xlink=\"http://www.w3.org/1999/xlink\" width=\"196pt\" height=\"110pt\" viewBox=\"0.00 0.00 195.55 110.09\">\n<g id=\"graph0\" class=\"graph\" transform=\"scale(1 1) rotate(0) translate(4 106.09)\">\n<polygon fill=\"white\" stroke=\"none\" points=\"-4,4 -4,-106.09 191.55,-106.09 191.55,4 -4,4\"/>\n<!-- fake -->\n<g id=\"node1\" class=\"node\">\n<title>fake</title>\n</g>\n<!-- ready -->\n<g id=\"node2\" class=\"node\">\n<title>ready</title>\n<ellipse fill=\"none\" stroke=\"black\" cx=\"125.55\" cy=\"-34.55\" rx=\"30.59\" ry=\"30.59\"/>\n<ellipse fill=\"none\" stroke=\"black\" cx=\"125.55\" cy=\"-34.55\" rx=\"34.59\" ry=\"34.59\"/>\n<text text-anchor=\"middle\" x=\"125.55\" y=\"-30.85\" font-family=\"Times New Roman,serif\" font-size=\"14.00\">ready</text>\n</g>\n<!-- fake&#45;&gt;ready -->\n<g id=\"edge1\" class=\"edge\">\n<title>fake-&gt;ready</title>\n<path fill=\"none\" stroke=\"black\" stroke-width=\"2\" d=\"M54.38,-34.55C62.06,-34.55 70.67,-34.55 79.17,-34.55\"/>\n<polygon fill=\"black\" stroke=\"black\" stroke-width=\"2\" points=\"77.55,-38.05 87.55,-34.55 77.55,-31.05 77.55,-38.05\"/>\n</g>\n<!-- ready&#45;&gt;ready -->\n<g id=\"edge2\" class=\"edge\">\n<title>ready-&gt;ready</title>\n<path fill=\"none\" stroke=\"black\" d=\"M115.61,-68.16C115.76,-78.74 119.07,-87.09 125.55,-87.09 129.49,-87.09 132.27,-83.99 133.86,-79.17\"/>\n<polygon fill=\"black\" stroke=\"black\" points=\"137.27,-80.06 135.27,-69.65 130.35,-79.03 137.27,-80.06\"/>\n<text text-anchor=\"middle\" x=\"125.55\" y=\"-90.89\" font-family=\"Times New Roman,serif\" font-size=\"14.00\">pick_wafer, 1.0, -10.7</text>\n</g>\n</g>\n</svg>"
     },
     "metadata": {},
     "output_type": "display_data"
    }
   ],
   "source": [
    "def wafer_warehouse_service(name: str, action_reward: float) -> Service:\n",
    "    \"\"\"Build the wafer warehouse device.\"\"\"\n",
    "    return build_generic_service_one_state(\n",
    "        name,\n",
    "        {PICK_WAFER},\n",
    "        action_reward=action_reward\n",
    "    )\n",
    "\n",
    "service_wafer_japan = wafer_warehouse_service(WAFER_SERVICE_NAME_JAPAN, JAPAN_REWARD)\n",
    "service_wafer_south_korea = wafer_warehouse_service(WAFER_SERVICE_NAME_SOUTH_KOREA, SOUTH_KOREA)\n",
    "render_service(service_wafer_japan)\n",
    "render_service(service_wafer_south_korea)"
   ]
  },
  {
   "cell_type": "code",
   "execution_count": 16,
   "metadata": {},
   "outputs": [
    {
     "data": {
      "text/plain": "<IPython.core.display.SVG object>",
      "image/svg+xml": "<svg xmlns=\"http://www.w3.org/2000/svg\" xmlns:xlink=\"http://www.w3.org/1999/xlink\" width=\"200pt\" height=\"110pt\" viewBox=\"0.00 0.00 200.05 110.09\">\n<g id=\"graph0\" class=\"graph\" transform=\"scale(1 1) rotate(0) translate(4 106.09)\">\n<polygon fill=\"white\" stroke=\"none\" points=\"-4,4 -4,-106.09 196.05,-106.09 196.05,4 -4,4\"/>\n<!-- fake -->\n<g id=\"node1\" class=\"node\">\n<title>fake</title>\n</g>\n<!-- ready -->\n<g id=\"node2\" class=\"node\">\n<title>ready</title>\n<ellipse fill=\"none\" stroke=\"black\" cx=\"125.55\" cy=\"-34.55\" rx=\"30.59\" ry=\"30.59\"/>\n<ellipse fill=\"none\" stroke=\"black\" cx=\"125.55\" cy=\"-34.55\" rx=\"34.59\" ry=\"34.59\"/>\n<text text-anchor=\"middle\" x=\"125.55\" y=\"-30.85\" font-family=\"Times New Roman,serif\" font-size=\"14.00\">ready</text>\n</g>\n<!-- fake&#45;&gt;ready -->\n<g id=\"edge1\" class=\"edge\">\n<title>fake-&gt;ready</title>\n<path fill=\"none\" stroke=\"black\" stroke-width=\"2\" d=\"M54.38,-34.55C62.06,-34.55 70.67,-34.55 79.17,-34.55\"/>\n<polygon fill=\"black\" stroke=\"black\" stroke-width=\"2\" points=\"77.55,-38.05 87.55,-34.55 77.55,-31.05 77.55,-38.05\"/>\n</g>\n<!-- ready&#45;&gt;ready -->\n<g id=\"edge2\" class=\"edge\">\n<title>ready-&gt;ready</title>\n<path fill=\"none\" stroke=\"black\" d=\"M115.61,-68.16C115.76,-78.74 119.07,-87.09 125.55,-87.09 129.49,-87.09 132.27,-83.99 133.86,-79.17\"/>\n<polygon fill=\"black\" stroke=\"black\" points=\"137.27,-80.06 135.27,-69.65 130.35,-79.03 137.27,-80.06\"/>\n<text text-anchor=\"middle\" x=\"125.55\" y=\"-90.89\" font-family=\"Times New Roman,serif\" font-size=\"14.00\">pick_boron, 1.0, -10.16</text>\n</g>\n</g>\n</svg>"
     },
     "metadata": {},
     "output_type": "display_data"
    },
    {
     "data": {
      "text/plain": "<IPython.core.display.SVG object>",
      "image/svg+xml": "<svg xmlns=\"http://www.w3.org/2000/svg\" xmlns:xlink=\"http://www.w3.org/1999/xlink\" width=\"194pt\" height=\"110pt\" viewBox=\"0.00 0.00 193.55 110.09\">\n<g id=\"graph0\" class=\"graph\" transform=\"scale(1 1) rotate(0) translate(4 106.09)\">\n<polygon fill=\"white\" stroke=\"none\" points=\"-4,4 -4,-106.09 189.55,-106.09 189.55,4 -4,4\"/>\n<!-- fake -->\n<g id=\"node1\" class=\"node\">\n<title>fake</title>\n</g>\n<!-- ready -->\n<g id=\"node2\" class=\"node\">\n<title>ready</title>\n<ellipse fill=\"none\" stroke=\"black\" cx=\"125.55\" cy=\"-34.55\" rx=\"30.59\" ry=\"30.59\"/>\n<ellipse fill=\"none\" stroke=\"black\" cx=\"125.55\" cy=\"-34.55\" rx=\"34.59\" ry=\"34.59\"/>\n<text text-anchor=\"middle\" x=\"125.55\" y=\"-30.85\" font-family=\"Times New Roman,serif\" font-size=\"14.00\">ready</text>\n</g>\n<!-- fake&#45;&gt;ready -->\n<g id=\"edge1\" class=\"edge\">\n<title>fake-&gt;ready</title>\n<path fill=\"none\" stroke=\"black\" stroke-width=\"2\" d=\"M54.38,-34.55C62.06,-34.55 70.67,-34.55 79.17,-34.55\"/>\n<polygon fill=\"black\" stroke=\"black\" stroke-width=\"2\" points=\"77.55,-38.05 87.55,-34.55 77.55,-31.05 77.55,-38.05\"/>\n</g>\n<!-- ready&#45;&gt;ready -->\n<g id=\"edge2\" class=\"edge\">\n<title>ready-&gt;ready</title>\n<path fill=\"none\" stroke=\"black\" d=\"M115.61,-68.16C115.76,-78.74 119.07,-87.09 125.55,-87.09 129.49,-87.09 132.27,-83.99 133.86,-79.17\"/>\n<polygon fill=\"black\" stroke=\"black\" points=\"137.27,-80.06 135.27,-69.65 130.35,-79.03 137.27,-80.06\"/>\n<text text-anchor=\"middle\" x=\"125.55\" y=\"-90.89\" font-family=\"Times New Roman,serif\" font-size=\"14.00\">pick_boron, 1.0, -1.0</text>\n</g>\n</g>\n</svg>"
     },
     "metadata": {},
     "output_type": "display_data"
    },
    {
     "data": {
      "text/plain": "<IPython.core.display.SVG object>",
      "image/svg+xml": "<svg xmlns=\"http://www.w3.org/2000/svg\" xmlns:xlink=\"http://www.w3.org/1999/xlink\" width=\"197pt\" height=\"110pt\" viewBox=\"0.00 0.00 197.05 110.09\">\n<g id=\"graph0\" class=\"graph\" transform=\"scale(1 1) rotate(0) translate(4 106.09)\">\n<polygon fill=\"white\" stroke=\"none\" points=\"-4,4 -4,-106.09 193.05,-106.09 193.05,4 -4,4\"/>\n<!-- fake -->\n<g id=\"node1\" class=\"node\">\n<title>fake</title>\n</g>\n<!-- ready -->\n<g id=\"node2\" class=\"node\">\n<title>ready</title>\n<ellipse fill=\"none\" stroke=\"black\" cx=\"125.55\" cy=\"-34.55\" rx=\"30.59\" ry=\"30.59\"/>\n<ellipse fill=\"none\" stroke=\"black\" cx=\"125.55\" cy=\"-34.55\" rx=\"34.59\" ry=\"34.59\"/>\n<text text-anchor=\"middle\" x=\"125.55\" y=\"-30.85\" font-family=\"Times New Roman,serif\" font-size=\"14.00\">ready</text>\n</g>\n<!-- fake&#45;&gt;ready -->\n<g id=\"edge1\" class=\"edge\">\n<title>fake-&gt;ready</title>\n<path fill=\"none\" stroke=\"black\" stroke-width=\"2\" d=\"M54.38,-34.55C62.06,-34.55 70.67,-34.55 79.17,-34.55\"/>\n<polygon fill=\"black\" stroke=\"black\" stroke-width=\"2\" points=\"77.55,-38.05 87.55,-34.55 77.55,-31.05 77.55,-38.05\"/>\n</g>\n<!-- ready&#45;&gt;ready -->\n<g id=\"edge2\" class=\"edge\">\n<title>ready-&gt;ready</title>\n<path fill=\"none\" stroke=\"black\" d=\"M115.61,-68.16C115.76,-78.74 119.07,-87.09 125.55,-87.09 129.49,-87.09 132.27,-83.99 133.86,-79.17\"/>\n<polygon fill=\"black\" stroke=\"black\" points=\"137.27,-80.06 135.27,-69.65 130.35,-79.03 137.27,-80.06\"/>\n<text text-anchor=\"middle\" x=\"125.55\" y=\"-90.89\" font-family=\"Times New Roman,serif\" font-size=\"14.00\">pick_boron, 1.0, -10.4</text>\n</g>\n</g>\n</svg>"
     },
     "metadata": {},
     "output_type": "display_data"
    },
    {
     "data": {
      "text/plain": "<IPython.core.display.SVG object>",
      "image/svg+xml": "<svg xmlns=\"http://www.w3.org/2000/svg\" xmlns:xlink=\"http://www.w3.org/1999/xlink\" width=\"194pt\" height=\"110pt\" viewBox=\"0.00 0.00 193.55 110.09\">\n<g id=\"graph0\" class=\"graph\" transform=\"scale(1 1) rotate(0) translate(4 106.09)\">\n<polygon fill=\"white\" stroke=\"none\" points=\"-4,4 -4,-106.09 189.55,-106.09 189.55,4 -4,4\"/>\n<!-- fake -->\n<g id=\"node1\" class=\"node\">\n<title>fake</title>\n</g>\n<!-- ready -->\n<g id=\"node2\" class=\"node\">\n<title>ready</title>\n<ellipse fill=\"none\" stroke=\"black\" cx=\"125.55\" cy=\"-34.55\" rx=\"30.59\" ry=\"30.59\"/>\n<ellipse fill=\"none\" stroke=\"black\" cx=\"125.55\" cy=\"-34.55\" rx=\"34.59\" ry=\"34.59\"/>\n<text text-anchor=\"middle\" x=\"125.55\" y=\"-30.85\" font-family=\"Times New Roman,serif\" font-size=\"14.00\">ready</text>\n</g>\n<!-- fake&#45;&gt;ready -->\n<g id=\"edge1\" class=\"edge\">\n<title>fake-&gt;ready</title>\n<path fill=\"none\" stroke=\"black\" stroke-width=\"2\" d=\"M54.38,-34.55C62.06,-34.55 70.67,-34.55 79.17,-34.55\"/>\n<polygon fill=\"black\" stroke=\"black\" stroke-width=\"2\" points=\"77.55,-38.05 87.55,-34.55 77.55,-31.05 77.55,-38.05\"/>\n</g>\n<!-- ready&#45;&gt;ready -->\n<g id=\"edge2\" class=\"edge\">\n<title>ready-&gt;ready</title>\n<path fill=\"none\" stroke=\"black\" d=\"M115.61,-68.16C115.76,-78.74 119.07,-87.09 125.55,-87.09 129.49,-87.09 132.27,-83.99 133.86,-79.17\"/>\n<polygon fill=\"black\" stroke=\"black\" points=\"137.27,-80.06 135.27,-69.65 130.35,-79.03 137.27,-80.06\"/>\n<text text-anchor=\"middle\" x=\"125.55\" y=\"-90.89\" font-family=\"Times New Roman,serif\" font-size=\"14.00\">pick_boron, 1.0, -7.8</text>\n</g>\n</g>\n</svg>"
     },
     "metadata": {},
     "output_type": "display_data"
    },
    {
     "data": {
      "text/plain": "<IPython.core.display.SVG object>",
      "image/svg+xml": "<svg xmlns=\"http://www.w3.org/2000/svg\" xmlns:xlink=\"http://www.w3.org/1999/xlink\" width=\"197pt\" height=\"110pt\" viewBox=\"0.00 0.00 197.05 110.09\">\n<g id=\"graph0\" class=\"graph\" transform=\"scale(1 1) rotate(0) translate(4 106.09)\">\n<polygon fill=\"white\" stroke=\"none\" points=\"-4,4 -4,-106.09 193.05,-106.09 193.05,4 -4,4\"/>\n<!-- fake -->\n<g id=\"node1\" class=\"node\">\n<title>fake</title>\n</g>\n<!-- ready -->\n<g id=\"node2\" class=\"node\">\n<title>ready</title>\n<ellipse fill=\"none\" stroke=\"black\" cx=\"125.55\" cy=\"-34.55\" rx=\"30.59\" ry=\"30.59\"/>\n<ellipse fill=\"none\" stroke=\"black\" cx=\"125.55\" cy=\"-34.55\" rx=\"34.59\" ry=\"34.59\"/>\n<text text-anchor=\"middle\" x=\"125.55\" y=\"-30.85\" font-family=\"Times New Roman,serif\" font-size=\"14.00\">ready</text>\n</g>\n<!-- fake&#45;&gt;ready -->\n<g id=\"edge1\" class=\"edge\">\n<title>fake-&gt;ready</title>\n<path fill=\"none\" stroke=\"black\" stroke-width=\"2\" d=\"M54.38,-34.55C62.06,-34.55 70.67,-34.55 79.17,-34.55\"/>\n<polygon fill=\"black\" stroke=\"black\" stroke-width=\"2\" points=\"77.55,-38.05 87.55,-34.55 77.55,-31.05 77.55,-38.05\"/>\n</g>\n<!-- ready&#45;&gt;ready -->\n<g id=\"edge2\" class=\"edge\">\n<title>ready-&gt;ready</title>\n<path fill=\"none\" stroke=\"black\" d=\"M115.61,-68.16C115.76,-78.74 119.07,-87.09 125.55,-87.09 129.49,-87.09 132.27,-83.99 133.86,-79.17\"/>\n<polygon fill=\"black\" stroke=\"black\" points=\"137.27,-80.06 135.27,-69.65 130.35,-79.03 137.27,-80.06\"/>\n<text text-anchor=\"middle\" x=\"125.55\" y=\"-90.89\" font-family=\"Times New Roman,serif\" font-size=\"14.00\">pick_boron, 1.0, -11.7</text>\n</g>\n</g>\n</svg>"
     },
     "metadata": {},
     "output_type": "display_data"
    },
    {
     "data": {
      "text/plain": "<IPython.core.display.SVG object>",
      "image/svg+xml": "<svg xmlns=\"http://www.w3.org/2000/svg\" xmlns:xlink=\"http://www.w3.org/1999/xlink\" width=\"194pt\" height=\"110pt\" viewBox=\"0.00 0.00 193.55 110.09\">\n<g id=\"graph0\" class=\"graph\" transform=\"scale(1 1) rotate(0) translate(4 106.09)\">\n<polygon fill=\"white\" stroke=\"none\" points=\"-4,4 -4,-106.09 189.55,-106.09 189.55,4 -4,4\"/>\n<!-- fake -->\n<g id=\"node1\" class=\"node\">\n<title>fake</title>\n</g>\n<!-- ready -->\n<g id=\"node2\" class=\"node\">\n<title>ready</title>\n<ellipse fill=\"none\" stroke=\"black\" cx=\"125.55\" cy=\"-34.55\" rx=\"30.59\" ry=\"30.59\"/>\n<ellipse fill=\"none\" stroke=\"black\" cx=\"125.55\" cy=\"-34.55\" rx=\"34.59\" ry=\"34.59\"/>\n<text text-anchor=\"middle\" x=\"125.55\" y=\"-30.85\" font-family=\"Times New Roman,serif\" font-size=\"14.00\">ready</text>\n</g>\n<!-- fake&#45;&gt;ready -->\n<g id=\"edge1\" class=\"edge\">\n<title>fake-&gt;ready</title>\n<path fill=\"none\" stroke=\"black\" stroke-width=\"2\" d=\"M54.38,-34.55C62.06,-34.55 70.67,-34.55 79.17,-34.55\"/>\n<polygon fill=\"black\" stroke=\"black\" stroke-width=\"2\" points=\"77.55,-38.05 87.55,-34.55 77.55,-31.05 77.55,-38.05\"/>\n</g>\n<!-- ready&#45;&gt;ready -->\n<g id=\"edge2\" class=\"edge\">\n<title>ready-&gt;ready</title>\n<path fill=\"none\" stroke=\"black\" d=\"M115.61,-68.16C115.76,-78.74 119.07,-87.09 125.55,-87.09 129.49,-87.09 132.27,-83.99 133.86,-79.17\"/>\n<polygon fill=\"black\" stroke=\"black\" points=\"137.27,-80.06 135.27,-69.65 130.35,-79.03 137.27,-80.06\"/>\n<text text-anchor=\"middle\" x=\"125.55\" y=\"-90.89\" font-family=\"Times New Roman,serif\" font-size=\"14.00\">pick_boron, 1.0, -6.8</text>\n</g>\n</g>\n</svg>"
     },
     "metadata": {},
     "output_type": "display_data"
    },
    {
     "data": {
      "text/plain": "<IPython.core.display.SVG object>",
      "image/svg+xml": "<svg xmlns=\"http://www.w3.org/2000/svg\" xmlns:xlink=\"http://www.w3.org/1999/xlink\" width=\"197pt\" height=\"110pt\" viewBox=\"0.00 0.00 197.05 110.09\">\n<g id=\"graph0\" class=\"graph\" transform=\"scale(1 1) rotate(0) translate(4 106.09)\">\n<polygon fill=\"white\" stroke=\"none\" points=\"-4,4 -4,-106.09 193.05,-106.09 193.05,4 -4,4\"/>\n<!-- fake -->\n<g id=\"node1\" class=\"node\">\n<title>fake</title>\n</g>\n<!-- ready -->\n<g id=\"node2\" class=\"node\">\n<title>ready</title>\n<ellipse fill=\"none\" stroke=\"black\" cx=\"125.55\" cy=\"-34.55\" rx=\"30.59\" ry=\"30.59\"/>\n<ellipse fill=\"none\" stroke=\"black\" cx=\"125.55\" cy=\"-34.55\" rx=\"34.59\" ry=\"34.59\"/>\n<text text-anchor=\"middle\" x=\"125.55\" y=\"-30.85\" font-family=\"Times New Roman,serif\" font-size=\"14.00\">ready</text>\n</g>\n<!-- fake&#45;&gt;ready -->\n<g id=\"edge1\" class=\"edge\">\n<title>fake-&gt;ready</title>\n<path fill=\"none\" stroke=\"black\" stroke-width=\"2\" d=\"M54.38,-34.55C62.06,-34.55 70.67,-34.55 79.17,-34.55\"/>\n<polygon fill=\"black\" stroke=\"black\" stroke-width=\"2\" points=\"77.55,-38.05 87.55,-34.55 77.55,-31.05 77.55,-38.05\"/>\n</g>\n<!-- ready&#45;&gt;ready -->\n<g id=\"edge2\" class=\"edge\">\n<title>ready-&gt;ready</title>\n<path fill=\"none\" stroke=\"black\" d=\"M115.61,-68.16C115.76,-78.74 119.07,-87.09 125.55,-87.09 129.49,-87.09 132.27,-83.99 133.86,-79.17\"/>\n<polygon fill=\"black\" stroke=\"black\" points=\"137.27,-80.06 135.27,-69.65 130.35,-79.03 137.27,-80.06\"/>\n<text text-anchor=\"middle\" x=\"125.55\" y=\"-90.89\" font-family=\"Times New Roman,serif\" font-size=\"14.00\">pick_boron, 1.0, -8.55</text>\n</g>\n</g>\n</svg>"
     },
     "metadata": {},
     "output_type": "display_data"
    },
    {
     "data": {
      "text/plain": "<IPython.core.display.SVG object>",
      "image/svg+xml": "<svg xmlns=\"http://www.w3.org/2000/svg\" xmlns:xlink=\"http://www.w3.org/1999/xlink\" width=\"200pt\" height=\"110pt\" viewBox=\"0.00 0.00 200.05 110.09\">\n<g id=\"graph0\" class=\"graph\" transform=\"scale(1 1) rotate(0) translate(4 106.09)\">\n<polygon fill=\"white\" stroke=\"none\" points=\"-4,4 -4,-106.09 196.05,-106.09 196.05,4 -4,4\"/>\n<!-- fake -->\n<g id=\"node1\" class=\"node\">\n<title>fake</title>\n</g>\n<!-- ready -->\n<g id=\"node2\" class=\"node\">\n<title>ready</title>\n<ellipse fill=\"none\" stroke=\"black\" cx=\"125.55\" cy=\"-34.55\" rx=\"30.59\" ry=\"30.59\"/>\n<ellipse fill=\"none\" stroke=\"black\" cx=\"125.55\" cy=\"-34.55\" rx=\"34.59\" ry=\"34.59\"/>\n<text text-anchor=\"middle\" x=\"125.55\" y=\"-30.85\" font-family=\"Times New Roman,serif\" font-size=\"14.00\">ready</text>\n</g>\n<!-- fake&#45;&gt;ready -->\n<g id=\"edge1\" class=\"edge\">\n<title>fake-&gt;ready</title>\n<path fill=\"none\" stroke=\"black\" stroke-width=\"2\" d=\"M54.38,-34.55C62.06,-34.55 70.67,-34.55 79.17,-34.55\"/>\n<polygon fill=\"black\" stroke=\"black\" stroke-width=\"2\" points=\"77.55,-38.05 87.55,-34.55 77.55,-31.05 77.55,-38.05\"/>\n</g>\n<!-- ready&#45;&gt;ready -->\n<g id=\"edge2\" class=\"edge\">\n<title>ready-&gt;ready</title>\n<path fill=\"none\" stroke=\"black\" d=\"M115.61,-68.16C115.76,-78.74 119.07,-87.09 125.55,-87.09 129.49,-87.09 132.27,-83.99 133.86,-79.17\"/>\n<polygon fill=\"black\" stroke=\"black\" points=\"137.27,-80.06 135.27,-69.65 130.35,-79.03 137.27,-80.06\"/>\n<text text-anchor=\"middle\" x=\"125.55\" y=\"-90.89\" font-family=\"Times New Roman,serif\" font-size=\"14.00\">pick_boron, 1.0, -12.12</text>\n</g>\n</g>\n</svg>"
     },
     "metadata": {},
     "output_type": "display_data"
    }
   ],
   "source": [
    "def boron_warehouse_service(name: str, action_reward: float) -> Service:\n",
    "    \"\"\"Build the boron warehouse device.\"\"\"\n",
    "    return build_generic_service_one_state(\n",
    "        name,\n",
    "        {PICK_BORON},\n",
    "        action_reward=action_reward\n",
    "    )\n",
    "\n",
    "service_boron_turkey = boron_warehouse_service(BORON_SERVICE_NAME_TURKEY, TURKEY_REWARD)\n",
    "service_boron_usa = boron_warehouse_service(BORON_SERVICE_NAME_USA, USA_REWARD)\n",
    "service_boron_kazakhstan = boron_warehouse_service(BORON_SERVICE_NAME_KAZAKHSTAN, KAZAKHSTAN_REWARD)\n",
    "service_boron_chile = boron_warehouse_service(BORON_SERVICE_NAME_CHILE, CHILE_REWARD)\n",
    "service_boron_china = boron_warehouse_service(BORON_SERVICE_NAME_CHINA, CHINA_REWARD)\n",
    "service_boron_bolivia = boron_warehouse_service(BORON_SERVICE_NAME_BOLIVIA, BOLIVIA_REWARD)\n",
    "service_boron_argentina = boron_warehouse_service(BORON_SERVICE_NAME_ARGENTINA, ARGENTINA_REWARD)\n",
    "service_boron_russia = boron_warehouse_service(BORON_SERVICE_NAME_RUSSIA, RUSSIA_REWARD + WAR_REWARD)\n",
    "render_service(service_boron_turkey)\n",
    "render_service(service_boron_usa)\n",
    "render_service(service_boron_kazakhstan)\n",
    "render_service(service_boron_chile)\n",
    "render_service(service_boron_china)\n",
    "render_service(service_boron_bolivia)\n",
    "render_service(service_boron_argentina)\n",
    "render_service(service_boron_russia)"
   ]
  },
  {
   "cell_type": "code",
   "execution_count": 17,
   "metadata": {},
   "outputs": [
    {
     "data": {
      "text/plain": "<IPython.core.display.SVG object>",
      "image/svg+xml": "<svg xmlns=\"http://www.w3.org/2000/svg\" xmlns:xlink=\"http://www.w3.org/1999/xlink\" width=\"204pt\" height=\"110pt\" viewBox=\"0.00 0.00 203.55 110.09\">\n<g id=\"graph0\" class=\"graph\" transform=\"scale(1 1) rotate(0) translate(4 106.09)\">\n<polygon fill=\"white\" stroke=\"none\" points=\"-4,4 -4,-106.09 199.55,-106.09 199.55,4 -4,4\"/>\n<!-- fake -->\n<g id=\"node1\" class=\"node\">\n<title>fake</title>\n</g>\n<!-- ready -->\n<g id=\"node2\" class=\"node\">\n<title>ready</title>\n<ellipse fill=\"none\" stroke=\"black\" cx=\"125.55\" cy=\"-34.55\" rx=\"30.59\" ry=\"30.59\"/>\n<ellipse fill=\"none\" stroke=\"black\" cx=\"125.55\" cy=\"-34.55\" rx=\"34.59\" ry=\"34.59\"/>\n<text text-anchor=\"middle\" x=\"125.55\" y=\"-30.85\" font-family=\"Times New Roman,serif\" font-size=\"14.00\">ready</text>\n</g>\n<!-- fake&#45;&gt;ready -->\n<g id=\"edge1\" class=\"edge\">\n<title>fake-&gt;ready</title>\n<path fill=\"none\" stroke=\"black\" stroke-width=\"2\" d=\"M54.38,-34.55C62.06,-34.55 70.67,-34.55 79.17,-34.55\"/>\n<polygon fill=\"black\" stroke=\"black\" stroke-width=\"2\" points=\"77.55,-38.05 87.55,-34.55 77.55,-31.05 77.55,-38.05\"/>\n</g>\n<!-- ready&#45;&gt;ready -->\n<g id=\"edge2\" class=\"edge\">\n<title>ready-&gt;ready</title>\n<path fill=\"none\" stroke=\"black\" d=\"M115.61,-68.16C115.76,-78.74 119.07,-87.09 125.55,-87.09 129.49,-87.09 132.27,-83.99 133.86,-79.17\"/>\n<polygon fill=\"black\" stroke=\"black\" points=\"137.27,-80.06 135.27,-69.65 130.35,-79.03 137.27,-80.06\"/>\n<text text-anchor=\"middle\" x=\"125.55\" y=\"-90.89\" font-family=\"Times New Roman,serif\" font-size=\"14.00\">pick_phosphor, 1.0, -7.9</text>\n</g>\n</g>\n</svg>"
     },
     "metadata": {},
     "output_type": "display_data"
    },
    {
     "data": {
      "text/plain": "<IPython.core.display.SVG object>",
      "image/svg+xml": "<svg xmlns=\"http://www.w3.org/2000/svg\" xmlns:xlink=\"http://www.w3.org/1999/xlink\" width=\"207pt\" height=\"110pt\" viewBox=\"0.00 0.00 207.05 110.09\">\n<g id=\"graph0\" class=\"graph\" transform=\"scale(1 1) rotate(0) translate(4 106.09)\">\n<polygon fill=\"white\" stroke=\"none\" points=\"-4,4 -4,-106.09 203.05,-106.09 203.05,4 -4,4\"/>\n<!-- fake -->\n<g id=\"node1\" class=\"node\">\n<title>fake</title>\n</g>\n<!-- ready -->\n<g id=\"node2\" class=\"node\">\n<title>ready</title>\n<ellipse fill=\"none\" stroke=\"black\" cx=\"125.55\" cy=\"-34.55\" rx=\"30.59\" ry=\"30.59\"/>\n<ellipse fill=\"none\" stroke=\"black\" cx=\"125.55\" cy=\"-34.55\" rx=\"34.59\" ry=\"34.59\"/>\n<text text-anchor=\"middle\" x=\"125.55\" y=\"-30.85\" font-family=\"Times New Roman,serif\" font-size=\"14.00\">ready</text>\n</g>\n<!-- fake&#45;&gt;ready -->\n<g id=\"edge1\" class=\"edge\">\n<title>fake-&gt;ready</title>\n<path fill=\"none\" stroke=\"black\" stroke-width=\"2\" d=\"M54.38,-34.55C62.06,-34.55 70.67,-34.55 79.17,-34.55\"/>\n<polygon fill=\"black\" stroke=\"black\" stroke-width=\"2\" points=\"77.55,-38.05 87.55,-34.55 77.55,-31.05 77.55,-38.05\"/>\n</g>\n<!-- ready&#45;&gt;ready -->\n<g id=\"edge2\" class=\"edge\">\n<title>ready-&gt;ready</title>\n<path fill=\"none\" stroke=\"black\" d=\"M115.61,-68.16C115.76,-78.74 119.07,-87.09 125.55,-87.09 129.49,-87.09 132.27,-83.99 133.86,-79.17\"/>\n<polygon fill=\"black\" stroke=\"black\" points=\"137.27,-80.06 135.27,-69.65 130.35,-79.03 137.27,-80.06\"/>\n<text text-anchor=\"middle\" x=\"125.55\" y=\"-90.89\" font-family=\"Times New Roman,serif\" font-size=\"14.00\">pick_phosphor, 1.0, -11.7</text>\n</g>\n</g>\n</svg>"
     },
     "metadata": {},
     "output_type": "display_data"
    },
    {
     "data": {
      "text/plain": "<IPython.core.display.SVG object>",
      "image/svg+xml": "<svg xmlns=\"http://www.w3.org/2000/svg\" xmlns:xlink=\"http://www.w3.org/1999/xlink\" width=\"204pt\" height=\"110pt\" viewBox=\"0.00 0.00 203.55 110.09\">\n<g id=\"graph0\" class=\"graph\" transform=\"scale(1 1) rotate(0) translate(4 106.09)\">\n<polygon fill=\"white\" stroke=\"none\" points=\"-4,4 -4,-106.09 199.55,-106.09 199.55,4 -4,4\"/>\n<!-- fake -->\n<g id=\"node1\" class=\"node\">\n<title>fake</title>\n</g>\n<!-- ready -->\n<g id=\"node2\" class=\"node\">\n<title>ready</title>\n<ellipse fill=\"none\" stroke=\"black\" cx=\"125.55\" cy=\"-34.55\" rx=\"30.59\" ry=\"30.59\"/>\n<ellipse fill=\"none\" stroke=\"black\" cx=\"125.55\" cy=\"-34.55\" rx=\"34.59\" ry=\"34.59\"/>\n<text text-anchor=\"middle\" x=\"125.55\" y=\"-30.85\" font-family=\"Times New Roman,serif\" font-size=\"14.00\">ready</text>\n</g>\n<!-- fake&#45;&gt;ready -->\n<g id=\"edge1\" class=\"edge\">\n<title>fake-&gt;ready</title>\n<path fill=\"none\" stroke=\"black\" stroke-width=\"2\" d=\"M54.38,-34.55C62.06,-34.55 70.67,-34.55 79.17,-34.55\"/>\n<polygon fill=\"black\" stroke=\"black\" stroke-width=\"2\" points=\"77.55,-38.05 87.55,-34.55 77.55,-31.05 77.55,-38.05\"/>\n</g>\n<!-- ready&#45;&gt;ready -->\n<g id=\"edge2\" class=\"edge\">\n<title>ready-&gt;ready</title>\n<path fill=\"none\" stroke=\"black\" d=\"M115.61,-68.16C115.76,-78.74 119.07,-87.09 125.55,-87.09 129.49,-87.09 132.27,-83.99 133.86,-79.17\"/>\n<polygon fill=\"black\" stroke=\"black\" points=\"137.27,-80.06 135.27,-69.65 130.35,-79.03 137.27,-80.06\"/>\n<text text-anchor=\"middle\" x=\"125.55\" y=\"-90.89\" font-family=\"Times New Roman,serif\" font-size=\"14.00\">pick_phosphor, 1.0, -1.0</text>\n</g>\n</g>\n</svg>"
     },
     "metadata": {},
     "output_type": "display_data"
    }
   ],
   "source": [
    "def phosphor_warehouse_service(name: str, action_reward: float) -> Service:\n",
    "    \"\"\"Build the phosphor warehouse device.\"\"\"\n",
    "    return build_generic_service_one_state(\n",
    "        name,\n",
    "        {PICK_PHOSPHOR},\n",
    "        action_reward=action_reward\n",
    "    )\n",
    "\n",
    "service_phosphor_morocco = phosphor_warehouse_service(PHOSPHOR_SERVICE_NAME_MOROCCO, MOROCCO_REWARD)\n",
    "service_phosphor_china = phosphor_warehouse_service(PHOSPHOR_SERVICE_NAME_CHINA, CHINA_REWARD)\n",
    "service_phosphor_usa = phosphor_warehouse_service(PHOSPHOR_SERVICE_NAME_USA, USA_REWARD)\n",
    "render_service(service_phosphor_morocco)\n",
    "render_service(service_phosphor_china)\n",
    "render_service(service_phosphor_usa)"
   ]
  },
  {
   "cell_type": "code",
   "execution_count": 18,
   "metadata": {},
   "outputs": [
    {
     "data": {
      "text/plain": "<IPython.core.display.SVG object>",
      "image/svg+xml": "<svg xmlns=\"http://www.w3.org/2000/svg\" xmlns:xlink=\"http://www.w3.org/1999/xlink\" width=\"207pt\" height=\"110pt\" viewBox=\"0.00 0.00 206.55 110.09\">\n<g id=\"graph0\" class=\"graph\" transform=\"scale(1 1) rotate(0) translate(4 106.09)\">\n<polygon fill=\"white\" stroke=\"none\" points=\"-4,4 -4,-106.09 202.55,-106.09 202.55,4 -4,4\"/>\n<!-- fake -->\n<g id=\"node1\" class=\"node\">\n<title>fake</title>\n</g>\n<!-- ready -->\n<g id=\"node2\" class=\"node\">\n<title>ready</title>\n<ellipse fill=\"none\" stroke=\"black\" cx=\"125.55\" cy=\"-34.55\" rx=\"30.59\" ry=\"30.59\"/>\n<ellipse fill=\"none\" stroke=\"black\" cx=\"125.55\" cy=\"-34.55\" rx=\"34.59\" ry=\"34.59\"/>\n<text text-anchor=\"middle\" x=\"125.55\" y=\"-30.85\" font-family=\"Times New Roman,serif\" font-size=\"14.00\">ready</text>\n</g>\n<!-- fake&#45;&gt;ready -->\n<g id=\"edge1\" class=\"edge\">\n<title>fake-&gt;ready</title>\n<path fill=\"none\" stroke=\"black\" stroke-width=\"2\" d=\"M54.38,-34.55C62.06,-34.55 70.67,-34.55 79.17,-34.55\"/>\n<polygon fill=\"black\" stroke=\"black\" stroke-width=\"2\" points=\"77.55,-38.05 87.55,-34.55 77.55,-31.05 77.55,-38.05\"/>\n</g>\n<!-- ready&#45;&gt;ready -->\n<g id=\"edge2\" class=\"edge\">\n<title>ready-&gt;ready</title>\n<path fill=\"none\" stroke=\"black\" d=\"M115.61,-68.16C115.76,-78.74 119.07,-87.09 125.55,-87.09 129.49,-87.09 132.27,-83.99 133.86,-79.17\"/>\n<polygon fill=\"black\" stroke=\"black\" points=\"137.27,-80.06 135.27,-69.65 130.35,-79.03 137.27,-80.06\"/>\n<text text-anchor=\"middle\" x=\"125.55\" y=\"-90.89\" font-family=\"Times New Roman,serif\" font-size=\"14.00\">pick_aluminum, 1.0, -14.0</text>\n</g>\n</g>\n</svg>"
     },
     "metadata": {},
     "output_type": "display_data"
    },
    {
     "data": {
      "text/plain": "<IPython.core.display.SVG object>",
      "image/svg+xml": "<svg xmlns=\"http://www.w3.org/2000/svg\" xmlns:xlink=\"http://www.w3.org/1999/xlink\" width=\"207pt\" height=\"110pt\" viewBox=\"0.00 0.00 206.55 110.09\">\n<g id=\"graph0\" class=\"graph\" transform=\"scale(1 1) rotate(0) translate(4 106.09)\">\n<polygon fill=\"white\" stroke=\"none\" points=\"-4,4 -4,-106.09 202.55,-106.09 202.55,4 -4,4\"/>\n<!-- fake -->\n<g id=\"node1\" class=\"node\">\n<title>fake</title>\n</g>\n<!-- ready -->\n<g id=\"node2\" class=\"node\">\n<title>ready</title>\n<ellipse fill=\"none\" stroke=\"black\" cx=\"125.55\" cy=\"-34.55\" rx=\"30.59\" ry=\"30.59\"/>\n<ellipse fill=\"none\" stroke=\"black\" cx=\"125.55\" cy=\"-34.55\" rx=\"34.59\" ry=\"34.59\"/>\n<text text-anchor=\"middle\" x=\"125.55\" y=\"-30.85\" font-family=\"Times New Roman,serif\" font-size=\"14.00\">ready</text>\n</g>\n<!-- fake&#45;&gt;ready -->\n<g id=\"edge1\" class=\"edge\">\n<title>fake-&gt;ready</title>\n<path fill=\"none\" stroke=\"black\" stroke-width=\"2\" d=\"M54.38,-34.55C62.06,-34.55 70.67,-34.55 79.17,-34.55\"/>\n<polygon fill=\"black\" stroke=\"black\" stroke-width=\"2\" points=\"77.55,-38.05 87.55,-34.55 77.55,-31.05 77.55,-38.05\"/>\n</g>\n<!-- ready&#45;&gt;ready -->\n<g id=\"edge2\" class=\"edge\">\n<title>ready-&gt;ready</title>\n<path fill=\"none\" stroke=\"black\" d=\"M115.61,-68.16C115.76,-78.74 119.07,-87.09 125.55,-87.09 129.49,-87.09 132.27,-83.99 133.86,-79.17\"/>\n<polygon fill=\"black\" stroke=\"black\" points=\"137.27,-80.06 135.27,-69.65 130.35,-79.03 137.27,-80.06\"/>\n<text text-anchor=\"middle\" x=\"125.55\" y=\"-90.89\" font-family=\"Times New Roman,serif\" font-size=\"14.00\">pick_aluminum, 1.0, -13.1</text>\n</g>\n</g>\n</svg>"
     },
     "metadata": {},
     "output_type": "display_data"
    },
    {
     "data": {
      "text/plain": "<IPython.core.display.SVG object>",
      "image/svg+xml": "<svg xmlns=\"http://www.w3.org/2000/svg\" xmlns:xlink=\"http://www.w3.org/1999/xlink\" width=\"203pt\" height=\"110pt\" viewBox=\"0.00 0.00 203.05 110.09\">\n<g id=\"graph0\" class=\"graph\" transform=\"scale(1 1) rotate(0) translate(4 106.09)\">\n<polygon fill=\"white\" stroke=\"none\" points=\"-4,4 -4,-106.09 199.05,-106.09 199.05,4 -4,4\"/>\n<!-- fake -->\n<g id=\"node1\" class=\"node\">\n<title>fake</title>\n</g>\n<!-- ready -->\n<g id=\"node2\" class=\"node\">\n<title>ready</title>\n<ellipse fill=\"none\" stroke=\"black\" cx=\"125.55\" cy=\"-34.55\" rx=\"30.59\" ry=\"30.59\"/>\n<ellipse fill=\"none\" stroke=\"black\" cx=\"125.55\" cy=\"-34.55\" rx=\"34.59\" ry=\"34.59\"/>\n<text text-anchor=\"middle\" x=\"125.55\" y=\"-30.85\" font-family=\"Times New Roman,serif\" font-size=\"14.00\">ready</text>\n</g>\n<!-- fake&#45;&gt;ready -->\n<g id=\"edge1\" class=\"edge\">\n<title>fake-&gt;ready</title>\n<path fill=\"none\" stroke=\"black\" stroke-width=\"2\" d=\"M54.38,-34.55C62.06,-34.55 70.67,-34.55 79.17,-34.55\"/>\n<polygon fill=\"black\" stroke=\"black\" stroke-width=\"2\" points=\"77.55,-38.05 87.55,-34.55 77.55,-31.05 77.55,-38.05\"/>\n</g>\n<!-- ready&#45;&gt;ready -->\n<g id=\"edge2\" class=\"edge\">\n<title>ready-&gt;ready</title>\n<path fill=\"none\" stroke=\"black\" d=\"M115.61,-68.16C115.76,-78.74 119.07,-87.09 125.55,-87.09 129.49,-87.09 132.27,-83.99 133.86,-79.17\"/>\n<polygon fill=\"black\" stroke=\"black\" points=\"137.27,-80.06 135.27,-69.65 130.35,-79.03 137.27,-80.06\"/>\n<text text-anchor=\"middle\" x=\"125.55\" y=\"-90.89\" font-family=\"Times New Roman,serif\" font-size=\"14.00\">pick_aluminum, 1.0, -6.7</text>\n</g>\n</g>\n</svg>"
     },
     "metadata": {},
     "output_type": "display_data"
    }
   ],
   "source": [
    "def aluminum_warehouse_service(name: str, action_reward: float) -> Service:\n",
    "    \"\"\"Build the aluminum warehouse device.\"\"\"\n",
    "    return build_generic_service_one_state(\n",
    "        name,\n",
    "        {PICK_ALUMINUM},\n",
    "        action_reward=action_reward\n",
    "    )\n",
    "\n",
    "service_aluminum_australia = aluminum_warehouse_service(ALUMINUM_SERVICE_NAME_AUSTRALIA, AUSTRALIA_REWARD)\n",
    "service_aluminum_india = aluminum_warehouse_service(ALUMINUM_SERVICE_NAME_INDIA, INDIA_REWARD)\n",
    "service_aluminum_brazil = aluminum_warehouse_service(ALUMINUM_SERVICE_NAME_BRAZIL, BRAZIL_REWARD)\n",
    "render_service(service_aluminum_australia)\n",
    "render_service(service_aluminum_india)\n",
    "render_service(service_aluminum_brazil)"
   ]
  },
  {
   "cell_type": "code",
   "execution_count": 19,
   "metadata": {},
   "outputs": [
    {
     "data": {
      "text/plain": "<IPython.core.display.SVG object>",
      "image/svg+xml": "<svg xmlns=\"http://www.w3.org/2000/svg\" xmlns:xlink=\"http://www.w3.org/1999/xlink\" width=\"191pt\" height=\"110pt\" viewBox=\"0.00 0.00 191.05 110.09\">\n<g id=\"graph0\" class=\"graph\" transform=\"scale(1 1) rotate(0) translate(4 106.09)\">\n<polygon fill=\"white\" stroke=\"none\" points=\"-4,4 -4,-106.09 187.05,-106.09 187.05,4 -4,4\"/>\n<!-- fake -->\n<g id=\"node1\" class=\"node\">\n<title>fake</title>\n</g>\n<!-- ready -->\n<g id=\"node2\" class=\"node\">\n<title>ready</title>\n<ellipse fill=\"none\" stroke=\"black\" cx=\"125.55\" cy=\"-34.55\" rx=\"30.59\" ry=\"30.59\"/>\n<ellipse fill=\"none\" stroke=\"black\" cx=\"125.55\" cy=\"-34.55\" rx=\"34.59\" ry=\"34.59\"/>\n<text text-anchor=\"middle\" x=\"125.55\" y=\"-30.85\" font-family=\"Times New Roman,serif\" font-size=\"14.00\">ready</text>\n</g>\n<!-- fake&#45;&gt;ready -->\n<g id=\"edge1\" class=\"edge\">\n<title>fake-&gt;ready</title>\n<path fill=\"none\" stroke=\"black\" stroke-width=\"2\" d=\"M54.38,-34.55C62.06,-34.55 70.67,-34.55 79.17,-34.55\"/>\n<polygon fill=\"black\" stroke=\"black\" stroke-width=\"2\" points=\"77.55,-38.05 87.55,-34.55 77.55,-31.05 77.55,-38.05\"/>\n</g>\n<!-- ready&#45;&gt;ready -->\n<g id=\"edge2\" class=\"edge\">\n<title>ready-&gt;ready</title>\n<path fill=\"none\" stroke=\"black\" d=\"M115.61,-68.16C115.76,-78.74 119.07,-87.09 125.55,-87.09 129.49,-87.09 132.27,-83.99 133.86,-79.17\"/>\n<polygon fill=\"black\" stroke=\"black\" points=\"137.27,-80.06 135.27,-69.65 130.35,-79.03 137.27,-80.06\"/>\n<text text-anchor=\"middle\" x=\"125.55\" y=\"-90.89\" font-family=\"Times New Roman,serif\" font-size=\"14.00\">pick_resist, 1.0, -1.0</text>\n</g>\n</g>\n</svg>"
     },
     "metadata": {},
     "output_type": "display_data"
    },
    {
     "data": {
      "text/plain": "<IPython.core.display.SVG object>",
      "image/svg+xml": "<svg xmlns=\"http://www.w3.org/2000/svg\" xmlns:xlink=\"http://www.w3.org/1999/xlink\" width=\"191pt\" height=\"110pt\" viewBox=\"0.00 0.00 191.05 110.09\">\n<g id=\"graph0\" class=\"graph\" transform=\"scale(1 1) rotate(0) translate(4 106.09)\">\n<polygon fill=\"white\" stroke=\"none\" points=\"-4,4 -4,-106.09 187.05,-106.09 187.05,4 -4,4\"/>\n<!-- fake -->\n<g id=\"node1\" class=\"node\">\n<title>fake</title>\n</g>\n<!-- ready -->\n<g id=\"node2\" class=\"node\">\n<title>ready</title>\n<ellipse fill=\"none\" stroke=\"black\" cx=\"125.55\" cy=\"-34.55\" rx=\"30.59\" ry=\"30.59\"/>\n<ellipse fill=\"none\" stroke=\"black\" cx=\"125.55\" cy=\"-34.55\" rx=\"34.59\" ry=\"34.59\"/>\n<text text-anchor=\"middle\" x=\"125.55\" y=\"-30.85\" font-family=\"Times New Roman,serif\" font-size=\"14.00\">ready</text>\n</g>\n<!-- fake&#45;&gt;ready -->\n<g id=\"edge1\" class=\"edge\">\n<title>fake-&gt;ready</title>\n<path fill=\"none\" stroke=\"black\" stroke-width=\"2\" d=\"M54.38,-34.55C62.06,-34.55 70.67,-34.55 79.17,-34.55\"/>\n<polygon fill=\"black\" stroke=\"black\" stroke-width=\"2\" points=\"77.55,-38.05 87.55,-34.55 77.55,-31.05 77.55,-38.05\"/>\n</g>\n<!-- ready&#45;&gt;ready -->\n<g id=\"edge2\" class=\"edge\">\n<title>ready-&gt;ready</title>\n<path fill=\"none\" stroke=\"black\" d=\"M115.61,-68.16C115.76,-78.74 119.07,-87.09 125.55,-87.09 129.49,-87.09 132.27,-83.99 133.86,-79.17\"/>\n<polygon fill=\"black\" stroke=\"black\" points=\"137.27,-80.06 135.27,-69.65 130.35,-79.03 137.27,-80.06\"/>\n<text text-anchor=\"middle\" x=\"125.55\" y=\"-90.89\" font-family=\"Times New Roman,serif\" font-size=\"14.00\">pick_resist, 1.0, -7.6</text>\n</g>\n</g>\n</svg>"
     },
     "metadata": {},
     "output_type": "display_data"
    },
    {
     "data": {
      "text/plain": "<IPython.core.display.SVG object>",
      "image/svg+xml": "<svg xmlns=\"http://www.w3.org/2000/svg\" xmlns:xlink=\"http://www.w3.org/1999/xlink\" width=\"195pt\" height=\"110pt\" viewBox=\"0.00 0.00 194.55 110.09\">\n<g id=\"graph0\" class=\"graph\" transform=\"scale(1 1) rotate(0) translate(4 106.09)\">\n<polygon fill=\"white\" stroke=\"none\" points=\"-4,4 -4,-106.09 190.55,-106.09 190.55,4 -4,4\"/>\n<!-- fake -->\n<g id=\"node1\" class=\"node\">\n<title>fake</title>\n</g>\n<!-- ready -->\n<g id=\"node2\" class=\"node\">\n<title>ready</title>\n<ellipse fill=\"none\" stroke=\"black\" cx=\"125.55\" cy=\"-34.55\" rx=\"30.59\" ry=\"30.59\"/>\n<ellipse fill=\"none\" stroke=\"black\" cx=\"125.55\" cy=\"-34.55\" rx=\"34.59\" ry=\"34.59\"/>\n<text text-anchor=\"middle\" x=\"125.55\" y=\"-30.85\" font-family=\"Times New Roman,serif\" font-size=\"14.00\">ready</text>\n</g>\n<!-- fake&#45;&gt;ready -->\n<g id=\"edge1\" class=\"edge\">\n<title>fake-&gt;ready</title>\n<path fill=\"none\" stroke=\"black\" stroke-width=\"2\" d=\"M54.38,-34.55C62.06,-34.55 70.67,-34.55 79.17,-34.55\"/>\n<polygon fill=\"black\" stroke=\"black\" stroke-width=\"2\" points=\"77.55,-38.05 87.55,-34.55 77.55,-31.05 77.55,-38.05\"/>\n</g>\n<!-- ready&#45;&gt;ready -->\n<g id=\"edge2\" class=\"edge\">\n<title>ready-&gt;ready</title>\n<path fill=\"none\" stroke=\"black\" d=\"M115.61,-68.16C115.76,-78.74 119.07,-87.09 125.55,-87.09 129.49,-87.09 132.27,-83.99 133.86,-79.17\"/>\n<polygon fill=\"black\" stroke=\"black\" points=\"137.27,-80.06 135.27,-69.65 130.35,-79.03 137.27,-80.06\"/>\n<text text-anchor=\"middle\" x=\"125.55\" y=\"-90.89\" font-family=\"Times New Roman,serif\" font-size=\"14.00\">pick_resist, 1.0, -8.38</text>\n</g>\n</g>\n</svg>"
     },
     "metadata": {},
     "output_type": "display_data"
    },
    {
     "data": {
      "text/plain": "<IPython.core.display.SVG object>",
      "image/svg+xml": "<svg xmlns=\"http://www.w3.org/2000/svg\" xmlns:xlink=\"http://www.w3.org/1999/xlink\" width=\"195pt\" height=\"110pt\" viewBox=\"0.00 0.00 194.55 110.09\">\n<g id=\"graph0\" class=\"graph\" transform=\"scale(1 1) rotate(0) translate(4 106.09)\">\n<polygon fill=\"white\" stroke=\"none\" points=\"-4,4 -4,-106.09 190.55,-106.09 190.55,4 -4,4\"/>\n<!-- fake -->\n<g id=\"node1\" class=\"node\">\n<title>fake</title>\n</g>\n<!-- ready -->\n<g id=\"node2\" class=\"node\">\n<title>ready</title>\n<ellipse fill=\"none\" stroke=\"black\" cx=\"125.55\" cy=\"-34.55\" rx=\"30.59\" ry=\"30.59\"/>\n<ellipse fill=\"none\" stroke=\"black\" cx=\"125.55\" cy=\"-34.55\" rx=\"34.59\" ry=\"34.59\"/>\n<text text-anchor=\"middle\" x=\"125.55\" y=\"-30.85\" font-family=\"Times New Roman,serif\" font-size=\"14.00\">ready</text>\n</g>\n<!-- fake&#45;&gt;ready -->\n<g id=\"edge1\" class=\"edge\">\n<title>fake-&gt;ready</title>\n<path fill=\"none\" stroke=\"black\" stroke-width=\"2\" d=\"M54.38,-34.55C62.06,-34.55 70.67,-34.55 79.17,-34.55\"/>\n<polygon fill=\"black\" stroke=\"black\" stroke-width=\"2\" points=\"77.55,-38.05 87.55,-34.55 77.55,-31.05 77.55,-38.05\"/>\n</g>\n<!-- ready&#45;&gt;ready -->\n<g id=\"edge2\" class=\"edge\">\n<title>ready-&gt;ready</title>\n<path fill=\"none\" stroke=\"black\" d=\"M115.61,-68.16C115.76,-78.74 119.07,-87.09 125.55,-87.09 129.49,-87.09 132.27,-83.99 133.86,-79.17\"/>\n<polygon fill=\"black\" stroke=\"black\" points=\"137.27,-80.06 135.27,-69.65 130.35,-79.03 137.27,-80.06\"/>\n<text text-anchor=\"middle\" x=\"125.55\" y=\"-90.89\" font-family=\"Times New Roman,serif\" font-size=\"14.00\">pick_resist, 1.0, -13.1</text>\n</g>\n</g>\n</svg>"
     },
     "metadata": {},
     "output_type": "display_data"
    },
    {
     "data": {
      "text/plain": "<IPython.core.display.SVG object>",
      "image/svg+xml": "<svg xmlns=\"http://www.w3.org/2000/svg\" xmlns:xlink=\"http://www.w3.org/1999/xlink\" width=\"191pt\" height=\"110pt\" viewBox=\"0.00 0.00 191.05 110.09\">\n<g id=\"graph0\" class=\"graph\" transform=\"scale(1 1) rotate(0) translate(4 106.09)\">\n<polygon fill=\"white\" stroke=\"none\" points=\"-4,4 -4,-106.09 187.05,-106.09 187.05,4 -4,4\"/>\n<!-- fake -->\n<g id=\"node1\" class=\"node\">\n<title>fake</title>\n</g>\n<!-- ready -->\n<g id=\"node2\" class=\"node\">\n<title>ready</title>\n<ellipse fill=\"none\" stroke=\"black\" cx=\"125.55\" cy=\"-34.55\" rx=\"30.59\" ry=\"30.59\"/>\n<ellipse fill=\"none\" stroke=\"black\" cx=\"125.55\" cy=\"-34.55\" rx=\"34.59\" ry=\"34.59\"/>\n<text text-anchor=\"middle\" x=\"125.55\" y=\"-30.85\" font-family=\"Times New Roman,serif\" font-size=\"14.00\">ready</text>\n</g>\n<!-- fake&#45;&gt;ready -->\n<g id=\"edge1\" class=\"edge\">\n<title>fake-&gt;ready</title>\n<path fill=\"none\" stroke=\"black\" stroke-width=\"2\" d=\"M54.38,-34.55C62.06,-34.55 70.67,-34.55 79.17,-34.55\"/>\n<polygon fill=\"black\" stroke=\"black\" stroke-width=\"2\" points=\"77.55,-38.05 87.55,-34.55 77.55,-31.05 77.55,-38.05\"/>\n</g>\n<!-- ready&#45;&gt;ready -->\n<g id=\"edge2\" class=\"edge\">\n<title>ready-&gt;ready</title>\n<path fill=\"none\" stroke=\"black\" d=\"M115.61,-68.16C115.76,-78.74 119.07,-87.09 125.55,-87.09 129.49,-87.09 132.27,-83.99 133.86,-79.17\"/>\n<polygon fill=\"black\" stroke=\"black\" points=\"137.27,-80.06 135.27,-69.65 130.35,-79.03 137.27,-80.06\"/>\n<text text-anchor=\"middle\" x=\"125.55\" y=\"-90.89\" font-family=\"Times New Roman,serif\" font-size=\"14.00\">pick_resist, 1.0, -8.0</text>\n</g>\n</g>\n</svg>"
     },
     "metadata": {},
     "output_type": "display_data"
    },
    {
     "data": {
      "text/plain": "<IPython.core.display.SVG object>",
      "image/svg+xml": "<svg xmlns=\"http://www.w3.org/2000/svg\" xmlns:xlink=\"http://www.w3.org/1999/xlink\" width=\"191pt\" height=\"110pt\" viewBox=\"0.00 0.00 191.05 110.09\">\n<g id=\"graph0\" class=\"graph\" transform=\"scale(1 1) rotate(0) translate(4 106.09)\">\n<polygon fill=\"white\" stroke=\"none\" points=\"-4,4 -4,-106.09 187.05,-106.09 187.05,4 -4,4\"/>\n<!-- fake -->\n<g id=\"node1\" class=\"node\">\n<title>fake</title>\n</g>\n<!-- ready -->\n<g id=\"node2\" class=\"node\">\n<title>ready</title>\n<ellipse fill=\"none\" stroke=\"black\" cx=\"125.55\" cy=\"-34.55\" rx=\"30.59\" ry=\"30.59\"/>\n<ellipse fill=\"none\" stroke=\"black\" cx=\"125.55\" cy=\"-34.55\" rx=\"34.59\" ry=\"34.59\"/>\n<text text-anchor=\"middle\" x=\"125.55\" y=\"-30.85\" font-family=\"Times New Roman,serif\" font-size=\"14.00\">ready</text>\n</g>\n<!-- fake&#45;&gt;ready -->\n<g id=\"edge1\" class=\"edge\">\n<title>fake-&gt;ready</title>\n<path fill=\"none\" stroke=\"black\" stroke-width=\"2\" d=\"M54.38,-34.55C62.06,-34.55 70.67,-34.55 79.17,-34.55\"/>\n<polygon fill=\"black\" stroke=\"black\" stroke-width=\"2\" points=\"77.55,-38.05 87.55,-34.55 77.55,-31.05 77.55,-38.05\"/>\n</g>\n<!-- ready&#45;&gt;ready -->\n<g id=\"edge2\" class=\"edge\">\n<title>ready-&gt;ready</title>\n<path fill=\"none\" stroke=\"black\" d=\"M115.61,-68.16C115.76,-78.74 119.07,-87.09 125.55,-87.09 129.49,-87.09 132.27,-83.99 133.86,-79.17\"/>\n<polygon fill=\"black\" stroke=\"black\" points=\"137.27,-80.06 135.27,-69.65 130.35,-79.03 137.27,-80.06\"/>\n<text text-anchor=\"middle\" x=\"125.55\" y=\"-90.89\" font-family=\"Times New Roman,serif\" font-size=\"14.00\">pick_resist, 1.0, -1.8</text>\n</g>\n</g>\n</svg>"
     },
     "metadata": {},
     "output_type": "display_data"
    }
   ],
   "source": [
    "def resist_warehouse_service(name: str, action_reward: float) -> Service:\n",
    "    \"\"\"Build the resist warehouse device.\"\"\"\n",
    "    return build_generic_service_one_state(\n",
    "        name,\n",
    "        {PICK_RESIST},\n",
    "        action_reward=action_reward\n",
    "    )\n",
    "\n",
    "\n",
    "service_resist_usa = resist_warehouse_service(RESIST_SERVICE_NAME_USA, USA_REWARD)\n",
    "service_resist_belgium = resist_warehouse_service(RESIST_SERVICE_NAME_BELGIUM, BELGIUM_REWARD)\n",
    "service_resist_austria = resist_warehouse_service(RESIST_SERVICE_NAME_AUSTRIA, AUSTRIA_REWARD)\n",
    "service_resist_india = resist_warehouse_service(RESIST_SERVICE_NAME_INDIA, INDIA_REWARD)\n",
    "service_resist_switzerland = resist_warehouse_service(RESIST_SERVICE_NAME_SWITZERLAND, SWITZERLAND_REWARD)\n",
    "service_resist_canada = resist_warehouse_service(RESIST_SERVICE_NAME_CANADA, CANADA_REWARD)\n",
    "render_service(service_resist_usa)\n",
    "render_service(service_resist_belgium)\n",
    "render_service(service_resist_austria)\n",
    "render_service(service_resist_india)\n",
    "render_service(service_resist_switzerland)\n",
    "render_service(service_resist_canada)"
   ]
  },
  {
   "cell_type": "code",
   "execution_count": 20,
   "metadata": {},
   "outputs": [
    {
     "data": {
      "text/plain": "<IPython.core.display.SVG object>",
      "image/svg+xml": "<svg xmlns=\"http://www.w3.org/2000/svg\" xmlns:xlink=\"http://www.w3.org/1999/xlink\" width=\"198pt\" height=\"110pt\" viewBox=\"0.00 0.00 198.05 110.09\">\n<g id=\"graph0\" class=\"graph\" transform=\"scale(1 1) rotate(0) translate(4 106.09)\">\n<polygon fill=\"white\" stroke=\"none\" points=\"-4,4 -4,-106.09 194.05,-106.09 194.05,4 -4,4\"/>\n<!-- fake -->\n<g id=\"node1\" class=\"node\">\n<title>fake</title>\n</g>\n<!-- ready -->\n<g id=\"node2\" class=\"node\">\n<title>ready</title>\n<ellipse fill=\"none\" stroke=\"black\" cx=\"125.55\" cy=\"-34.55\" rx=\"30.59\" ry=\"30.59\"/>\n<ellipse fill=\"none\" stroke=\"black\" cx=\"125.55\" cy=\"-34.55\" rx=\"34.59\" ry=\"34.59\"/>\n<text text-anchor=\"middle\" x=\"125.55\" y=\"-30.85\" font-family=\"Times New Roman,serif\" font-size=\"14.00\">ready</text>\n</g>\n<!-- fake&#45;&gt;ready -->\n<g id=\"edge1\" class=\"edge\">\n<title>fake-&gt;ready</title>\n<path fill=\"none\" stroke=\"black\" stroke-width=\"2\" d=\"M54.38,-34.55C62.06,-34.55 70.67,-34.55 79.17,-34.55\"/>\n<polygon fill=\"black\" stroke=\"black\" stroke-width=\"2\" points=\"77.55,-38.05 87.55,-34.55 77.55,-31.05 77.55,-38.05\"/>\n</g>\n<!-- ready&#45;&gt;ready -->\n<g id=\"edge2\" class=\"edge\">\n<title>ready-&gt;ready</title>\n<path fill=\"none\" stroke=\"black\" d=\"M115.61,-68.16C115.76,-78.74 119.07,-87.09 125.55,-87.09 129.49,-87.09 132.27,-83.99 133.86,-79.17\"/>\n<polygon fill=\"black\" stroke=\"black\" points=\"137.27,-80.06 135.27,-69.65 130.35,-79.03 137.27,-80.06\"/>\n<text text-anchor=\"middle\" x=\"125.55\" y=\"-90.89\" font-family=\"Times New Roman,serif\" font-size=\"14.00\">pick_plastic, 1.0, -11.7</text>\n</g>\n</g>\n</svg>"
     },
     "metadata": {},
     "output_type": "display_data"
    },
    {
     "data": {
      "text/plain": "<IPython.core.display.SVG object>",
      "image/svg+xml": "<svg xmlns=\"http://www.w3.org/2000/svg\" xmlns:xlink=\"http://www.w3.org/1999/xlink\" width=\"198pt\" height=\"110pt\" viewBox=\"0.00 0.00 198.05 110.09\">\n<g id=\"graph0\" class=\"graph\" transform=\"scale(1 1) rotate(0) translate(4 106.09)\">\n<polygon fill=\"white\" stroke=\"none\" points=\"-4,4 -4,-106.09 194.05,-106.09 194.05,4 -4,4\"/>\n<!-- fake -->\n<g id=\"node1\" class=\"node\">\n<title>fake</title>\n</g>\n<!-- ready -->\n<g id=\"node2\" class=\"node\">\n<title>ready</title>\n<ellipse fill=\"none\" stroke=\"black\" cx=\"125.55\" cy=\"-34.55\" rx=\"30.59\" ry=\"30.59\"/>\n<ellipse fill=\"none\" stroke=\"black\" cx=\"125.55\" cy=\"-34.55\" rx=\"34.59\" ry=\"34.59\"/>\n<text text-anchor=\"middle\" x=\"125.55\" y=\"-30.85\" font-family=\"Times New Roman,serif\" font-size=\"14.00\">ready</text>\n</g>\n<!-- fake&#45;&gt;ready -->\n<g id=\"edge1\" class=\"edge\">\n<title>fake-&gt;ready</title>\n<path fill=\"none\" stroke=\"black\" stroke-width=\"2\" d=\"M54.38,-34.55C62.06,-34.55 70.67,-34.55 79.17,-34.55\"/>\n<polygon fill=\"black\" stroke=\"black\" stroke-width=\"2\" points=\"77.55,-38.05 87.55,-34.55 77.55,-31.05 77.55,-38.05\"/>\n</g>\n<!-- ready&#45;&gt;ready -->\n<g id=\"edge2\" class=\"edge\">\n<title>ready-&gt;ready</title>\n<path fill=\"none\" stroke=\"black\" d=\"M115.61,-68.16C115.76,-78.74 119.07,-87.09 125.55,-87.09 129.49,-87.09 132.27,-83.99 133.86,-79.17\"/>\n<polygon fill=\"black\" stroke=\"black\" points=\"137.27,-80.06 135.27,-69.65 130.35,-79.03 137.27,-80.06\"/>\n<text text-anchor=\"middle\" x=\"125.55\" y=\"-90.89\" font-family=\"Times New Roman,serif\" font-size=\"14.00\">pick_plastic, 1.0, -13.1</text>\n</g>\n</g>\n</svg>"
     },
     "metadata": {},
     "output_type": "display_data"
    }
   ],
   "source": [
    "def plastic_warehouse_service(name: str, action_reward: float) -> Service:\n",
    "    \"\"\"Build the plastic warehouse device.\"\"\"\n",
    "    return build_generic_service_one_state(\n",
    "        name,\n",
    "        {PICK_PLASTIC},\n",
    "        action_reward=action_reward\n",
    "    )\n",
    "\n",
    "\n",
    "service_plastic_china = plastic_warehouse_service(PLASTIC_SERVICE_NAME_CHINA, CHINA_REWARD)\n",
    "service_plastic_india = plastic_warehouse_service(PLASTIC_SERVICE_NAME_INDIA, INDIA_REWARD)\n",
    "render_service(service_plastic_china)\n",
    "render_service(service_plastic_india)"
   ]
  },
  {
   "cell_type": "code",
   "execution_count": 21,
   "metadata": {},
   "outputs": [
    {
     "data": {
      "text/plain": "<IPython.core.display.SVG object>",
      "image/svg+xml": "<svg xmlns=\"http://www.w3.org/2000/svg\" xmlns:xlink=\"http://www.w3.org/1999/xlink\" width=\"204pt\" height=\"110pt\" viewBox=\"0.00 0.00 204.05 110.09\">\n<g id=\"graph0\" class=\"graph\" transform=\"scale(1 1) rotate(0) translate(4 106.09)\">\n<polygon fill=\"white\" stroke=\"none\" points=\"-4,4 -4,-106.09 200.05,-106.09 200.05,4 -4,4\"/>\n<!-- fake -->\n<g id=\"node1\" class=\"node\">\n<title>fake</title>\n</g>\n<!-- ready -->\n<g id=\"node2\" class=\"node\">\n<title>ready</title>\n<ellipse fill=\"none\" stroke=\"black\" cx=\"125.55\" cy=\"-34.55\" rx=\"30.59\" ry=\"30.59\"/>\n<ellipse fill=\"none\" stroke=\"black\" cx=\"125.55\" cy=\"-34.55\" rx=\"34.59\" ry=\"34.59\"/>\n<text text-anchor=\"middle\" x=\"125.55\" y=\"-30.85\" font-family=\"Times New Roman,serif\" font-size=\"14.00\">ready</text>\n</g>\n<!-- fake&#45;&gt;ready -->\n<g id=\"edge1\" class=\"edge\">\n<title>fake-&gt;ready</title>\n<path fill=\"none\" stroke=\"black\" stroke-width=\"2\" d=\"M54.38,-34.55C62.06,-34.55 70.67,-34.55 79.17,-34.55\"/>\n<polygon fill=\"black\" stroke=\"black\" stroke-width=\"2\" points=\"77.55,-38.05 87.55,-34.55 77.55,-31.05 77.55,-38.05\"/>\n</g>\n<!-- ready&#45;&gt;ready -->\n<g id=\"edge2\" class=\"edge\">\n<title>ready-&gt;ready</title>\n<path fill=\"none\" stroke=\"black\" d=\"M115.61,-68.16C115.76,-78.74 119.07,-87.09 125.55,-87.09 129.49,-87.09 132.27,-83.99 133.86,-79.17\"/>\n<polygon fill=\"black\" stroke=\"black\" points=\"137.27,-80.06 135.27,-69.65 130.35,-79.03 137.27,-80.06\"/>\n<text text-anchor=\"middle\" x=\"125.55\" y=\"-90.89\" font-family=\"Times New Roman,serif\" font-size=\"14.00\">pick_chemicals, 1.0, -1.0</text>\n</g>\n</g>\n</svg>"
     },
     "metadata": {},
     "output_type": "display_data"
    },
    {
     "data": {
      "text/plain": "<IPython.core.display.SVG object>",
      "image/svg+xml": "<svg xmlns=\"http://www.w3.org/2000/svg\" xmlns:xlink=\"http://www.w3.org/1999/xlink\" width=\"204pt\" height=\"110pt\" viewBox=\"0.00 0.00 204.05 110.09\">\n<g id=\"graph0\" class=\"graph\" transform=\"scale(1 1) rotate(0) translate(4 106.09)\">\n<polygon fill=\"white\" stroke=\"none\" points=\"-4,4 -4,-106.09 200.05,-106.09 200.05,4 -4,4\"/>\n<!-- fake -->\n<g id=\"node1\" class=\"node\">\n<title>fake</title>\n</g>\n<!-- ready -->\n<g id=\"node2\" class=\"node\">\n<title>ready</title>\n<ellipse fill=\"none\" stroke=\"black\" cx=\"125.55\" cy=\"-34.55\" rx=\"30.59\" ry=\"30.59\"/>\n<ellipse fill=\"none\" stroke=\"black\" cx=\"125.55\" cy=\"-34.55\" rx=\"34.59\" ry=\"34.59\"/>\n<text text-anchor=\"middle\" x=\"125.55\" y=\"-30.85\" font-family=\"Times New Roman,serif\" font-size=\"14.00\">ready</text>\n</g>\n<!-- fake&#45;&gt;ready -->\n<g id=\"edge1\" class=\"edge\">\n<title>fake-&gt;ready</title>\n<path fill=\"none\" stroke=\"black\" stroke-width=\"2\" d=\"M54.38,-34.55C62.06,-34.55 70.67,-34.55 79.17,-34.55\"/>\n<polygon fill=\"black\" stroke=\"black\" stroke-width=\"2\" points=\"77.55,-38.05 87.55,-34.55 77.55,-31.05 77.55,-38.05\"/>\n</g>\n<!-- ready&#45;&gt;ready -->\n<g id=\"edge2\" class=\"edge\">\n<title>ready-&gt;ready</title>\n<path fill=\"none\" stroke=\"black\" d=\"M115.61,-68.16C115.76,-78.74 119.07,-87.09 125.55,-87.09 129.49,-87.09 132.27,-83.99 133.86,-79.17\"/>\n<polygon fill=\"black\" stroke=\"black\" points=\"137.27,-80.06 135.27,-69.65 130.35,-79.03 137.27,-80.06\"/>\n<text text-anchor=\"middle\" x=\"125.55\" y=\"-90.89\" font-family=\"Times New Roman,serif\" font-size=\"14.00\">pick_chemicals, 1.0, -1.8</text>\n</g>\n</g>\n</svg>"
     },
     "metadata": {},
     "output_type": "display_data"
    }
   ],
   "source": [
    "def chemicals_warehouse_service(name: str, action_reward: float) -> Service:\n",
    "    \"\"\"Build the chemicals warehouse device.\"\"\"\n",
    "    return build_generic_service_one_state(\n",
    "        name,\n",
    "        {PICK_CHEMICALS},\n",
    "        action_reward=action_reward\n",
    "    )\n",
    "\n",
    "\n",
    "service_chemicals_usa = chemicals_warehouse_service(CHEMICALS_SERVICE_NAME_USA, USA_REWARD)\n",
    "service_chemicals_canada = chemicals_warehouse_service(CHEMICALS_SERVICE_NAME_CANADA, CANADA_REWARD)\n",
    "render_service(service_chemicals_usa)\n",
    "render_service(service_chemicals_canada)"
   ]
  },
  {
   "cell_type": "code",
   "execution_count": 22,
   "metadata": {},
   "outputs": [
    {
     "data": {
      "text/plain": "<IPython.core.display.SVG object>",
      "image/svg+xml": "<svg xmlns=\"http://www.w3.org/2000/svg\" xmlns:xlink=\"http://www.w3.org/1999/xlink\" width=\"216pt\" height=\"110pt\" viewBox=\"0.00 0.00 216.05 110.09\">\n<g id=\"graph0\" class=\"graph\" transform=\"scale(1 1) rotate(0) translate(4 106.09)\">\n<polygon fill=\"white\" stroke=\"none\" points=\"-4,4 -4,-106.09 212.05,-106.09 212.05,4 -4,4\"/>\n<!-- fake -->\n<g id=\"node1\" class=\"node\">\n<title>fake</title>\n</g>\n<!-- ready -->\n<g id=\"node2\" class=\"node\">\n<title>ready</title>\n<ellipse fill=\"none\" stroke=\"black\" cx=\"125.55\" cy=\"-34.55\" rx=\"30.59\" ry=\"30.59\"/>\n<ellipse fill=\"none\" stroke=\"black\" cx=\"125.55\" cy=\"-34.55\" rx=\"34.59\" ry=\"34.59\"/>\n<text text-anchor=\"middle\" x=\"125.55\" y=\"-30.85\" font-family=\"Times New Roman,serif\" font-size=\"14.00\">ready</text>\n</g>\n<!-- fake&#45;&gt;ready -->\n<g id=\"edge1\" class=\"edge\">\n<title>fake-&gt;ready</title>\n<path fill=\"none\" stroke=\"black\" stroke-width=\"2\" d=\"M54.38,-34.55C62.06,-34.55 70.67,-34.55 79.17,-34.55\"/>\n<polygon fill=\"black\" stroke=\"black\" stroke-width=\"2\" points=\"77.55,-38.05 87.55,-34.55 77.55,-31.05 77.55,-38.05\"/>\n</g>\n<!-- ready&#45;&gt;ready -->\n<g id=\"edge2\" class=\"edge\">\n<title>ready-&gt;ready</title>\n<path fill=\"none\" stroke=\"black\" d=\"M115.61,-68.16C115.76,-78.74 119.07,-87.09 125.55,-87.09 129.49,-87.09 132.27,-83.99 133.86,-79.17\"/>\n<polygon fill=\"black\" stroke=\"black\" points=\"137.27,-80.06 135.27,-69.65 130.35,-79.03 137.27,-80.06\"/>\n<text text-anchor=\"middle\" x=\"125.55\" y=\"-90.89\" font-family=\"Times New Roman,serif\" font-size=\"14.00\">pick_copper_frame, 1.0, -1.0</text>\n</g>\n</g>\n</svg>"
     },
     "metadata": {},
     "output_type": "display_data"
    },
    {
     "data": {
      "text/plain": "<IPython.core.display.SVG object>",
      "image/svg+xml": "<svg xmlns=\"http://www.w3.org/2000/svg\" xmlns:xlink=\"http://www.w3.org/1999/xlink\" width=\"220pt\" height=\"110pt\" viewBox=\"0.00 0.00 219.55 110.09\">\n<g id=\"graph0\" class=\"graph\" transform=\"scale(1 1) rotate(0) translate(4 106.09)\">\n<polygon fill=\"white\" stroke=\"none\" points=\"-4,4 -4,-106.09 215.55,-106.09 215.55,4 -4,4\"/>\n<!-- fake -->\n<g id=\"node1\" class=\"node\">\n<title>fake</title>\n</g>\n<!-- ready -->\n<g id=\"node2\" class=\"node\">\n<title>ready</title>\n<ellipse fill=\"none\" stroke=\"black\" cx=\"125.55\" cy=\"-34.55\" rx=\"30.59\" ry=\"30.59\"/>\n<ellipse fill=\"none\" stroke=\"black\" cx=\"125.55\" cy=\"-34.55\" rx=\"34.59\" ry=\"34.59\"/>\n<text text-anchor=\"middle\" x=\"125.55\" y=\"-30.85\" font-family=\"Times New Roman,serif\" font-size=\"14.00\">ready</text>\n</g>\n<!-- fake&#45;&gt;ready -->\n<g id=\"edge1\" class=\"edge\">\n<title>fake-&gt;ready</title>\n<path fill=\"none\" stroke=\"black\" stroke-width=\"2\" d=\"M54.38,-34.55C62.06,-34.55 70.67,-34.55 79.17,-34.55\"/>\n<polygon fill=\"black\" stroke=\"black\" stroke-width=\"2\" points=\"77.55,-38.05 87.55,-34.55 77.55,-31.05 77.55,-38.05\"/>\n</g>\n<!-- ready&#45;&gt;ready -->\n<g id=\"edge2\" class=\"edge\">\n<title>ready-&gt;ready</title>\n<path fill=\"none\" stroke=\"black\" d=\"M115.61,-68.16C115.76,-78.74 119.07,-87.09 125.55,-87.09 129.49,-87.09 132.27,-83.99 133.86,-79.17\"/>\n<polygon fill=\"black\" stroke=\"black\" points=\"137.27,-80.06 135.27,-69.65 130.35,-79.03 137.27,-80.06\"/>\n<text text-anchor=\"middle\" x=\"125.55\" y=\"-90.89\" font-family=\"Times New Roman,serif\" font-size=\"14.00\">pick_copper_frame, 1.0, -11.7</text>\n</g>\n</g>\n</svg>"
     },
     "metadata": {},
     "output_type": "display_data"
    },
    {
     "data": {
      "text/plain": "<IPython.core.display.SVG object>",
      "image/svg+xml": "<svg xmlns=\"http://www.w3.org/2000/svg\" xmlns:xlink=\"http://www.w3.org/1999/xlink\" width=\"216pt\" height=\"110pt\" viewBox=\"0.00 0.00 216.05 110.09\">\n<g id=\"graph0\" class=\"graph\" transform=\"scale(1 1) rotate(0) translate(4 106.09)\">\n<polygon fill=\"white\" stroke=\"none\" points=\"-4,4 -4,-106.09 212.05,-106.09 212.05,4 -4,4\"/>\n<!-- fake -->\n<g id=\"node1\" class=\"node\">\n<title>fake</title>\n</g>\n<!-- ready -->\n<g id=\"node2\" class=\"node\">\n<title>ready</title>\n<ellipse fill=\"none\" stroke=\"black\" cx=\"125.55\" cy=\"-34.55\" rx=\"30.59\" ry=\"30.59\"/>\n<ellipse fill=\"none\" stroke=\"black\" cx=\"125.55\" cy=\"-34.55\" rx=\"34.59\" ry=\"34.59\"/>\n<text text-anchor=\"middle\" x=\"125.55\" y=\"-30.85\" font-family=\"Times New Roman,serif\" font-size=\"14.00\">ready</text>\n</g>\n<!-- fake&#45;&gt;ready -->\n<g id=\"edge1\" class=\"edge\">\n<title>fake-&gt;ready</title>\n<path fill=\"none\" stroke=\"black\" stroke-width=\"2\" d=\"M54.38,-34.55C62.06,-34.55 70.67,-34.55 79.17,-34.55\"/>\n<polygon fill=\"black\" stroke=\"black\" stroke-width=\"2\" points=\"77.55,-38.05 87.55,-34.55 77.55,-31.05 77.55,-38.05\"/>\n</g>\n<!-- ready&#45;&gt;ready -->\n<g id=\"edge2\" class=\"edge\">\n<title>ready-&gt;ready</title>\n<path fill=\"none\" stroke=\"black\" d=\"M115.61,-68.16C115.76,-78.74 119.07,-87.09 125.55,-87.09 129.49,-87.09 132.27,-83.99 133.86,-79.17\"/>\n<polygon fill=\"black\" stroke=\"black\" points=\"137.27,-80.06 135.27,-69.65 130.35,-79.03 137.27,-80.06\"/>\n<text text-anchor=\"middle\" x=\"125.55\" y=\"-90.89\" font-family=\"Times New Roman,serif\" font-size=\"14.00\">pick_copper_frame, 1.0, -6.0</text>\n</g>\n</g>\n</svg>"
     },
     "metadata": {},
     "output_type": "display_data"
    },
    {
     "data": {
      "text/plain": "<IPython.core.display.SVG object>",
      "image/svg+xml": "<svg xmlns=\"http://www.w3.org/2000/svg\" xmlns:xlink=\"http://www.w3.org/1999/xlink\" width=\"216pt\" height=\"110pt\" viewBox=\"0.00 0.00 216.05 110.09\">\n<g id=\"graph0\" class=\"graph\" transform=\"scale(1 1) rotate(0) translate(4 106.09)\">\n<polygon fill=\"white\" stroke=\"none\" points=\"-4,4 -4,-106.09 212.05,-106.09 212.05,4 -4,4\"/>\n<!-- fake -->\n<g id=\"node1\" class=\"node\">\n<title>fake</title>\n</g>\n<!-- ready -->\n<g id=\"node2\" class=\"node\">\n<title>ready</title>\n<ellipse fill=\"none\" stroke=\"black\" cx=\"125.55\" cy=\"-34.55\" rx=\"30.59\" ry=\"30.59\"/>\n<ellipse fill=\"none\" stroke=\"black\" cx=\"125.55\" cy=\"-34.55\" rx=\"34.59\" ry=\"34.59\"/>\n<text text-anchor=\"middle\" x=\"125.55\" y=\"-30.85\" font-family=\"Times New Roman,serif\" font-size=\"14.00\">ready</text>\n</g>\n<!-- fake&#45;&gt;ready -->\n<g id=\"edge1\" class=\"edge\">\n<title>fake-&gt;ready</title>\n<path fill=\"none\" stroke=\"black\" stroke-width=\"2\" d=\"M54.38,-34.55C62.06,-34.55 70.67,-34.55 79.17,-34.55\"/>\n<polygon fill=\"black\" stroke=\"black\" stroke-width=\"2\" points=\"77.55,-38.05 87.55,-34.55 77.55,-31.05 77.55,-38.05\"/>\n</g>\n<!-- ready&#45;&gt;ready -->\n<g id=\"edge2\" class=\"edge\">\n<title>ready-&gt;ready</title>\n<path fill=\"none\" stroke=\"black\" d=\"M115.61,-68.16C115.76,-78.74 119.07,-87.09 125.55,-87.09 129.49,-87.09 132.27,-83.99 133.86,-79.17\"/>\n<polygon fill=\"black\" stroke=\"black\" points=\"137.27,-80.06 135.27,-69.65 130.35,-79.03 137.27,-80.06\"/>\n<text text-anchor=\"middle\" x=\"125.55\" y=\"-90.89\" font-family=\"Times New Roman,serif\" font-size=\"14.00\">pick_copper_frame, 1.0, -7.8</text>\n</g>\n</g>\n</svg>"
     },
     "metadata": {},
     "output_type": "display_data"
    }
   ],
   "source": [
    "def copper_frame_warehouse_service(name: str, action_reward: float) -> Service:\n",
    "    \"\"\"Build the copper frame warehouse device.\"\"\"\n",
    "    return build_generic_service_one_state(\n",
    "        name,\n",
    "        {PICK_COPPER_FRAME},\n",
    "        action_reward=action_reward\n",
    "    )\n",
    "\n",
    "\n",
    "service_copper_frame_usa = copper_frame_warehouse_service(COPPER_FRAME_SERVICE_NAME_USA, USA_REWARD)\n",
    "service_copper_frame_china = copper_frame_warehouse_service(COPPER_FRAME_SERVICE_NAME_CHINA, CHINA_REWARD)\n",
    "service_copper_frame_peru = copper_frame_warehouse_service(COPPER_FRAME_SERVICE_NAME_PERU, PERU_REWARD)\n",
    "service_copper_frame_chile = copper_frame_warehouse_service(COPPER_FRAME_SERVICE_NAME_CHILE, CHILE_REWARD)\n",
    "render_service(service_copper_frame_usa)\n",
    "render_service(service_copper_frame_china)\n",
    "render_service(service_copper_frame_peru)\n",
    "render_service(service_copper_frame_chile)"
   ]
  },
  {
   "cell_type": "code",
   "execution_count": 26,
   "metadata": {},
   "outputs": [
    {
     "data": {
      "text/plain": "<IPython.core.display.SVG object>",
      "image/svg+xml": "<svg xmlns=\"http://www.w3.org/2000/svg\" xmlns:xlink=\"http://www.w3.org/1999/xlink\" width=\"184pt\" height=\"110pt\" viewBox=\"0.00 0.00 183.55 110.09\">\n<g id=\"graph0\" class=\"graph\" transform=\"scale(1 1) rotate(0) translate(4 106.09)\">\n<polygon fill=\"white\" stroke=\"none\" points=\"-4,4 -4,-106.09 179.55,-106.09 179.55,4 -4,4\"/>\n<!-- fake -->\n<g id=\"node1\" class=\"node\">\n<title>fake</title>\n</g>\n<!-- ready -->\n<g id=\"node2\" class=\"node\">\n<title>ready</title>\n<ellipse fill=\"none\" stroke=\"black\" cx=\"125.55\" cy=\"-34.55\" rx=\"30.59\" ry=\"30.59\"/>\n<ellipse fill=\"none\" stroke=\"black\" cx=\"125.55\" cy=\"-34.55\" rx=\"34.59\" ry=\"34.59\"/>\n<text text-anchor=\"middle\" x=\"125.55\" y=\"-30.85\" font-family=\"Times New Roman,serif\" font-size=\"14.00\">ready</text>\n</g>\n<!-- fake&#45;&gt;ready -->\n<g id=\"edge1\" class=\"edge\">\n<title>fake-&gt;ready</title>\n<path fill=\"none\" stroke=\"black\" stroke-width=\"2\" d=\"M54.38,-34.55C62.06,-34.55 70.67,-34.55 79.17,-34.55\"/>\n<polygon fill=\"black\" stroke=\"black\" stroke-width=\"2\" points=\"77.55,-38.05 87.55,-34.55 77.55,-31.05 77.55,-38.05\"/>\n</g>\n<!-- ready&#45;&gt;ready -->\n<g id=\"edge2\" class=\"edge\">\n<title>ready-&gt;ready</title>\n<path fill=\"none\" stroke=\"black\" d=\"M115.61,-68.16C115.76,-78.74 119.07,-87.09 125.55,-87.09 129.49,-87.09 132.27,-83.99 133.86,-79.17\"/>\n<polygon fill=\"black\" stroke=\"black\" points=\"137.27,-80.06 135.27,-69.65 130.35,-79.03 137.27,-80.06\"/>\n<text text-anchor=\"middle\" x=\"125.55\" y=\"-90.89\" font-family=\"Times New Roman,serif\" font-size=\"14.00\">cleaning, 1.0, -1.0</text>\n</g>\n</g>\n</svg>"
     },
     "metadata": {},
     "output_type": "display_data"
    }
   ],
   "source": [
    "def cleaning_service(name: str = CLEANING_SERVICE_NAME, action_reward: float = USA_REWARD) -> Service:\n",
    "    \"\"\"Build the human cleaning device.\"\"\"\n",
    "    return build_generic_service_one_state(\n",
    "        name,\n",
    "        {CLEANING},\n",
    "        action_reward=action_reward\n",
    "    )\n",
    "\n",
    "service_cleaning = cleaning_service()\n",
    "render_service(service_cleaning)"
   ]
  },
  {
   "cell_type": "code",
   "execution_count": 28,
   "metadata": {},
   "outputs": [
    {
     "data": {
      "text/plain": "<IPython.core.display.SVG object>",
      "image/svg+xml": "<svg xmlns=\"http://www.w3.org/2000/svg\" xmlns:xlink=\"http://www.w3.org/1999/xlink\" width=\"1535pt\" height=\"213pt\" viewBox=\"0.00 0.00 1535.38 213.29\">\n<g id=\"graph0\" class=\"graph\" transform=\"scale(1 1) rotate(0) translate(4 209.29)\">\n<polygon fill=\"white\" stroke=\"none\" points=\"-4,4 -4,-209.29 1531.38,-209.29 1531.38,4 -4,4\"/>\n<!-- fake -->\n<g id=\"node1\" class=\"node\">\n<title>fake</title>\n</g>\n<!-- ready -->\n<g id=\"node2\" class=\"node\">\n<title>ready</title>\n<ellipse fill=\"none\" stroke=\"black\" cx=\"125.55\" cy=\"-72.25\" rx=\"30.59\" ry=\"30.59\"/>\n<ellipse fill=\"none\" stroke=\"black\" cx=\"125.55\" cy=\"-72.25\" rx=\"34.59\" ry=\"34.59\"/>\n<text text-anchor=\"middle\" x=\"125.55\" y=\"-68.55\" font-family=\"Times New Roman,serif\" font-size=\"14.00\">ready</text>\n</g>\n<!-- fake&#45;&gt;ready -->\n<g id=\"edge1\" class=\"edge\">\n<title>fake-&gt;ready</title>\n<path fill=\"none\" stroke=\"black\" stroke-width=\"2\" d=\"M54.38,-72.25C62.06,-72.25 70.67,-72.25 79.17,-72.25\"/>\n<polygon fill=\"black\" stroke=\"black\" stroke-width=\"2\" points=\"77.55,-75.75 87.55,-72.25 77.55,-68.75 77.55,-75.75\"/>\n</g>\n<!-- configured -->\n<g id=\"node5\" class=\"node\">\n<title>configured</title>\n<ellipse fill=\"none\" stroke=\"black\" cx=\"450.09\" cy=\"-155.25\" rx=\"50.09\" ry=\"50.09\"/>\n<text text-anchor=\"middle\" x=\"450.09\" y=\"-151.55\" font-family=\"Times New Roman,serif\" font-size=\"14.00\">configured</text>\n</g>\n<!-- ready&#45;&gt;configured -->\n<g id=\"edge2\" class=\"edge\">\n<title>ready-&gt;configured</title>\n<path fill=\"none\" stroke=\"black\" d=\"M159.25,-81.21C165.5,-82.9 172,-84.64 178.09,-86.25 251.01,-105.43 335.19,-126.73 390.13,-140.52\"/>\n<polygon fill=\"black\" stroke=\"black\" points=\"389.04,-143.86 399.59,-142.89 390.74,-137.07 389.04,-143.86\"/>\n<text text-anchor=\"middle\" x=\"268.09\" y=\"-134.05\" font-family=\"Times New Roman,serif\" font-size=\"14.00\">config_film_deposition, 1.0, 0.0</text>\n</g>\n<!-- executing -->\n<g id=\"node3\" class=\"node\">\n<title>executing</title>\n<ellipse fill=\"none\" stroke=\"black\" cx=\"857.09\" cy=\"-104.25\" rx=\"44.69\" ry=\"44.69\"/>\n<text text-anchor=\"middle\" x=\"857.09\" y=\"-100.55\" font-family=\"Times New Roman,serif\" font-size=\"14.00\">executing</text>\n</g>\n<!-- executing&#45;&gt;ready -->\n<g id=\"edge5\" class=\"edge\">\n<title>executing-&gt;ready</title>\n<path fill=\"none\" stroke=\"black\" d=\"M812.1,-100.54C748.56,-95.35 627.41,-85.99 524.09,-81.25 396.44,-75.38 245.55,-73.29 171.77,-72.59\"/>\n<polygon fill=\"black\" stroke=\"black\" points=\"172.14,-69.09 162.11,-72.5 172.08,-76.09 172.14,-69.09\"/>\n<text text-anchor=\"middle\" x=\"450.09\" y=\"-85.05\" font-family=\"Times New Roman,serif\" font-size=\"14.00\">film_deposition, 0.95, -1.0</text>\n</g>\n<!-- broken -->\n<g id=\"node4\" class=\"node\">\n<title>broken</title>\n<ellipse fill=\"none\" stroke=\"black\" cx=\"1176.49\" cy=\"-104.25\" rx=\"36.29\" ry=\"36.29\"/>\n<text text-anchor=\"middle\" x=\"1176.49\" y=\"-100.55\" font-family=\"Times New Roman,serif\" font-size=\"14.00\">broken</text>\n</g>\n<!-- executing&#45;&gt;broken -->\n<g id=\"edge6\" class=\"edge\">\n<title>executing-&gt;broken</title>\n<path fill=\"none\" stroke=\"black\" d=\"M902.23,-104.25C961.92,-104.25 1067.9,-104.25 1128.85,-104.25\"/>\n<polygon fill=\"black\" stroke=\"black\" points=\"1128.54,-107.75 1138.54,-104.25 1128.54,-100.75 1128.54,-107.75\"/>\n<text text-anchor=\"middle\" x=\"1048.09\" y=\"-108.05\" font-family=\"Times New Roman,serif\" font-size=\"14.00\">film_deposition, 0.05, -1.0</text>\n</g>\n<!-- repairing -->\n<g id=\"node6\" class=\"node\">\n<title>repairing</title>\n<ellipse fill=\"none\" stroke=\"black\" cx=\"1485.13\" cy=\"-42.25\" rx=\"42.49\" ry=\"42.49\"/>\n<text text-anchor=\"middle\" x=\"1485.13\" y=\"-38.55\" font-family=\"Times New Roman,serif\" font-size=\"14.00\">repairing</text>\n</g>\n<!-- broken&#45;&gt;repairing -->\n<g id=\"edge7\" class=\"edge\">\n<title>broken-&gt;repairing</title>\n<path fill=\"none\" stroke=\"black\" d=\"M1212.37,-97.19C1266.01,-86.35 1369.11,-65.5 1431.76,-52.84\"/>\n<polygon fill=\"black\" stroke=\"black\" points=\"1432.37,-56.28 1441.48,-50.87 1430.98,-49.42 1432.37,-56.28\"/>\n<text text-anchor=\"middle\" x=\"1327.89\" y=\"-96.05\" font-family=\"Times New Roman,serif\" font-size=\"14.00\">restore_film_deposition, 1.0, -10.0</text>\n</g>\n<!-- configured&#45;&gt;executing -->\n<g id=\"edge3\" class=\"edge\">\n<title>configured-&gt;executing</title>\n<path fill=\"none\" stroke=\"black\" d=\"M499.95,-149.09C575.85,-139.54 721.6,-121.18 801.09,-111.17\"/>\n<polygon fill=\"black\" stroke=\"black\" points=\"801.34,-114.67 810.82,-109.95 800.46,-107.72 801.34,-114.67\"/>\n<text text-anchor=\"middle\" x=\"641.09\" y=\"-146.05\" font-family=\"Times New Roman,serif\" font-size=\"14.00\">checked_film_deposition, 0.95, 0.0</text>\n</g>\n<!-- configured&#45;&gt;broken -->\n<g id=\"edge4\" class=\"edge\">\n<title>configured-&gt;broken</title>\n<path fill=\"none\" stroke=\"black\" d=\"M500.4,-159.34C590.99,-166.01 789.88,-176.75 956.09,-158.25 1031.03,-149.91 1049.52,-143.71 1122.09,-123.25 1125.16,-122.38 1128.3,-121.43 1131.45,-120.44\"/>\n<polygon fill=\"black\" stroke=\"black\" points=\"1132.28,-123.85 1140.66,-117.38 1130.07,-117.21 1132.28,-123.85\"/>\n<text text-anchor=\"middle\" x=\"857.09\" y=\"-172.05\" font-family=\"Times New Roman,serif\" font-size=\"14.00\">checked_film_deposition, 0.05, 0.0</text>\n</g>\n<!-- repairing&#45;&gt;ready -->\n<g id=\"edge8\" class=\"edge\">\n<title>repairing-&gt;ready</title>\n<path fill=\"none\" stroke=\"black\" d=\"M1442.51,-38.7C1383.56,-33.98 1272.38,-26.25 1177.49,-26.25 449.09,-26.25 449.09,-26.25 449.09,-26.25 348.45,-26.25 231.9,-48.47 170.17,-62.02\"/>\n<polygon fill=\"black\" stroke=\"black\" points=\"169.77,-58.52 160.77,-64.11 171.29,-65.36 169.77,-58.52\"/>\n<text text-anchor=\"middle\" x=\"857.09\" y=\"-30.05\" font-family=\"Times New Roman,serif\" font-size=\"14.00\">repaired_film_deposition, 1.0, 0.0</text>\n</g>\n</g>\n</svg>"
     },
     "metadata": {},
     "output_type": "display_data"
    },
    {
     "data": {
      "text/plain": "<IPython.core.display.SVG object>",
      "image/svg+xml": "<svg xmlns=\"http://www.w3.org/2000/svg\" xmlns:xlink=\"http://www.w3.org/1999/xlink\" width=\"1535pt\" height=\"213pt\" viewBox=\"0.00 0.00 1535.38 213.29\">\n<g id=\"graph0\" class=\"graph\" transform=\"scale(1 1) rotate(0) translate(4 209.29)\">\n<polygon fill=\"white\" stroke=\"none\" points=\"-4,4 -4,-209.29 1531.38,-209.29 1531.38,4 -4,4\"/>\n<!-- fake -->\n<g id=\"node1\" class=\"node\">\n<title>fake</title>\n</g>\n<!-- ready -->\n<g id=\"node2\" class=\"node\">\n<title>ready</title>\n<ellipse fill=\"none\" stroke=\"black\" cx=\"125.55\" cy=\"-72.25\" rx=\"30.59\" ry=\"30.59\"/>\n<ellipse fill=\"none\" stroke=\"black\" cx=\"125.55\" cy=\"-72.25\" rx=\"34.59\" ry=\"34.59\"/>\n<text text-anchor=\"middle\" x=\"125.55\" y=\"-68.55\" font-family=\"Times New Roman,serif\" font-size=\"14.00\">ready</text>\n</g>\n<!-- fake&#45;&gt;ready -->\n<g id=\"edge1\" class=\"edge\">\n<title>fake-&gt;ready</title>\n<path fill=\"none\" stroke=\"black\" stroke-width=\"2\" d=\"M54.38,-72.25C62.06,-72.25 70.67,-72.25 79.17,-72.25\"/>\n<polygon fill=\"black\" stroke=\"black\" stroke-width=\"2\" points=\"77.55,-75.75 87.55,-72.25 77.55,-68.75 77.55,-75.75\"/>\n</g>\n<!-- configured -->\n<g id=\"node5\" class=\"node\">\n<title>configured</title>\n<ellipse fill=\"none\" stroke=\"black\" cx=\"450.09\" cy=\"-155.25\" rx=\"50.09\" ry=\"50.09\"/>\n<text text-anchor=\"middle\" x=\"450.09\" y=\"-151.55\" font-family=\"Times New Roman,serif\" font-size=\"14.00\">configured</text>\n</g>\n<!-- ready&#45;&gt;configured -->\n<g id=\"edge2\" class=\"edge\">\n<title>ready-&gt;configured</title>\n<path fill=\"none\" stroke=\"black\" d=\"M159.25,-81.21C165.5,-82.9 172,-84.64 178.09,-86.25 251.01,-105.43 335.19,-126.73 390.13,-140.52\"/>\n<polygon fill=\"black\" stroke=\"black\" points=\"389.04,-143.86 399.59,-142.89 390.74,-137.07 389.04,-143.86\"/>\n<text text-anchor=\"middle\" x=\"268.09\" y=\"-134.05\" font-family=\"Times New Roman,serif\" font-size=\"14.00\">config_film_deposition, 1.0, 0.0</text>\n</g>\n<!-- executing -->\n<g id=\"node3\" class=\"node\">\n<title>executing</title>\n<ellipse fill=\"none\" stroke=\"black\" cx=\"857.09\" cy=\"-104.25\" rx=\"44.69\" ry=\"44.69\"/>\n<text text-anchor=\"middle\" x=\"857.09\" y=\"-100.55\" font-family=\"Times New Roman,serif\" font-size=\"14.00\">executing</text>\n</g>\n<!-- executing&#45;&gt;ready -->\n<g id=\"edge5\" class=\"edge\">\n<title>executing-&gt;ready</title>\n<path fill=\"none\" stroke=\"black\" d=\"M812.1,-100.54C748.56,-95.35 627.41,-85.99 524.09,-81.25 396.44,-75.38 245.55,-73.29 171.77,-72.59\"/>\n<polygon fill=\"black\" stroke=\"black\" points=\"172.14,-69.09 162.11,-72.5 172.08,-76.09 172.14,-69.09\"/>\n<text text-anchor=\"middle\" x=\"450.09\" y=\"-85.05\" font-family=\"Times New Roman,serif\" font-size=\"14.00\">film_deposition, 0.95, -5.0</text>\n</g>\n<!-- broken -->\n<g id=\"node4\" class=\"node\">\n<title>broken</title>\n<ellipse fill=\"none\" stroke=\"black\" cx=\"1176.49\" cy=\"-104.25\" rx=\"36.29\" ry=\"36.29\"/>\n<text text-anchor=\"middle\" x=\"1176.49\" y=\"-100.55\" font-family=\"Times New Roman,serif\" font-size=\"14.00\">broken</text>\n</g>\n<!-- executing&#45;&gt;broken -->\n<g id=\"edge6\" class=\"edge\">\n<title>executing-&gt;broken</title>\n<path fill=\"none\" stroke=\"black\" d=\"M902.23,-104.25C961.92,-104.25 1067.9,-104.25 1128.85,-104.25\"/>\n<polygon fill=\"black\" stroke=\"black\" points=\"1128.54,-107.75 1138.54,-104.25 1128.54,-100.75 1128.54,-107.75\"/>\n<text text-anchor=\"middle\" x=\"1048.09\" y=\"-108.05\" font-family=\"Times New Roman,serif\" font-size=\"14.00\">film_deposition, 0.05, -5.0</text>\n</g>\n<!-- repairing -->\n<g id=\"node6\" class=\"node\">\n<title>repairing</title>\n<ellipse fill=\"none\" stroke=\"black\" cx=\"1485.13\" cy=\"-42.25\" rx=\"42.49\" ry=\"42.49\"/>\n<text text-anchor=\"middle\" x=\"1485.13\" y=\"-38.55\" font-family=\"Times New Roman,serif\" font-size=\"14.00\">repairing</text>\n</g>\n<!-- broken&#45;&gt;repairing -->\n<g id=\"edge7\" class=\"edge\">\n<title>broken-&gt;repairing</title>\n<path fill=\"none\" stroke=\"black\" d=\"M1212.37,-97.19C1266.01,-86.35 1369.11,-65.5 1431.76,-52.84\"/>\n<polygon fill=\"black\" stroke=\"black\" points=\"1432.37,-56.28 1441.48,-50.87 1430.98,-49.42 1432.37,-56.28\"/>\n<text text-anchor=\"middle\" x=\"1327.89\" y=\"-96.05\" font-family=\"Times New Roman,serif\" font-size=\"14.00\">restore_film_deposition, 1.0, -10.0</text>\n</g>\n<!-- configured&#45;&gt;executing -->\n<g id=\"edge3\" class=\"edge\">\n<title>configured-&gt;executing</title>\n<path fill=\"none\" stroke=\"black\" d=\"M499.95,-149.09C575.85,-139.54 721.6,-121.18 801.09,-111.17\"/>\n<polygon fill=\"black\" stroke=\"black\" points=\"801.34,-114.67 810.82,-109.95 800.46,-107.72 801.34,-114.67\"/>\n<text text-anchor=\"middle\" x=\"641.09\" y=\"-146.05\" font-family=\"Times New Roman,serif\" font-size=\"14.00\">checked_film_deposition, 0.95, 0.0</text>\n</g>\n<!-- configured&#45;&gt;broken -->\n<g id=\"edge4\" class=\"edge\">\n<title>configured-&gt;broken</title>\n<path fill=\"none\" stroke=\"black\" d=\"M500.4,-159.34C590.99,-166.01 789.88,-176.75 956.09,-158.25 1031.03,-149.91 1049.52,-143.71 1122.09,-123.25 1125.16,-122.38 1128.3,-121.43 1131.45,-120.44\"/>\n<polygon fill=\"black\" stroke=\"black\" points=\"1132.28,-123.85 1140.66,-117.38 1130.07,-117.21 1132.28,-123.85\"/>\n<text text-anchor=\"middle\" x=\"857.09\" y=\"-172.05\" font-family=\"Times New Roman,serif\" font-size=\"14.00\">checked_film_deposition, 0.05, 0.0</text>\n</g>\n<!-- repairing&#45;&gt;ready -->\n<g id=\"edge8\" class=\"edge\">\n<title>repairing-&gt;ready</title>\n<path fill=\"none\" stroke=\"black\" d=\"M1442.51,-38.7C1383.56,-33.98 1272.38,-26.25 1177.49,-26.25 449.09,-26.25 449.09,-26.25 449.09,-26.25 348.45,-26.25 231.9,-48.47 170.17,-62.02\"/>\n<polygon fill=\"black\" stroke=\"black\" points=\"169.77,-58.52 160.77,-64.11 171.29,-65.36 169.77,-58.52\"/>\n<text text-anchor=\"middle\" x=\"857.09\" y=\"-30.05\" font-family=\"Times New Roman,serif\" font-size=\"14.00\">repaired_film_deposition, 1.0, 0.0</text>\n</g>\n</g>\n</svg>"
     },
     "metadata": {},
     "output_type": "display_data"
    }
   ],
   "source": [
    "def film_deposition_service(name: str, broken_prob: float, unemployable_prob: float, broken_reward: float,\n",
    "                            action_reward: float) -> Service:\n",
    "    \"\"\"Build the film deposition device.\"\"\"\n",
    "    return build_complex_breakable_service(name, FILM_DEPOSITION, broken_prob=broken_prob,\n",
    "                                           unemployable_prob=unemployable_prob, broken_reward=broken_reward,\n",
    "                                           action_reward=action_reward)\n",
    "\n",
    "\n",
    "service_film_deposition1 = film_deposition_service(FILM_DEPOSITION1_SERVICE_NAME, DEFAULT_BROKEN_PROB,\n",
    "                                                   DEFAULT_UNEMPLOYABLE_PROB, DEFAULT_BROKEN_REWARD, USA_REWARD)\n",
    "service_film_deposition2 = film_deposition_service(FILM_DEPOSITION2_SERVICE_NAME, DEFAULT_BROKEN_PROB, DEFAULT_UNEMPLOYABLE_PROB, DEFAULT_BROKEN_REWARD, HIGH_USA_REWARD)\n",
    "render_service(service_film_deposition1)\n",
    "render_service(service_film_deposition2)"
   ]
  },
  {
   "cell_type": "code",
   "execution_count": 29,
   "metadata": {},
   "outputs": [
    {
     "data": {
      "text/plain": "<IPython.core.display.SVG object>",
      "image/svg+xml": "<svg xmlns=\"http://www.w3.org/2000/svg\" xmlns:xlink=\"http://www.w3.org/1999/xlink\" width=\"1477pt\" height=\"213pt\" viewBox=\"0.00 0.00 1477.38 213.29\">\n<g id=\"graph0\" class=\"graph\" transform=\"scale(1 1) rotate(0) translate(4 209.29)\">\n<polygon fill=\"white\" stroke=\"none\" points=\"-4,4 -4,-209.29 1473.38,-209.29 1473.38,4 -4,4\"/>\n<!-- fake -->\n<g id=\"node1\" class=\"node\">\n<title>fake</title>\n</g>\n<!-- ready -->\n<g id=\"node2\" class=\"node\">\n<title>ready</title>\n<ellipse fill=\"none\" stroke=\"black\" cx=\"125.55\" cy=\"-72.25\" rx=\"30.59\" ry=\"30.59\"/>\n<ellipse fill=\"none\" stroke=\"black\" cx=\"125.55\" cy=\"-72.25\" rx=\"34.59\" ry=\"34.59\"/>\n<text text-anchor=\"middle\" x=\"125.55\" y=\"-68.55\" font-family=\"Times New Roman,serif\" font-size=\"14.00\">ready</text>\n</g>\n<!-- fake&#45;&gt;ready -->\n<g id=\"edge1\" class=\"edge\">\n<title>fake-&gt;ready</title>\n<path fill=\"none\" stroke=\"black\" stroke-width=\"2\" d=\"M54.38,-72.25C62.06,-72.25 70.67,-72.25 79.17,-72.25\"/>\n<polygon fill=\"black\" stroke=\"black\" stroke-width=\"2\" points=\"77.55,-75.75 87.55,-72.25 77.55,-68.75 77.55,-75.75\"/>\n</g>\n<!-- configured -->\n<g id=\"node5\" class=\"node\">\n<title>configured</title>\n<ellipse fill=\"none\" stroke=\"black\" cx=\"435.59\" cy=\"-155.25\" rx=\"50.09\" ry=\"50.09\"/>\n<text text-anchor=\"middle\" x=\"435.59\" y=\"-151.55\" font-family=\"Times New Roman,serif\" font-size=\"14.00\">configured</text>\n</g>\n<!-- ready&#45;&gt;configured -->\n<g id=\"edge2\" class=\"edge\">\n<title>ready-&gt;configured</title>\n<path fill=\"none\" stroke=\"black\" d=\"M159.27,-81.15C165.52,-82.84 172.01,-84.6 178.09,-86.25 245.9,-104.58 323.83,-125.52 375.83,-139.48\"/>\n<polygon fill=\"black\" stroke=\"black\" points=\"374.81,-142.83 385.38,-142.04 376.63,-136.07 374.81,-142.83\"/>\n<text text-anchor=\"middle\" x=\"263.09\" y=\"-134.05\" font-family=\"Times New Roman,serif\" font-size=\"14.00\">config_resist_coating, 1.0, 0.0</text>\n</g>\n<!-- executing -->\n<g id=\"node3\" class=\"node\">\n<title>executing</title>\n<ellipse fill=\"none\" stroke=\"black\" cx=\"823.09\" cy=\"-104.25\" rx=\"44.69\" ry=\"44.69\"/>\n<text text-anchor=\"middle\" x=\"823.09\" y=\"-100.55\" font-family=\"Times New Roman,serif\" font-size=\"14.00\">executing</text>\n</g>\n<!-- executing&#45;&gt;ready -->\n<g id=\"edge5\" class=\"edge\">\n<title>executing-&gt;ready</title>\n<path fill=\"none\" stroke=\"black\" d=\"M778.29,-100.39C717.17,-95.17 602.79,-85.95 505.09,-81.25 384.74,-75.45 242.67,-73.34 171.68,-72.61\"/>\n<polygon fill=\"black\" stroke=\"black\" points=\"172.05,-69.11 162.01,-72.51 171.98,-76.11 172.05,-69.11\"/>\n<text text-anchor=\"middle\" x=\"435.59\" y=\"-85.05\" font-family=\"Times New Roman,serif\" font-size=\"14.00\">resist_coating, 0.95, -1.0</text>\n</g>\n<!-- broken -->\n<g id=\"node4\" class=\"node\">\n<title>broken</title>\n<ellipse fill=\"none\" stroke=\"black\" cx=\"1128.49\" cy=\"-104.25\" rx=\"36.29\" ry=\"36.29\"/>\n<text text-anchor=\"middle\" x=\"1128.49\" y=\"-100.55\" font-family=\"Times New Roman,serif\" font-size=\"14.00\">broken</text>\n</g>\n<!-- executing&#45;&gt;broken -->\n<g id=\"edge6\" class=\"edge\">\n<title>executing-&gt;broken</title>\n<path fill=\"none\" stroke=\"black\" d=\"M868.21,-104.25C924.79,-104.25 1022.52,-104.25 1080.47,-104.25\"/>\n<polygon fill=\"black\" stroke=\"black\" points=\"1080.34,-107.75 1090.34,-104.25 1080.34,-100.75 1080.34,-107.75\"/>\n<text text-anchor=\"middle\" x=\"1004.59\" y=\"-108.05\" font-family=\"Times New Roman,serif\" font-size=\"14.00\">resist_coating, 0.05, -1.0</text>\n</g>\n<!-- repairing -->\n<g id=\"node6\" class=\"node\">\n<title>repairing</title>\n<ellipse fill=\"none\" stroke=\"black\" cx=\"1427.13\" cy=\"-42.25\" rx=\"42.49\" ry=\"42.49\"/>\n<text text-anchor=\"middle\" x=\"1427.13\" y=\"-38.55\" font-family=\"Times New Roman,serif\" font-size=\"14.00\">repairing</text>\n</g>\n<!-- broken&#45;&gt;repairing -->\n<g id=\"edge7\" class=\"edge\">\n<title>broken-&gt;repairing</title>\n<path fill=\"none\" stroke=\"black\" d=\"M1164.39,-96.95C1216.19,-86.13 1313.76,-65.73 1374.04,-53.13\"/>\n<polygon fill=\"black\" stroke=\"black\" points=\"1374.65,-56.58 1383.72,-51.11 1373.22,-49.73 1374.65,-56.58\"/>\n<text text-anchor=\"middle\" x=\"1274.89\" y=\"-96.05\" font-family=\"Times New Roman,serif\" font-size=\"14.00\">restore_resist_coating, 1.0, -10.0</text>\n</g>\n<!-- configured&#45;&gt;executing -->\n<g id=\"edge3\" class=\"edge\">\n<title>configured-&gt;executing</title>\n<path fill=\"none\" stroke=\"black\" d=\"M485.42,-148.79C557.49,-139.25 691.94,-121.46 767.3,-111.5\"/>\n<polygon fill=\"black\" stroke=\"black\" points=\"767.46,-115 776.92,-110.22 766.54,-108.06 767.46,-115\"/>\n<text text-anchor=\"middle\" x=\"617.09\" y=\"-146.05\" font-family=\"Times New Roman,serif\" font-size=\"14.00\">checked_resist_coating, 0.95, 0.0</text>\n</g>\n<!-- configured&#45;&gt;broken -->\n<g id=\"edge4\" class=\"edge\">\n<title>configured-&gt;broken</title>\n<path fill=\"none\" stroke=\"black\" d=\"M485.93,-159.54C573.23,-166.24 760.5,-176.64 917.09,-158.25 988.1,-149.9 1005.4,-143.04 1074.09,-123.25 1077.15,-122.36 1080.29,-121.4 1083.44,-120.39\"/>\n<polygon fill=\"black\" stroke=\"black\" points=\"1084.27,-123.81 1092.65,-117.32 1082.05,-117.17 1084.27,-123.81\"/>\n<text text-anchor=\"middle\" x=\"823.09\" y=\"-172.05\" font-family=\"Times New Roman,serif\" font-size=\"14.00\">checked_resist_coating, 0.05, 0.0</text>\n</g>\n<!-- repairing&#45;&gt;ready -->\n<g id=\"edge8\" class=\"edge\">\n<title>repairing-&gt;ready</title>\n<path fill=\"none\" stroke=\"black\" d=\"M1384.42,-38.58C1327.04,-33.85 1220.52,-26.25 1129.49,-26.25 434.59,-26.25 434.59,-26.25 434.59,-26.25 339.6,-26.25 229.92,-47.91 170.44,-61.5\"/>\n<polygon fill=\"black\" stroke=\"black\" points=\"170.01,-58.01 161.06,-63.68 171.59,-64.83 170.01,-58.01\"/>\n<text text-anchor=\"middle\" x=\"823.09\" y=\"-30.05\" font-family=\"Times New Roman,serif\" font-size=\"14.00\">repaired_resist_coating, 1.0, 0.0</text>\n</g>\n</g>\n</svg>"
     },
     "metadata": {},
     "output_type": "display_data"
    },
    {
     "data": {
      "text/plain": "<IPython.core.display.SVG object>",
      "image/svg+xml": "<svg xmlns=\"http://www.w3.org/2000/svg\" xmlns:xlink=\"http://www.w3.org/1999/xlink\" width=\"1477pt\" height=\"213pt\" viewBox=\"0.00 0.00 1477.38 213.29\">\n<g id=\"graph0\" class=\"graph\" transform=\"scale(1 1) rotate(0) translate(4 209.29)\">\n<polygon fill=\"white\" stroke=\"none\" points=\"-4,4 -4,-209.29 1473.38,-209.29 1473.38,4 -4,4\"/>\n<!-- fake -->\n<g id=\"node1\" class=\"node\">\n<title>fake</title>\n</g>\n<!-- ready -->\n<g id=\"node2\" class=\"node\">\n<title>ready</title>\n<ellipse fill=\"none\" stroke=\"black\" cx=\"125.55\" cy=\"-72.25\" rx=\"30.59\" ry=\"30.59\"/>\n<ellipse fill=\"none\" stroke=\"black\" cx=\"125.55\" cy=\"-72.25\" rx=\"34.59\" ry=\"34.59\"/>\n<text text-anchor=\"middle\" x=\"125.55\" y=\"-68.55\" font-family=\"Times New Roman,serif\" font-size=\"14.00\">ready</text>\n</g>\n<!-- fake&#45;&gt;ready -->\n<g id=\"edge1\" class=\"edge\">\n<title>fake-&gt;ready</title>\n<path fill=\"none\" stroke=\"black\" stroke-width=\"2\" d=\"M54.38,-72.25C62.06,-72.25 70.67,-72.25 79.17,-72.25\"/>\n<polygon fill=\"black\" stroke=\"black\" stroke-width=\"2\" points=\"77.55,-75.75 87.55,-72.25 77.55,-68.75 77.55,-75.75\"/>\n</g>\n<!-- configured -->\n<g id=\"node5\" class=\"node\">\n<title>configured</title>\n<ellipse fill=\"none\" stroke=\"black\" cx=\"435.59\" cy=\"-155.25\" rx=\"50.09\" ry=\"50.09\"/>\n<text text-anchor=\"middle\" x=\"435.59\" y=\"-151.55\" font-family=\"Times New Roman,serif\" font-size=\"14.00\">configured</text>\n</g>\n<!-- ready&#45;&gt;configured -->\n<g id=\"edge2\" class=\"edge\">\n<title>ready-&gt;configured</title>\n<path fill=\"none\" stroke=\"black\" d=\"M159.27,-81.15C165.52,-82.84 172.01,-84.6 178.09,-86.25 245.9,-104.58 323.83,-125.52 375.83,-139.48\"/>\n<polygon fill=\"black\" stroke=\"black\" points=\"374.81,-142.83 385.38,-142.04 376.63,-136.07 374.81,-142.83\"/>\n<text text-anchor=\"middle\" x=\"263.09\" y=\"-134.05\" font-family=\"Times New Roman,serif\" font-size=\"14.00\">config_resist_coating, 1.0, 0.0</text>\n</g>\n<!-- executing -->\n<g id=\"node3\" class=\"node\">\n<title>executing</title>\n<ellipse fill=\"none\" stroke=\"black\" cx=\"823.09\" cy=\"-104.25\" rx=\"44.69\" ry=\"44.69\"/>\n<text text-anchor=\"middle\" x=\"823.09\" y=\"-100.55\" font-family=\"Times New Roman,serif\" font-size=\"14.00\">executing</text>\n</g>\n<!-- executing&#45;&gt;ready -->\n<g id=\"edge5\" class=\"edge\">\n<title>executing-&gt;ready</title>\n<path fill=\"none\" stroke=\"black\" d=\"M778.29,-100.39C717.17,-95.17 602.79,-85.95 505.09,-81.25 384.74,-75.45 242.67,-73.34 171.68,-72.61\"/>\n<polygon fill=\"black\" stroke=\"black\" points=\"172.05,-69.11 162.01,-72.51 171.98,-76.11 172.05,-69.11\"/>\n<text text-anchor=\"middle\" x=\"435.59\" y=\"-85.05\" font-family=\"Times New Roman,serif\" font-size=\"14.00\">resist_coating, 0.95, -5.0</text>\n</g>\n<!-- broken -->\n<g id=\"node4\" class=\"node\">\n<title>broken</title>\n<ellipse fill=\"none\" stroke=\"black\" cx=\"1128.49\" cy=\"-104.25\" rx=\"36.29\" ry=\"36.29\"/>\n<text text-anchor=\"middle\" x=\"1128.49\" y=\"-100.55\" font-family=\"Times New Roman,serif\" font-size=\"14.00\">broken</text>\n</g>\n<!-- executing&#45;&gt;broken -->\n<g id=\"edge6\" class=\"edge\">\n<title>executing-&gt;broken</title>\n<path fill=\"none\" stroke=\"black\" d=\"M868.21,-104.25C924.79,-104.25 1022.52,-104.25 1080.47,-104.25\"/>\n<polygon fill=\"black\" stroke=\"black\" points=\"1080.34,-107.75 1090.34,-104.25 1080.34,-100.75 1080.34,-107.75\"/>\n<text text-anchor=\"middle\" x=\"1004.59\" y=\"-108.05\" font-family=\"Times New Roman,serif\" font-size=\"14.00\">resist_coating, 0.05, -5.0</text>\n</g>\n<!-- repairing -->\n<g id=\"node6\" class=\"node\">\n<title>repairing</title>\n<ellipse fill=\"none\" stroke=\"black\" cx=\"1427.13\" cy=\"-42.25\" rx=\"42.49\" ry=\"42.49\"/>\n<text text-anchor=\"middle\" x=\"1427.13\" y=\"-38.55\" font-family=\"Times New Roman,serif\" font-size=\"14.00\">repairing</text>\n</g>\n<!-- broken&#45;&gt;repairing -->\n<g id=\"edge7\" class=\"edge\">\n<title>broken-&gt;repairing</title>\n<path fill=\"none\" stroke=\"black\" d=\"M1164.39,-96.95C1216.19,-86.13 1313.76,-65.73 1374.04,-53.13\"/>\n<polygon fill=\"black\" stroke=\"black\" points=\"1374.65,-56.58 1383.72,-51.11 1373.22,-49.73 1374.65,-56.58\"/>\n<text text-anchor=\"middle\" x=\"1274.89\" y=\"-96.05\" font-family=\"Times New Roman,serif\" font-size=\"14.00\">restore_resist_coating, 1.0, -10.0</text>\n</g>\n<!-- configured&#45;&gt;executing -->\n<g id=\"edge3\" class=\"edge\">\n<title>configured-&gt;executing</title>\n<path fill=\"none\" stroke=\"black\" d=\"M485.42,-148.79C557.49,-139.25 691.94,-121.46 767.3,-111.5\"/>\n<polygon fill=\"black\" stroke=\"black\" points=\"767.46,-115 776.92,-110.22 766.54,-108.06 767.46,-115\"/>\n<text text-anchor=\"middle\" x=\"617.09\" y=\"-146.05\" font-family=\"Times New Roman,serif\" font-size=\"14.00\">checked_resist_coating, 0.95, 0.0</text>\n</g>\n<!-- configured&#45;&gt;broken -->\n<g id=\"edge4\" class=\"edge\">\n<title>configured-&gt;broken</title>\n<path fill=\"none\" stroke=\"black\" d=\"M485.93,-159.54C573.23,-166.24 760.5,-176.64 917.09,-158.25 988.1,-149.9 1005.4,-143.04 1074.09,-123.25 1077.15,-122.36 1080.29,-121.4 1083.44,-120.39\"/>\n<polygon fill=\"black\" stroke=\"black\" points=\"1084.27,-123.81 1092.65,-117.32 1082.05,-117.17 1084.27,-123.81\"/>\n<text text-anchor=\"middle\" x=\"823.09\" y=\"-172.05\" font-family=\"Times New Roman,serif\" font-size=\"14.00\">checked_resist_coating, 0.05, 0.0</text>\n</g>\n<!-- repairing&#45;&gt;ready -->\n<g id=\"edge8\" class=\"edge\">\n<title>repairing-&gt;ready</title>\n<path fill=\"none\" stroke=\"black\" d=\"M1384.42,-38.58C1327.04,-33.85 1220.52,-26.25 1129.49,-26.25 434.59,-26.25 434.59,-26.25 434.59,-26.25 339.6,-26.25 229.92,-47.91 170.44,-61.5\"/>\n<polygon fill=\"black\" stroke=\"black\" points=\"170.01,-58.01 161.06,-63.68 171.59,-64.83 170.01,-58.01\"/>\n<text text-anchor=\"middle\" x=\"823.09\" y=\"-30.05\" font-family=\"Times New Roman,serif\" font-size=\"14.00\">repaired_resist_coating, 1.0, 0.0</text>\n</g>\n</g>\n</svg>"
     },
     "metadata": {},
     "output_type": "display_data"
    }
   ],
   "source": [
    "def resist_coating_service(name: str, broken_prob: float, unemployable_prob: float, broken_reward: float,\n",
    "                           action_reward: float) -> Service:\n",
    "    \"\"\"Build the resist coating device.\"\"\"\n",
    "    return build_complex_breakable_service(name, RESIST_COATING, broken_prob=broken_prob,\n",
    "                                           unemployable_prob=unemployable_prob, broken_reward=broken_reward,\n",
    "                                           action_reward=action_reward)\n",
    "\n",
    "\n",
    "service_resist_coating1 = resist_coating_service(RESIST_COATING1_SERVICE_NAME, DEFAULT_BROKEN_PROB,\n",
    "                                                 DEFAULT_UNEMPLOYABLE_PROB, DEFAULT_BROKEN_REWARD, USA_REWARD)\n",
    "service_resist_coating2 = resist_coating_service(RESIST_COATING2_SERVICE_NAME, DEFAULT_BROKEN_PROB,\n",
    "                                                 DEFAULT_UNEMPLOYABLE_PROB, DEFAULT_BROKEN_REWARD, HIGH_USA_REWARD)\n",
    "render_service(service_resist_coating1)\n",
    "render_service(service_resist_coating2)"
   ]
  },
  {
   "cell_type": "code",
   "execution_count": 30,
   "metadata": {},
   "outputs": [
    {
     "data": {
      "text/plain": "<IPython.core.display.SVG object>",
      "image/svg+xml": "<svg xmlns=\"http://www.w3.org/2000/svg\" xmlns:xlink=\"http://www.w3.org/1999/xlink\" width=\"452pt\" height=\"164pt\" viewBox=\"0.00 0.00 451.99 163.99\">\n<g id=\"graph0\" class=\"graph\" transform=\"scale(1 1) rotate(0) translate(4 159.99)\">\n<polygon fill=\"white\" stroke=\"none\" points=\"-4,4 -4,-159.99 447.99,-159.99 447.99,4 -4,4\"/>\n<!-- fake -->\n<g id=\"node1\" class=\"node\">\n<title>fake</title>\n</g>\n<!-- available -->\n<g id=\"node2\" class=\"node\">\n<title>available</title>\n<ellipse fill=\"none\" stroke=\"black\" cx=\"136.6\" cy=\"-78.4\" rx=\"41.68\" ry=\"41.68\"/>\n<ellipse fill=\"none\" stroke=\"black\" cx=\"136.6\" cy=\"-78.4\" rx=\"45.69\" ry=\"45.69\"/>\n<text text-anchor=\"middle\" x=\"136.6\" y=\"-74.7\" font-family=\"Times New Roman,serif\" font-size=\"14.00\">available</text>\n</g>\n<!-- fake&#45;&gt;available -->\n<g id=\"edge1\" class=\"edge\">\n<title>fake-&gt;available</title>\n<path fill=\"none\" stroke=\"black\" stroke-width=\"2\" d=\"M54.32,-78.4C61.93,-78.4 70.55,-78.4 79.26,-78.4\"/>\n<polygon fill=\"black\" stroke=\"black\" stroke-width=\"2\" points=\"77.65,-81.9 87.65,-78.4 77.65,-74.9 77.65,-81.9\"/>\n</g>\n<!-- done -->\n<g id=\"node3\" class=\"node\">\n<title>done</title>\n<ellipse fill=\"none\" stroke=\"black\" cx=\"407.59\" cy=\"-127.4\" rx=\"28.7\" ry=\"28.7\"/>\n<text text-anchor=\"middle\" x=\"407.59\" y=\"-123.7\" font-family=\"Times New Roman,serif\" font-size=\"14.00\">done</text>\n</g>\n<!-- available&#45;&gt;done -->\n<g id=\"edge2\" class=\"edge\">\n<title>available-&gt;done</title>\n<path fill=\"none\" stroke=\"black\" d=\"M175.48,-103.05C183.37,-107.17 191.84,-110.91 200.19,-113.4 256.4,-130.1 324.87,-131.19 367.09,-129.79\"/>\n<polygon fill=\"black\" stroke=\"black\" points=\"367.17,-133.29 377.02,-129.39 366.88,-126.3 367.17,-133.29\"/>\n<text text-anchor=\"middle\" x=\"276.69\" y=\"-133.2\" font-family=\"Times New Roman,serif\" font-size=\"14.00\">exposure, 0.95, -1.0</text>\n</g>\n<!-- broken -->\n<g id=\"node4\" class=\"node\">\n<title>broken</title>\n<ellipse fill=\"none\" stroke=\"black\" cx=\"407.59\" cy=\"-36.4\" rx=\"36.29\" ry=\"36.29\"/>\n<text text-anchor=\"middle\" x=\"407.59\" y=\"-32.7\" font-family=\"Times New Roman,serif\" font-size=\"14.00\">broken</text>\n</g>\n<!-- available&#45;&gt;broken -->\n<g id=\"edge3\" class=\"edge\">\n<title>available-&gt;broken</title>\n<path fill=\"none\" stroke=\"black\" d=\"M180.47,-65.06C187.03,-63.32 193.76,-61.69 200.19,-60.4 254.35,-49.54 317.55,-43.08 359.61,-39.65\"/>\n<polygon fill=\"black\" stroke=\"black\" points=\"359.68,-43.15 369.38,-38.88 359.13,-36.18 359.68,-43.15\"/>\n<text text-anchor=\"middle\" x=\"276.69\" y=\"-64.2\" font-family=\"Times New Roman,serif\" font-size=\"14.00\">exposure, 0.05, -1.0</text>\n</g>\n<!-- done&#45;&gt;available -->\n<g id=\"edge5\" class=\"edge\">\n<title>done-&gt;available</title>\n<path fill=\"none\" stroke=\"black\" d=\"M384.13,-110.18C375.01,-104.12 364.08,-97.93 353.19,-94.4 324.67,-85.14 247.77,-81.21 193.99,-79.56\"/>\n<polygon fill=\"black\" stroke=\"black\" points=\"194.16,-76.06 184.07,-79.27 193.96,-83.06 194.16,-76.06\"/>\n<text text-anchor=\"middle\" x=\"276.69\" y=\"-98.2\" font-family=\"Times New Roman,serif\" font-size=\"14.00\">check_exposure, 1.0, 0.0</text>\n</g>\n<!-- broken&#45;&gt;available -->\n<g id=\"edge4\" class=\"edge\">\n<title>broken-&gt;available</title>\n<path fill=\"none\" stroke=\"black\" d=\"M372.75,-25.3C330.76,-13.45 257.65,0.85 200.19,-21.4 191.33,-24.83 182.94,-30.17 175.37,-36.23\"/>\n<polygon fill=\"black\" stroke=\"black\" points=\"173.27,-33.41 168,-42.61 177.85,-38.7 173.27,-33.41\"/>\n<text text-anchor=\"middle\" x=\"276.69\" y=\"-25.2\" font-family=\"Times New Roman,serif\" font-size=\"14.00\">check_exposure, 1.0, -10.0</text>\n</g>\n</g>\n</svg>"
     },
     "metadata": {},
     "output_type": "display_data"
    },
    {
     "data": {
      "text/plain": "<IPython.core.display.SVG object>",
      "image/svg+xml": "<svg xmlns=\"http://www.w3.org/2000/svg\" xmlns:xlink=\"http://www.w3.org/1999/xlink\" width=\"452pt\" height=\"164pt\" viewBox=\"0.00 0.00 451.99 163.99\">\n<g id=\"graph0\" class=\"graph\" transform=\"scale(1 1) rotate(0) translate(4 159.99)\">\n<polygon fill=\"white\" stroke=\"none\" points=\"-4,4 -4,-159.99 447.99,-159.99 447.99,4 -4,4\"/>\n<!-- fake -->\n<g id=\"node1\" class=\"node\">\n<title>fake</title>\n</g>\n<!-- available -->\n<g id=\"node2\" class=\"node\">\n<title>available</title>\n<ellipse fill=\"none\" stroke=\"black\" cx=\"136.6\" cy=\"-78.4\" rx=\"41.68\" ry=\"41.68\"/>\n<ellipse fill=\"none\" stroke=\"black\" cx=\"136.6\" cy=\"-78.4\" rx=\"45.69\" ry=\"45.69\"/>\n<text text-anchor=\"middle\" x=\"136.6\" y=\"-74.7\" font-family=\"Times New Roman,serif\" font-size=\"14.00\">available</text>\n</g>\n<!-- fake&#45;&gt;available -->\n<g id=\"edge1\" class=\"edge\">\n<title>fake-&gt;available</title>\n<path fill=\"none\" stroke=\"black\" stroke-width=\"2\" d=\"M54.32,-78.4C61.93,-78.4 70.55,-78.4 79.26,-78.4\"/>\n<polygon fill=\"black\" stroke=\"black\" stroke-width=\"2\" points=\"77.65,-81.9 87.65,-78.4 77.65,-74.9 77.65,-81.9\"/>\n</g>\n<!-- done -->\n<g id=\"node3\" class=\"node\">\n<title>done</title>\n<ellipse fill=\"none\" stroke=\"black\" cx=\"407.59\" cy=\"-127.4\" rx=\"28.7\" ry=\"28.7\"/>\n<text text-anchor=\"middle\" x=\"407.59\" y=\"-123.7\" font-family=\"Times New Roman,serif\" font-size=\"14.00\">done</text>\n</g>\n<!-- available&#45;&gt;done -->\n<g id=\"edge2\" class=\"edge\">\n<title>available-&gt;done</title>\n<path fill=\"none\" stroke=\"black\" d=\"M175.48,-103.05C183.37,-107.17 191.84,-110.91 200.19,-113.4 256.4,-130.1 324.87,-131.19 367.09,-129.79\"/>\n<polygon fill=\"black\" stroke=\"black\" points=\"367.17,-133.29 377.02,-129.39 366.88,-126.3 367.17,-133.29\"/>\n<text text-anchor=\"middle\" x=\"276.69\" y=\"-133.2\" font-family=\"Times New Roman,serif\" font-size=\"14.00\">exposure, 0.5, -5.0</text>\n</g>\n<!-- broken -->\n<g id=\"node4\" class=\"node\">\n<title>broken</title>\n<ellipse fill=\"none\" stroke=\"black\" cx=\"407.59\" cy=\"-36.4\" rx=\"36.29\" ry=\"36.29\"/>\n<text text-anchor=\"middle\" x=\"407.59\" y=\"-32.7\" font-family=\"Times New Roman,serif\" font-size=\"14.00\">broken</text>\n</g>\n<!-- available&#45;&gt;broken -->\n<g id=\"edge3\" class=\"edge\">\n<title>available-&gt;broken</title>\n<path fill=\"none\" stroke=\"black\" d=\"M180.47,-65.06C187.03,-63.32 193.76,-61.69 200.19,-60.4 254.35,-49.54 317.55,-43.08 359.61,-39.65\"/>\n<polygon fill=\"black\" stroke=\"black\" points=\"359.68,-43.15 369.38,-38.88 359.13,-36.18 359.68,-43.15\"/>\n<text text-anchor=\"middle\" x=\"276.69\" y=\"-64.2\" font-family=\"Times New Roman,serif\" font-size=\"14.00\">exposure, 0.5, -5.0</text>\n</g>\n<!-- done&#45;&gt;available -->\n<g id=\"edge5\" class=\"edge\">\n<title>done-&gt;available</title>\n<path fill=\"none\" stroke=\"black\" d=\"M384.13,-110.18C375.01,-104.12 364.08,-97.93 353.19,-94.4 324.67,-85.14 247.77,-81.21 193.99,-79.56\"/>\n<polygon fill=\"black\" stroke=\"black\" points=\"194.16,-76.06 184.07,-79.27 193.96,-83.06 194.16,-76.06\"/>\n<text text-anchor=\"middle\" x=\"276.69\" y=\"-98.2\" font-family=\"Times New Roman,serif\" font-size=\"14.00\">check_exposure, 1.0, 0.0</text>\n</g>\n<!-- broken&#45;&gt;available -->\n<g id=\"edge4\" class=\"edge\">\n<title>broken-&gt;available</title>\n<path fill=\"none\" stroke=\"black\" d=\"M372.75,-25.3C330.76,-13.45 257.65,0.85 200.19,-21.4 191.33,-24.83 182.94,-30.17 175.37,-36.23\"/>\n<polygon fill=\"black\" stroke=\"black\" points=\"173.27,-33.41 168,-42.61 177.85,-38.7 173.27,-33.41\"/>\n<text text-anchor=\"middle\" x=\"276.69\" y=\"-25.2\" font-family=\"Times New Roman,serif\" font-size=\"14.00\">check_exposure, 1.0, -10.0</text>\n</g>\n</g>\n</svg>"
     },
     "metadata": {},
     "output_type": "display_data"
    }
   ],
   "source": [
    "def exposure_service(name: str, broken_prob: float, broken_reward: float, action_reward: float) -> Service:\n",
    "    \"\"\"Build the exposure device.\"\"\"\n",
    "    return build_generic_breakable_service(name, EXPOSURE, broken_prob=broken_prob, broken_reward=broken_reward, action_reward=action_reward)\n",
    "\n",
    "service_exposure1 = exposure_service(EXPOSURE1_SERVICE_NAME, DEFAULT_BROKEN_PROB,\n",
    "                                                         DEFAULT_BROKEN_REWARD, USA_REWARD)\n",
    "service_exposure2 = exposure_service(EXPOSURE2_SERVICE_NAME, BROKEN_PROB, DEFAULT_BROKEN_REWARD,\n",
    "                                                HIGH_USA_REWARD)\n",
    "render_service(service_exposure1)\n",
    "render_service(service_exposure2)"
   ]
  },
  {
   "cell_type": "code",
   "execution_count": 31,
   "metadata": {},
   "outputs": [
    {
     "data": {
      "text/plain": "<IPython.core.display.SVG object>",
      "image/svg+xml": "<svg xmlns=\"http://www.w3.org/2000/svg\" xmlns:xlink=\"http://www.w3.org/1999/xlink\" width=\"1441pt\" height=\"213pt\" viewBox=\"0.00 0.00 1441.38 213.29\">\n<g id=\"graph0\" class=\"graph\" transform=\"scale(1 1) rotate(0) translate(4 209.29)\">\n<polygon fill=\"white\" stroke=\"none\" points=\"-4,4 -4,-209.29 1437.38,-209.29 1437.38,4 -4,4\"/>\n<!-- fake -->\n<g id=\"node1\" class=\"node\">\n<title>fake</title>\n</g>\n<!-- ready -->\n<g id=\"node2\" class=\"node\">\n<title>ready</title>\n<ellipse fill=\"none\" stroke=\"black\" cx=\"125.55\" cy=\"-72.25\" rx=\"30.59\" ry=\"30.59\"/>\n<ellipse fill=\"none\" stroke=\"black\" cx=\"125.55\" cy=\"-72.25\" rx=\"34.59\" ry=\"34.59\"/>\n<text text-anchor=\"middle\" x=\"125.55\" y=\"-68.55\" font-family=\"Times New Roman,serif\" font-size=\"14.00\">ready</text>\n</g>\n<!-- fake&#45;&gt;ready -->\n<g id=\"edge1\" class=\"edge\">\n<title>fake-&gt;ready</title>\n<path fill=\"none\" stroke=\"black\" stroke-width=\"2\" d=\"M54.38,-72.25C62.06,-72.25 70.67,-72.25 79.17,-72.25\"/>\n<polygon fill=\"black\" stroke=\"black\" stroke-width=\"2\" points=\"77.55,-75.75 87.55,-72.25 77.55,-68.75 77.55,-75.75\"/>\n</g>\n<!-- configured -->\n<g id=\"node5\" class=\"node\">\n<title>configured</title>\n<ellipse fill=\"none\" stroke=\"black\" cx=\"426.59\" cy=\"-155.25\" rx=\"50.09\" ry=\"50.09\"/>\n<text text-anchor=\"middle\" x=\"426.59\" y=\"-151.55\" font-family=\"Times New Roman,serif\" font-size=\"14.00\">configured</text>\n</g>\n<!-- ready&#45;&gt;configured -->\n<g id=\"edge2\" class=\"edge\">\n<title>ready-&gt;configured</title>\n<path fill=\"none\" stroke=\"black\" d=\"M159.41,-81.37C209.36,-95.23 305.14,-121.81 367.15,-139.02\"/>\n<polygon fill=\"black\" stroke=\"black\" points=\"365.91,-142.31 376.48,-141.61 367.78,-135.57 365.91,-142.31\"/>\n<text text-anchor=\"middle\" x=\"260.09\" y=\"-134.05\" font-family=\"Times New Roman,serif\" font-size=\"14.00\">config_development, 1.0, 0.0</text>\n</g>\n<!-- executing -->\n<g id=\"node3\" class=\"node\">\n<title>executing</title>\n<ellipse fill=\"none\" stroke=\"black\" cx=\"802.09\" cy=\"-104.25\" rx=\"44.69\" ry=\"44.69\"/>\n<text text-anchor=\"middle\" x=\"802.09\" y=\"-100.55\" font-family=\"Times New Roman,serif\" font-size=\"14.00\">executing</text>\n</g>\n<!-- executing&#45;&gt;ready -->\n<g id=\"edge5\" class=\"edge\">\n<title>executing-&gt;ready</title>\n<path fill=\"none\" stroke=\"black\" d=\"M757.27,-100.28C697.58,-95.04 587.35,-85.92 493.09,-81.25 377.4,-75.51 240.98,-73.38 171.75,-72.63\"/>\n<polygon fill=\"black\" stroke=\"black\" points=\"171.98,-69.13 161.94,-72.53 171.9,-76.13 171.98,-69.13\"/>\n<text text-anchor=\"middle\" x=\"426.59\" y=\"-85.05\" font-family=\"Times New Roman,serif\" font-size=\"14.00\">development, 0.95, -1.0</text>\n</g>\n<!-- broken -->\n<g id=\"node4\" class=\"node\">\n<title>broken</title>\n<ellipse fill=\"none\" stroke=\"black\" cx=\"1098.49\" cy=\"-104.25\" rx=\"36.29\" ry=\"36.29\"/>\n<text text-anchor=\"middle\" x=\"1098.49\" y=\"-100.55\" font-family=\"Times New Roman,serif\" font-size=\"14.00\">broken</text>\n</g>\n<!-- executing&#45;&gt;broken -->\n<g id=\"edge6\" class=\"edge\">\n<title>executing-&gt;broken</title>\n<path fill=\"none\" stroke=\"black\" d=\"M847.17,-104.25C901.83,-104.25 994.61,-104.25 1050.56,-104.25\"/>\n<polygon fill=\"black\" stroke=\"black\" points=\"1050.4,-107.75 1060.4,-104.25 1050.4,-100.75 1050.4,-107.75\"/>\n<text text-anchor=\"middle\" x=\"977.59\" y=\"-108.05\" font-family=\"Times New Roman,serif\" font-size=\"14.00\">development, 0.05, -1.0</text>\n</g>\n<!-- repairing -->\n<g id=\"node6\" class=\"node\">\n<title>repairing</title>\n<ellipse fill=\"none\" stroke=\"black\" cx=\"1391.13\" cy=\"-42.25\" rx=\"42.49\" ry=\"42.49\"/>\n<text text-anchor=\"middle\" x=\"1391.13\" y=\"-38.55\" font-family=\"Times New Roman,serif\" font-size=\"14.00\">repairing</text>\n</g>\n<!-- broken&#45;&gt;repairing -->\n<g id=\"edge7\" class=\"edge\">\n<title>broken-&gt;repairing</title>\n<path fill=\"none\" stroke=\"black\" d=\"M1134.26,-96.83C1184.94,-86.02 1279.44,-65.86 1338.33,-53.3\"/>\n<polygon fill=\"black\" stroke=\"black\" points=\"1338.72,-56.79 1347.77,-51.28 1337.26,-49.95 1338.72,-56.79\"/>\n<text text-anchor=\"middle\" x=\"1241.89\" y=\"-96.05\" font-family=\"Times New Roman,serif\" font-size=\"14.00\">restore_development, 1.0, -10.0</text>\n</g>\n<!-- configured&#45;&gt;executing -->\n<g id=\"edge3\" class=\"edge\">\n<title>configured-&gt;executing</title>\n<path fill=\"none\" stroke=\"black\" d=\"M476.42,-148.58C546.06,-139.07 673.5,-121.67 746.28,-111.73\"/>\n<polygon fill=\"black\" stroke=\"black\" points=\"746.54,-115.23 755.98,-110.41 745.6,-108.29 746.54,-115.23\"/>\n<text text-anchor=\"middle\" x=\"602.09\" y=\"-146.05\" font-family=\"Times New Roman,serif\" font-size=\"14.00\">checked_development, 0.95, 0.0</text>\n</g>\n<!-- configured&#45;&gt;broken -->\n<g id=\"edge4\" class=\"edge\">\n<title>configured-&gt;broken</title>\n<path fill=\"none\" stroke=\"black\" d=\"M476.75,-159.66C561.92,-166.4 742.28,-176.64 893.09,-158.25 961.48,-149.9 977.98,-142.6 1044.09,-123.25 1047.15,-122.35 1050.28,-121.38 1053.43,-120.37\"/>\n<polygon fill=\"black\" stroke=\"black\" points=\"1054.27,-123.78 1062.64,-117.28 1052.04,-117.14 1054.27,-123.78\"/>\n<text text-anchor=\"middle\" x=\"802.09\" y=\"-172.05\" font-family=\"Times New Roman,serif\" font-size=\"14.00\">checked_development, 0.05, 0.0</text>\n</g>\n<!-- repairing&#45;&gt;ready -->\n<g id=\"edge8\" class=\"edge\">\n<title>repairing-&gt;ready</title>\n<path fill=\"none\" stroke=\"black\" d=\"M1348.78,-38.54C1292.45,-33.81 1188.43,-26.25 1099.49,-26.25 425.59,-26.25 425.59,-26.25 425.59,-26.25 334,-26.25 228.44,-47.59 170.43,-61.2\"/>\n<polygon fill=\"black\" stroke=\"black\" points=\"169.87,-57.73 160.95,-63.46 171.49,-64.54 169.87,-57.73\"/>\n<text text-anchor=\"middle\" x=\"802.09\" y=\"-30.05\" font-family=\"Times New Roman,serif\" font-size=\"14.00\">repaired_development, 1.0, 0.0</text>\n</g>\n</g>\n</svg>"
     },
     "metadata": {},
     "output_type": "display_data"
    },
    {
     "data": {
      "text/plain": "<IPython.core.display.SVG object>",
      "image/svg+xml": "<svg xmlns=\"http://www.w3.org/2000/svg\" xmlns:xlink=\"http://www.w3.org/1999/xlink\" width=\"1427pt\" height=\"213pt\" viewBox=\"0.00 0.00 1427.38 213.29\">\n<g id=\"graph0\" class=\"graph\" transform=\"scale(1 1) rotate(0) translate(4 209.29)\">\n<polygon fill=\"white\" stroke=\"none\" points=\"-4,4 -4,-209.29 1423.38,-209.29 1423.38,4 -4,4\"/>\n<!-- fake -->\n<g id=\"node1\" class=\"node\">\n<title>fake</title>\n</g>\n<!-- ready -->\n<g id=\"node2\" class=\"node\">\n<title>ready</title>\n<ellipse fill=\"none\" stroke=\"black\" cx=\"125.55\" cy=\"-72.25\" rx=\"30.59\" ry=\"30.59\"/>\n<ellipse fill=\"none\" stroke=\"black\" cx=\"125.55\" cy=\"-72.25\" rx=\"34.59\" ry=\"34.59\"/>\n<text text-anchor=\"middle\" x=\"125.55\" y=\"-68.55\" font-family=\"Times New Roman,serif\" font-size=\"14.00\">ready</text>\n</g>\n<!-- fake&#45;&gt;ready -->\n<g id=\"edge1\" class=\"edge\">\n<title>fake-&gt;ready</title>\n<path fill=\"none\" stroke=\"black\" stroke-width=\"2\" d=\"M54.38,-72.25C62.06,-72.25 70.67,-72.25 79.17,-72.25\"/>\n<polygon fill=\"black\" stroke=\"black\" stroke-width=\"2\" points=\"77.55,-75.75 87.55,-72.25 77.55,-68.75 77.55,-75.75\"/>\n</g>\n<!-- configured -->\n<g id=\"node5\" class=\"node\">\n<title>configured</title>\n<ellipse fill=\"none\" stroke=\"black\" cx=\"423.09\" cy=\"-155.25\" rx=\"50.09\" ry=\"50.09\"/>\n<text text-anchor=\"middle\" x=\"423.09\" y=\"-151.55\" font-family=\"Times New Roman,serif\" font-size=\"14.00\">configured</text>\n</g>\n<!-- ready&#45;&gt;configured -->\n<g id=\"edge2\" class=\"edge\">\n<title>ready-&gt;configured</title>\n<path fill=\"none\" stroke=\"black\" d=\"M159.31,-81.45C208.47,-95.25 302.09,-121.55 363.29,-138.73\"/>\n<polygon fill=\"black\" stroke=\"black\" points=\"362.29,-142.09 372.86,-141.42 364.18,-135.35 362.29,-142.09\"/>\n<text text-anchor=\"middle\" x=\"260.09\" y=\"-134.05\" font-family=\"Times New Roman,serif\" font-size=\"14.00\">config_development, 1.0, 0.0</text>\n</g>\n<!-- executing -->\n<g id=\"node3\" class=\"node\">\n<title>executing</title>\n<ellipse fill=\"none\" stroke=\"black\" cx=\"795.09\" cy=\"-104.25\" rx=\"44.69\" ry=\"44.69\"/>\n<text text-anchor=\"middle\" x=\"795.09\" y=\"-100.55\" font-family=\"Times New Roman,serif\" font-size=\"14.00\">executing</text>\n</g>\n<!-- executing&#45;&gt;ready -->\n<g id=\"edge5\" class=\"edge\">\n<title>executing-&gt;ready</title>\n<path fill=\"none\" stroke=\"black\" d=\"M750.27,-100.29C690.58,-95.05 580.35,-85.94 486.09,-81.25 373.05,-75.61 239.83,-73.45 171.68,-72.66\"/>\n<polygon fill=\"black\" stroke=\"black\" points=\"172.08,-69.16 162.04,-72.55 172,-76.16 172.08,-69.16\"/>\n<text text-anchor=\"middle\" x=\"423.09\" y=\"-85.05\" font-family=\"Times New Roman,serif\" font-size=\"14.00\">development, 0.5, -5.0</text>\n</g>\n<!-- broken -->\n<g id=\"node4\" class=\"node\">\n<title>broken</title>\n<ellipse fill=\"none\" stroke=\"black\" cx=\"1084.49\" cy=\"-104.25\" rx=\"36.29\" ry=\"36.29\"/>\n<text text-anchor=\"middle\" x=\"1084.49\" y=\"-100.55\" font-family=\"Times New Roman,serif\" font-size=\"14.00\">broken</text>\n</g>\n<!-- executing&#45;&gt;broken -->\n<g id=\"edge6\" class=\"edge\">\n<title>executing-&gt;broken</title>\n<path fill=\"none\" stroke=\"black\" d=\"M840.06,-104.25C893.09,-104.25 981.88,-104.25 1036.31,-104.25\"/>\n<polygon fill=\"black\" stroke=\"black\" points=\"1036.19,-107.75 1046.19,-104.25 1036.19,-100.75 1036.19,-107.75\"/>\n<text text-anchor=\"middle\" x=\"967.09\" y=\"-108.05\" font-family=\"Times New Roman,serif\" font-size=\"14.00\">development, 0.5, -5.0</text>\n</g>\n<!-- repairing -->\n<g id=\"node6\" class=\"node\">\n<title>repairing</title>\n<ellipse fill=\"none\" stroke=\"black\" cx=\"1377.13\" cy=\"-42.25\" rx=\"42.49\" ry=\"42.49\"/>\n<text text-anchor=\"middle\" x=\"1377.13\" y=\"-38.55\" font-family=\"Times New Roman,serif\" font-size=\"14.00\">repairing</text>\n</g>\n<!-- broken&#45;&gt;repairing -->\n<g id=\"edge7\" class=\"edge\">\n<title>broken-&gt;repairing</title>\n<path fill=\"none\" stroke=\"black\" d=\"M1120.26,-96.83C1170.94,-86.02 1265.44,-65.86 1324.33,-53.3\"/>\n<polygon fill=\"black\" stroke=\"black\" points=\"1324.72,-56.79 1333.77,-51.28 1323.26,-49.95 1324.72,-56.79\"/>\n<text text-anchor=\"middle\" x=\"1227.89\" y=\"-96.05\" font-family=\"Times New Roman,serif\" font-size=\"14.00\">restore_development, 1.0, -10.0</text>\n</g>\n<!-- configured&#45;&gt;executing -->\n<g id=\"edge3\" class=\"edge\">\n<title>configured-&gt;executing</title>\n<path fill=\"none\" stroke=\"black\" d=\"M473.23,-148.47C542.27,-138.96 667.57,-121.69 739.46,-111.78\"/>\n<polygon fill=\"black\" stroke=\"black\" points=\"739.6,-115.29 749.03,-110.46 738.64,-108.36 739.6,-115.29\"/>\n<text text-anchor=\"middle\" x=\"595.09\" y=\"-146.05\" font-family=\"Times New Roman,serif\" font-size=\"14.00\">checked_development, 0.95, 0.0</text>\n</g>\n<!-- configured&#45;&gt;broken -->\n<g id=\"edge4\" class=\"edge\">\n<title>configured-&gt;broken</title>\n<path fill=\"none\" stroke=\"black\" d=\"M473.24,-159.83C557.94,-166.78 736.71,-177.28 886.09,-158.25 939.78,-151.41 999.46,-133.59 1039,-120.28\"/>\n<polygon fill=\"black\" stroke=\"black\" points=\"1040.09,-123.61 1048.41,-117.06 1037.82,-116.98 1040.09,-123.61\"/>\n<text text-anchor=\"middle\" x=\"795.09\" y=\"-172.05\" font-family=\"Times New Roman,serif\" font-size=\"14.00\">checked_development, 0.05, 0.0</text>\n</g>\n<!-- repairing&#45;&gt;ready -->\n<g id=\"edge8\" class=\"edge\">\n<title>repairing-&gt;ready</title>\n<path fill=\"none\" stroke=\"black\" d=\"M1334.78,-38.54C1278.45,-33.81 1174.43,-26.25 1085.49,-26.25 422.09,-26.25 422.09,-26.25 422.09,-26.25 331.79,-26.25 227.79,-47.47 170.37,-61.09\"/>\n<polygon fill=\"black\" stroke=\"black\" points=\"169.9,-57.6 161,-63.35 171.54,-64.41 169.9,-57.6\"/>\n<text text-anchor=\"middle\" x=\"795.09\" y=\"-30.05\" font-family=\"Times New Roman,serif\" font-size=\"14.00\">repaired_development, 1.0, 0.0</text>\n</g>\n</g>\n</svg>"
     },
     "metadata": {},
     "output_type": "display_data"
    }
   ],
   "source": [
    "def development_service(name: str, broken_prob: float, unemployable_prob: float, broken_reward: float,\n",
    "                        action_reward: float) -> Service:\n",
    "    \"\"\"Build the development device.\"\"\"\n",
    "    return build_complex_breakable_service(name, DEVELOPMENT, broken_prob=broken_prob,\n",
    "                                           unemployable_prob=unemployable_prob, broken_reward=broken_reward,\n",
    "                                           action_reward=action_reward)\n",
    "\n",
    "\n",
    "service_development1 = development_service(DEVELOPMENT1_SERVICE_NAME, DEFAULT_BROKEN_PROB, DEFAULT_UNEMPLOYABLE_PROB,\n",
    "                                           DEFAULT_BROKEN_REWARD, USA_REWARD)\n",
    "service_development2 = development_service(DEVELOPMENT2_SERVICE_NAME, BROKEN_PROB, DEFAULT_UNEMPLOYABLE_PROB, DEFAULT_BROKEN_REWARD, HIGH_USA_REWARD)\n",
    "render_service(service_development1)\n",
    "render_service(service_development2)"
   ]
  },
  {
   "cell_type": "code",
   "execution_count": 32,
   "metadata": {},
   "outputs": [
    {
     "data": {
      "text/plain": "<IPython.core.display.SVG object>",
      "image/svg+xml": "<svg xmlns=\"http://www.w3.org/2000/svg\" xmlns:xlink=\"http://www.w3.org/1999/xlink\" width=\"441pt\" height=\"164pt\" viewBox=\"0.00 0.00 440.99 163.99\">\n<g id=\"graph0\" class=\"graph\" transform=\"scale(1 1) rotate(0) translate(4 159.99)\">\n<polygon fill=\"white\" stroke=\"none\" points=\"-4,4 -4,-159.99 436.99,-159.99 436.99,4 -4,4\"/>\n<!-- fake -->\n<g id=\"node1\" class=\"node\">\n<title>fake</title>\n</g>\n<!-- available -->\n<g id=\"node2\" class=\"node\">\n<title>available</title>\n<ellipse fill=\"none\" stroke=\"black\" cx=\"136.6\" cy=\"-78.4\" rx=\"41.68\" ry=\"41.68\"/>\n<ellipse fill=\"none\" stroke=\"black\" cx=\"136.6\" cy=\"-78.4\" rx=\"45.69\" ry=\"45.69\"/>\n<text text-anchor=\"middle\" x=\"136.6\" y=\"-74.7\" font-family=\"Times New Roman,serif\" font-size=\"14.00\">available</text>\n</g>\n<!-- fake&#45;&gt;available -->\n<g id=\"edge1\" class=\"edge\">\n<title>fake-&gt;available</title>\n<path fill=\"none\" stroke=\"black\" stroke-width=\"2\" d=\"M54.32,-78.4C61.93,-78.4 70.55,-78.4 79.26,-78.4\"/>\n<polygon fill=\"black\" stroke=\"black\" stroke-width=\"2\" points=\"77.65,-81.9 87.65,-78.4 77.65,-74.9 77.65,-81.9\"/>\n</g>\n<!-- done -->\n<g id=\"node3\" class=\"node\">\n<title>done</title>\n<ellipse fill=\"none\" stroke=\"black\" cx=\"396.59\" cy=\"-127.4\" rx=\"28.7\" ry=\"28.7\"/>\n<text text-anchor=\"middle\" x=\"396.59\" y=\"-123.7\" font-family=\"Times New Roman,serif\" font-size=\"14.00\">done</text>\n</g>\n<!-- available&#45;&gt;done -->\n<g id=\"edge2\" class=\"edge\">\n<title>available-&gt;done</title>\n<path fill=\"none\" stroke=\"black\" d=\"M175.49,-103.02C183.38,-107.15 191.84,-110.9 200.19,-113.4 252.57,-129.07 316.21,-130.58 356.32,-129.53\"/>\n<polygon fill=\"black\" stroke=\"black\" points=\"356.34,-133.03 366.21,-129.2 356.1,-126.04 356.34,-133.03\"/>\n<text text-anchor=\"middle\" x=\"271.19\" y=\"-133.2\" font-family=\"Times New Roman,serif\" font-size=\"14.00\">etching, 0.95, -1.0</text>\n</g>\n<!-- broken -->\n<g id=\"node4\" class=\"node\">\n<title>broken</title>\n<ellipse fill=\"none\" stroke=\"black\" cx=\"396.59\" cy=\"-36.4\" rx=\"36.29\" ry=\"36.29\"/>\n<text text-anchor=\"middle\" x=\"396.59\" y=\"-32.7\" font-family=\"Times New Roman,serif\" font-size=\"14.00\">broken</text>\n</g>\n<!-- available&#45;&gt;broken -->\n<g id=\"edge3\" class=\"edge\">\n<title>available-&gt;broken</title>\n<path fill=\"none\" stroke=\"black\" d=\"M180.48,-65.1C187.04,-63.35 193.77,-61.71 200.19,-60.4 250.38,-50.17 308.76,-43.69 348.55,-40.08\"/>\n<polygon fill=\"black\" stroke=\"black\" points=\"348.86,-43.56 358.51,-39.2 348.24,-36.59 348.86,-43.56\"/>\n<text text-anchor=\"middle\" x=\"271.19\" y=\"-64.2\" font-family=\"Times New Roman,serif\" font-size=\"14.00\">etching, 0.05, -1.0</text>\n</g>\n<!-- done&#45;&gt;available -->\n<g id=\"edge5\" class=\"edge\">\n<title>done-&gt;available</title>\n<path fill=\"none\" stroke=\"black\" d=\"M373.13,-110.21C364.01,-104.14 353.07,-97.95 342.19,-94.4 293.9,-78.62 235.93,-75.45 194.04,-75.75\"/>\n<polygon fill=\"black\" stroke=\"black\" points=\"194.14,-72.24 184.19,-75.89 194.24,-79.24 194.14,-72.24\"/>\n<text text-anchor=\"middle\" x=\"271.19\" y=\"-98.2\" font-family=\"Times New Roman,serif\" font-size=\"14.00\">check_etching, 1.0, 0.0</text>\n</g>\n<!-- broken&#45;&gt;available -->\n<g id=\"edge4\" class=\"edge\">\n<title>broken-&gt;available</title>\n<path fill=\"none\" stroke=\"black\" d=\"M361.47,-25.44C321.44,-14.48 253.73,-1.95 200.19,-22.4 191.48,-25.73 183.21,-30.89 175.71,-36.76\"/>\n<polygon fill=\"black\" stroke=\"black\" points=\"173.8,-33.79 168.43,-42.93 178.32,-39.13 173.8,-33.79\"/>\n<text text-anchor=\"middle\" x=\"271.19\" y=\"-26.2\" font-family=\"Times New Roman,serif\" font-size=\"14.00\">check_etching, 1.0, -10.0</text>\n</g>\n</g>\n</svg>"
     },
     "metadata": {},
     "output_type": "display_data"
    },
    {
     "data": {
      "text/plain": "<IPython.core.display.SVG object>",
      "image/svg+xml": "<svg xmlns=\"http://www.w3.org/2000/svg\" xmlns:xlink=\"http://www.w3.org/1999/xlink\" width=\"441pt\" height=\"164pt\" viewBox=\"0.00 0.00 440.99 163.99\">\n<g id=\"graph0\" class=\"graph\" transform=\"scale(1 1) rotate(0) translate(4 159.99)\">\n<polygon fill=\"white\" stroke=\"none\" points=\"-4,4 -4,-159.99 436.99,-159.99 436.99,4 -4,4\"/>\n<!-- fake -->\n<g id=\"node1\" class=\"node\">\n<title>fake</title>\n</g>\n<!-- available -->\n<g id=\"node2\" class=\"node\">\n<title>available</title>\n<ellipse fill=\"none\" stroke=\"black\" cx=\"136.6\" cy=\"-78.4\" rx=\"41.68\" ry=\"41.68\"/>\n<ellipse fill=\"none\" stroke=\"black\" cx=\"136.6\" cy=\"-78.4\" rx=\"45.69\" ry=\"45.69\"/>\n<text text-anchor=\"middle\" x=\"136.6\" y=\"-74.7\" font-family=\"Times New Roman,serif\" font-size=\"14.00\">available</text>\n</g>\n<!-- fake&#45;&gt;available -->\n<g id=\"edge1\" class=\"edge\">\n<title>fake-&gt;available</title>\n<path fill=\"none\" stroke=\"black\" stroke-width=\"2\" d=\"M54.32,-78.4C61.93,-78.4 70.55,-78.4 79.26,-78.4\"/>\n<polygon fill=\"black\" stroke=\"black\" stroke-width=\"2\" points=\"77.65,-81.9 87.65,-78.4 77.65,-74.9 77.65,-81.9\"/>\n</g>\n<!-- done -->\n<g id=\"node3\" class=\"node\">\n<title>done</title>\n<ellipse fill=\"none\" stroke=\"black\" cx=\"396.59\" cy=\"-127.4\" rx=\"28.7\" ry=\"28.7\"/>\n<text text-anchor=\"middle\" x=\"396.59\" y=\"-123.7\" font-family=\"Times New Roman,serif\" font-size=\"14.00\">done</text>\n</g>\n<!-- available&#45;&gt;done -->\n<g id=\"edge2\" class=\"edge\">\n<title>available-&gt;done</title>\n<path fill=\"none\" stroke=\"black\" d=\"M175.49,-103.02C183.38,-107.15 191.84,-110.9 200.19,-113.4 252.57,-129.07 316.21,-130.58 356.32,-129.53\"/>\n<polygon fill=\"black\" stroke=\"black\" points=\"356.34,-133.03 366.21,-129.2 356.1,-126.04 356.34,-133.03\"/>\n<text text-anchor=\"middle\" x=\"271.19\" y=\"-133.2\" font-family=\"Times New Roman,serif\" font-size=\"14.00\">etching, 0.5, -5.0</text>\n</g>\n<!-- broken -->\n<g id=\"node4\" class=\"node\">\n<title>broken</title>\n<ellipse fill=\"none\" stroke=\"black\" cx=\"396.59\" cy=\"-36.4\" rx=\"36.29\" ry=\"36.29\"/>\n<text text-anchor=\"middle\" x=\"396.59\" y=\"-32.7\" font-family=\"Times New Roman,serif\" font-size=\"14.00\">broken</text>\n</g>\n<!-- available&#45;&gt;broken -->\n<g id=\"edge3\" class=\"edge\">\n<title>available-&gt;broken</title>\n<path fill=\"none\" stroke=\"black\" d=\"M180.48,-65.1C187.04,-63.35 193.77,-61.71 200.19,-60.4 250.38,-50.17 308.76,-43.69 348.55,-40.08\"/>\n<polygon fill=\"black\" stroke=\"black\" points=\"348.86,-43.56 358.51,-39.2 348.24,-36.59 348.86,-43.56\"/>\n<text text-anchor=\"middle\" x=\"271.19\" y=\"-64.2\" font-family=\"Times New Roman,serif\" font-size=\"14.00\">etching, 0.5, -5.0</text>\n</g>\n<!-- done&#45;&gt;available -->\n<g id=\"edge5\" class=\"edge\">\n<title>done-&gt;available</title>\n<path fill=\"none\" stroke=\"black\" d=\"M373.13,-110.21C364.01,-104.14 353.07,-97.95 342.19,-94.4 293.9,-78.62 235.93,-75.45 194.04,-75.75\"/>\n<polygon fill=\"black\" stroke=\"black\" points=\"194.14,-72.24 184.19,-75.89 194.24,-79.24 194.14,-72.24\"/>\n<text text-anchor=\"middle\" x=\"271.19\" y=\"-98.2\" font-family=\"Times New Roman,serif\" font-size=\"14.00\">check_etching, 1.0, 0.0</text>\n</g>\n<!-- broken&#45;&gt;available -->\n<g id=\"edge4\" class=\"edge\">\n<title>broken-&gt;available</title>\n<path fill=\"none\" stroke=\"black\" d=\"M361.47,-25.44C321.44,-14.48 253.73,-1.95 200.19,-22.4 191.48,-25.73 183.21,-30.89 175.71,-36.76\"/>\n<polygon fill=\"black\" stroke=\"black\" points=\"173.8,-33.79 168.43,-42.93 178.32,-39.13 173.8,-33.79\"/>\n<text text-anchor=\"middle\" x=\"271.19\" y=\"-26.2\" font-family=\"Times New Roman,serif\" font-size=\"14.00\">check_etching, 1.0, -10.0</text>\n</g>\n</g>\n</svg>"
     },
     "metadata": {},
     "output_type": "display_data"
    }
   ],
   "source": [
    "def etching_service(name: str, broken_prob: float, broken_reward: float, action_reward: float) -> Service:\n",
    "    \"\"\"Build the etching device.\"\"\"\n",
    "    return build_generic_breakable_service(name, ETCHING, broken_prob=broken_prob, broken_reward=broken_reward,\n",
    "                                           action_reward=action_reward)\n",
    "\n",
    "\n",
    "service_etching1 = etching_service(ETCHING1_SERVICE_NAME, DEFAULT_BROKEN_PROB, DEFAULT_BROKEN_REWARD,\n",
    "                                   USA_REWARD)\n",
    "service_etching2 = etching_service(ETCHING2_SERVICE_NAME, BROKEN_PROB, DEFAULT_BROKEN_REWARD, HIGH_USA_REWARD)\n",
    "render_service(service_etching1)\n",
    "render_service(service_etching2)"
   ]
  },
  {
   "cell_type": "code",
   "execution_count": 33,
   "metadata": {},
   "outputs": [
    {
     "data": {
      "text/plain": "<IPython.core.display.SVG object>",
      "image/svg+xml": "<svg xmlns=\"http://www.w3.org/2000/svg\" xmlns:xlink=\"http://www.w3.org/1999/xlink\" width=\"1787pt\" height=\"213pt\" viewBox=\"0.00 0.00 1787.38 213.29\">\n<g id=\"graph0\" class=\"graph\" transform=\"scale(1 1) rotate(0) translate(4 209.29)\">\n<polygon fill=\"white\" stroke=\"none\" points=\"-4,4 -4,-209.29 1783.38,-209.29 1783.38,4 -4,4\"/>\n<!-- fake -->\n<g id=\"node1\" class=\"node\">\n<title>fake</title>\n</g>\n<!-- ready -->\n<g id=\"node2\" class=\"node\">\n<title>ready</title>\n<ellipse fill=\"none\" stroke=\"black\" cx=\"125.55\" cy=\"-72.25\" rx=\"30.59\" ry=\"30.59\"/>\n<ellipse fill=\"none\" stroke=\"black\" cx=\"125.55\" cy=\"-72.25\" rx=\"34.59\" ry=\"34.59\"/>\n<text text-anchor=\"middle\" x=\"125.55\" y=\"-68.55\" font-family=\"Times New Roman,serif\" font-size=\"14.00\">ready</text>\n</g>\n<!-- fake&#45;&gt;ready -->\n<g id=\"edge1\" class=\"edge\">\n<title>fake-&gt;ready</title>\n<path fill=\"none\" stroke=\"black\" stroke-width=\"2\" d=\"M54.38,-72.25C62.06,-72.25 70.67,-72.25 79.17,-72.25\"/>\n<polygon fill=\"black\" stroke=\"black\" stroke-width=\"2\" points=\"77.55,-75.75 87.55,-72.25 77.55,-68.75 77.55,-75.75\"/>\n</g>\n<!-- configured -->\n<g id=\"node5\" class=\"node\">\n<title>configured</title>\n<ellipse fill=\"none\" stroke=\"black\" cx=\"513.09\" cy=\"-155.25\" rx=\"50.09\" ry=\"50.09\"/>\n<text text-anchor=\"middle\" x=\"513.09\" y=\"-151.55\" font-family=\"Times New Roman,serif\" font-size=\"14.00\">configured</text>\n</g>\n<!-- ready&#45;&gt;configured -->\n<g id=\"edge2\" class=\"edge\">\n<title>ready-&gt;configured</title>\n<path fill=\"none\" stroke=\"black\" d=\"M159.19,-81.44C165.45,-83.11 171.96,-84.78 178.09,-86.25 273.5,-109.03 385.3,-131.22 452.32,-144.05\"/>\n<polygon fill=\"black\" stroke=\"black\" points=\"451.52,-147.46 462,-145.89 452.84,-140.58 451.52,-147.46\"/>\n<text text-anchor=\"middle\" x=\"289.09\" y=\"-136.05\" font-family=\"Times New Roman,serif\" font-size=\"14.00\">config_impurities_implantation, 1.0, 0.0</text>\n</g>\n<!-- executing -->\n<g id=\"node3\" class=\"node\">\n<title>executing</title>\n<ellipse fill=\"none\" stroke=\"black\" cx=\"1004.09\" cy=\"-104.25\" rx=\"44.69\" ry=\"44.69\"/>\n<text text-anchor=\"middle\" x=\"1004.09\" y=\"-100.55\" font-family=\"Times New Roman,serif\" font-size=\"14.00\">executing</text>\n</g>\n<!-- executing&#45;&gt;ready -->\n<g id=\"edge5\" class=\"edge\">\n<title>executing-&gt;ready</title>\n<path fill=\"none\" stroke=\"black\" d=\"M959.28,-101.13C886.43,-96.07 735.77,-86.15 608.09,-81.25 447.69,-75.08 257.07,-73.1 171.75,-72.5\"/>\n<polygon fill=\"black\" stroke=\"black\" points=\"171.96,-69 161.94,-72.43 171.91,-76 171.96,-69\"/>\n<text text-anchor=\"middle\" x=\"513.09\" y=\"-85.05\" font-family=\"Times New Roman,serif\" font-size=\"14.00\">impurities_implantation, 0.95, -1.0</text>\n</g>\n<!-- broken -->\n<g id=\"node4\" class=\"node\">\n<title>broken</title>\n<ellipse fill=\"none\" stroke=\"black\" cx=\"1386.49\" cy=\"-104.25\" rx=\"36.29\" ry=\"36.29\"/>\n<text text-anchor=\"middle\" x=\"1386.49\" y=\"-100.55\" font-family=\"Times New Roman,serif\" font-size=\"14.00\">broken</text>\n</g>\n<!-- executing&#45;&gt;broken -->\n<g id=\"edge6\" class=\"edge\">\n<title>executing-&gt;broken</title>\n<path fill=\"none\" stroke=\"black\" d=\"M1049.1,-104.25C1121.32,-104.25 1264.33,-104.25 1338.46,-104.25\"/>\n<polygon fill=\"black\" stroke=\"black\" points=\"1338.24,-107.75 1348.24,-104.25 1338.24,-100.75 1338.24,-107.75\"/>\n<text text-anchor=\"middle\" x=\"1237.09\" y=\"-108.05\" font-family=\"Times New Roman,serif\" font-size=\"14.00\">impurities_implantation, 0.05, -1.0</text>\n</g>\n<!-- repairing -->\n<g id=\"node6\" class=\"node\">\n<title>repairing</title>\n<ellipse fill=\"none\" stroke=\"black\" cx=\"1737.13\" cy=\"-42.25\" rx=\"42.49\" ry=\"42.49\"/>\n<text text-anchor=\"middle\" x=\"1737.13\" y=\"-38.55\" font-family=\"Times New Roman,serif\" font-size=\"14.00\">repairing</text>\n</g>\n<!-- broken&#45;&gt;repairing -->\n<g id=\"edge7\" class=\"edge\">\n<title>broken-&gt;repairing</title>\n<path fill=\"none\" stroke=\"black\" d=\"M1422.52,-98.02C1484.06,-87.07 1611.91,-64.34 1683.91,-51.53\"/>\n<polygon fill=\"black\" stroke=\"black\" points=\"1684.25,-55.03 1693.48,-49.83 1683.02,-48.14 1684.25,-55.03\"/>\n<text text-anchor=\"middle\" x=\"1558.89\" y=\"-97.05\" font-family=\"Times New Roman,serif\" font-size=\"14.00\">restore_impurities_implantation, 1.0, -10.0</text>\n</g>\n<!-- configured&#45;&gt;executing -->\n<g id=\"edge3\" class=\"edge\">\n<title>configured-&gt;executing</title>\n<path fill=\"none\" stroke=\"black\" d=\"M563.22,-150.12C655.03,-140.55 852.03,-120 948.12,-109.98\"/>\n<polygon fill=\"black\" stroke=\"black\" points=\"948.24,-113.49 957.82,-108.97 947.51,-106.52 948.24,-113.49\"/>\n<text text-anchor=\"middle\" x=\"746.09\" y=\"-146.05\" font-family=\"Times New Roman,serif\" font-size=\"14.00\">checked_impurities_implantation, 0.95, 0.0</text>\n</g>\n<!-- configured&#45;&gt;broken -->\n<g id=\"edge4\" class=\"edge\">\n<title>configured-&gt;broken</title>\n<path fill=\"none\" stroke=\"black\" d=\"M563.25,-158.61C667.08,-165.03 916.29,-176.82 1124.09,-158.25 1217.47,-149.9 1241.36,-146.83 1332.09,-123.25 1335.17,-122.45 1338.33,-121.54 1341.49,-120.58\"/>\n<polygon fill=\"black\" stroke=\"black\" points=\"1342.29,-124 1350.72,-117.58 1340.13,-117.34 1342.29,-124\"/>\n<text text-anchor=\"middle\" x=\"1004.09\" y=\"-171.05\" font-family=\"Times New Roman,serif\" font-size=\"14.00\">checked_impurities_implantation, 0.05, 0.0</text>\n</g>\n<!-- repairing&#45;&gt;ready -->\n<g id=\"edge8\" class=\"edge\">\n<title>repairing-&gt;ready</title>\n<path fill=\"none\" stroke=\"black\" d=\"M1694.3,-39.09C1628.89,-34.42 1498.37,-26.25 1387.49,-26.25 512.09,-26.25 512.09,-26.25 512.09,-26.25 387.9,-26.25 242.77,-50.07 171.17,-63.43\"/>\n<polygon fill=\"black\" stroke=\"black\" points=\"170.57,-59.98 161.4,-65.28 171.87,-66.86 170.57,-59.98\"/>\n<text text-anchor=\"middle\" x=\"1004.09\" y=\"-30.05\" font-family=\"Times New Roman,serif\" font-size=\"14.00\">repaired_impurities_implantation, 1.0, 0.0</text>\n</g>\n</g>\n</svg>"
     },
     "metadata": {},
     "output_type": "display_data"
    }
   ],
   "source": [
    "def impurities_implantation_service(name: str, broken_prob: float, unemployable_prob: float, broken_reward: float,\n",
    "                                    action_reward: float) -> Service:\n",
    "    \"\"\"Build the impurities implantation device.\"\"\"\n",
    "    return build_complex_breakable_service(name, IMPURITIES_IMPLANTATION, broken_prob=broken_prob,\n",
    "                                           unemployable_prob=unemployable_prob, broken_reward=broken_reward,\n",
    "                                           action_reward=action_reward)\n",
    "\n",
    "\n",
    "service_impurities_implantation = impurities_implantation_service(IMPURITIES_IMPLANTATION_SERVICE_NAME,\n",
    "                                                                   DEFAULT_BROKEN_PROB, DEFAULT_UNEMPLOYABLE_PROB,\n",
    "                                                                   DEFAULT_BROKEN_REWARD, USA_REWARD)\n",
    "render_service(service_impurities_implantation)"
   ]
  },
  {
   "cell_type": "code",
   "execution_count": 34,
   "metadata": {},
   "outputs": [
    {
     "data": {
      "text/plain": "<IPython.core.display.SVG object>",
      "image/svg+xml": "<svg xmlns=\"http://www.w3.org/2000/svg\" xmlns:xlink=\"http://www.w3.org/1999/xlink\" width=\"188pt\" height=\"110pt\" viewBox=\"0.00 0.00 187.55 110.09\">\n<g id=\"graph0\" class=\"graph\" transform=\"scale(1 1) rotate(0) translate(4 106.09)\">\n<polygon fill=\"white\" stroke=\"none\" points=\"-4,4 -4,-106.09 183.55,-106.09 183.55,4 -4,4\"/>\n<!-- fake -->\n<g id=\"node1\" class=\"node\">\n<title>fake</title>\n</g>\n<!-- ready -->\n<g id=\"node2\" class=\"node\">\n<title>ready</title>\n<ellipse fill=\"none\" stroke=\"black\" cx=\"125.55\" cy=\"-34.55\" rx=\"30.59\" ry=\"30.59\"/>\n<ellipse fill=\"none\" stroke=\"black\" cx=\"125.55\" cy=\"-34.55\" rx=\"34.59\" ry=\"34.59\"/>\n<text text-anchor=\"middle\" x=\"125.55\" y=\"-30.85\" font-family=\"Times New Roman,serif\" font-size=\"14.00\">ready</text>\n</g>\n<!-- fake&#45;&gt;ready -->\n<g id=\"edge1\" class=\"edge\">\n<title>fake-&gt;ready</title>\n<path fill=\"none\" stroke=\"black\" stroke-width=\"2\" d=\"M54.38,-34.55C62.06,-34.55 70.67,-34.55 79.17,-34.55\"/>\n<polygon fill=\"black\" stroke=\"black\" stroke-width=\"2\" points=\"77.55,-38.05 87.55,-34.55 77.55,-31.05 77.55,-38.05\"/>\n</g>\n<!-- ready&#45;&gt;ready -->\n<g id=\"edge2\" class=\"edge\">\n<title>ready-&gt;ready</title>\n<path fill=\"none\" stroke=\"black\" d=\"M115.61,-68.16C115.76,-78.74 119.07,-87.09 125.55,-87.09 129.49,-87.09 132.27,-83.99 133.86,-79.17\"/>\n<polygon fill=\"black\" stroke=\"black\" points=\"137.27,-80.06 135.27,-69.65 130.35,-79.03 137.27,-80.06\"/>\n<text text-anchor=\"middle\" x=\"125.55\" y=\"-90.89\" font-family=\"Times New Roman,serif\" font-size=\"14.00\">activation, 1.0, -1.0</text>\n</g>\n</g>\n</svg>"
     },
     "metadata": {},
     "output_type": "display_data"
    }
   ],
   "source": [
    "def activation_service(name: str = ACTIVATION_SERVICE_NAME, action_reward: float = USA_REWARD) -> Service:\n",
    "    \"\"\"Build the human activation device.\"\"\"\n",
    "    return build_generic_service_one_state(\n",
    "        name,\n",
    "        {ACTIVATION},\n",
    "        action_reward=action_reward\n",
    "    )\n",
    "\n",
    "\n",
    "service_activation = activation_service()\n",
    "render_service(service_activation)"
   ]
  },
  {
   "cell_type": "code",
   "execution_count": 35,
   "metadata": {},
   "outputs": [
    {
     "data": {
      "text/plain": "<IPython.core.display.SVG object>",
      "image/svg+xml": "<svg xmlns=\"http://www.w3.org/2000/svg\" xmlns:xlink=\"http://www.w3.org/1999/xlink\" width=\"486pt\" height=\"164pt\" viewBox=\"0.00 0.00 485.99 163.99\">\n<g id=\"graph0\" class=\"graph\" transform=\"scale(1 1) rotate(0) translate(4 159.99)\">\n<polygon fill=\"white\" stroke=\"none\" points=\"-4,4 -4,-159.99 481.99,-159.99 481.99,4 -4,4\"/>\n<!-- fake -->\n<g id=\"node1\" class=\"node\">\n<title>fake</title>\n</g>\n<!-- available -->\n<g id=\"node2\" class=\"node\">\n<title>available</title>\n<ellipse fill=\"none\" stroke=\"black\" cx=\"136.6\" cy=\"-78.4\" rx=\"41.68\" ry=\"41.68\"/>\n<ellipse fill=\"none\" stroke=\"black\" cx=\"136.6\" cy=\"-78.4\" rx=\"45.69\" ry=\"45.69\"/>\n<text text-anchor=\"middle\" x=\"136.6\" y=\"-74.7\" font-family=\"Times New Roman,serif\" font-size=\"14.00\">available</text>\n</g>\n<!-- fake&#45;&gt;available -->\n<g id=\"edge1\" class=\"edge\">\n<title>fake-&gt;available</title>\n<path fill=\"none\" stroke=\"black\" stroke-width=\"2\" d=\"M54.32,-78.4C61.93,-78.4 70.55,-78.4 79.26,-78.4\"/>\n<polygon fill=\"black\" stroke=\"black\" stroke-width=\"2\" points=\"77.65,-81.9 87.65,-78.4 77.65,-74.9 77.65,-81.9\"/>\n</g>\n<!-- done -->\n<g id=\"node3\" class=\"node\">\n<title>done</title>\n<ellipse fill=\"none\" stroke=\"black\" cx=\"441.59\" cy=\"-127.4\" rx=\"28.7\" ry=\"28.7\"/>\n<text text-anchor=\"middle\" x=\"441.59\" y=\"-123.7\" font-family=\"Times New Roman,serif\" font-size=\"14.00\">done</text>\n</g>\n<!-- available&#45;&gt;done -->\n<g id=\"edge2\" class=\"edge\">\n<title>available-&gt;done</title>\n<path fill=\"none\" stroke=\"black\" d=\"M175.46,-103.11C183.35,-107.23 191.83,-110.95 200.19,-113.4 268.78,-133.42 352.93,-132.95 401.3,-130.42\"/>\n<polygon fill=\"black\" stroke=\"black\" points=\"401.22,-133.93 410.99,-129.85 400.81,-126.94 401.22,-133.93\"/>\n<text text-anchor=\"middle\" x=\"293.69\" y=\"-135.2\" font-family=\"Times New Roman,serif\" font-size=\"14.00\">resist_stripping, 0.95, -1.0</text>\n</g>\n<!-- broken -->\n<g id=\"node4\" class=\"node\">\n<title>broken</title>\n<ellipse fill=\"none\" stroke=\"black\" cx=\"441.59\" cy=\"-36.4\" rx=\"36.29\" ry=\"36.29\"/>\n<text text-anchor=\"middle\" x=\"441.59\" y=\"-32.7\" font-family=\"Times New Roman,serif\" font-size=\"14.00\">broken</text>\n</g>\n<!-- available&#45;&gt;broken -->\n<g id=\"edge3\" class=\"edge\">\n<title>available-&gt;broken</title>\n<path fill=\"none\" stroke=\"black\" d=\"M180.45,-64.97C187.02,-63.23 193.75,-61.63 200.19,-60.4 266.59,-47.64 344.7,-41.43 393.43,-38.59\"/>\n<polygon fill=\"black\" stroke=\"black\" points=\"393.56,-42.08 403.35,-38.03 393.17,-35.09 393.56,-42.08\"/>\n<text text-anchor=\"middle\" x=\"293.69\" y=\"-64.2\" font-family=\"Times New Roman,serif\" font-size=\"14.00\">resist_stripping, 0.05, -1.0</text>\n</g>\n<!-- done&#45;&gt;available -->\n<g id=\"edge5\" class=\"edge\">\n<title>done-&gt;available</title>\n<path fill=\"none\" stroke=\"black\" d=\"M418.15,-110.13C409.04,-104.05 398.09,-97.87 387.19,-94.4 352.53,-83.34 256.3,-79.9 193.96,-78.85\"/>\n<polygon fill=\"black\" stroke=\"black\" points=\"194.3,-75.35 184.25,-78.7 194.2,-82.35 194.3,-75.35\"/>\n<text text-anchor=\"middle\" x=\"293.69\" y=\"-98.2\" font-family=\"Times New Roman,serif\" font-size=\"14.00\">check_resist_stripping, 1.0, 0.0</text>\n</g>\n<!-- broken&#45;&gt;available -->\n<g id=\"edge4\" class=\"edge\">\n<title>broken-&gt;available</title>\n<path fill=\"none\" stroke=\"black\" d=\"M406.54,-25.28C358.65,-11.57 269.51,6.78 200.19,-20.4 191.17,-23.93 182.67,-29.45 175.02,-35.7\"/>\n<polygon fill=\"black\" stroke=\"black\" points=\"172.74,-33.05 167.58,-42.3 177.38,-38.29 172.74,-33.05\"/>\n<text text-anchor=\"middle\" x=\"293.69\" y=\"-24.2\" font-family=\"Times New Roman,serif\" font-size=\"14.00\">check_resist_stripping, 1.0, -10.0</text>\n</g>\n</g>\n</svg>"
     },
     "metadata": {},
     "output_type": "display_data"
    }
   ],
   "source": [
    "def resist_stripping_service(name: str, broken_prob: float, broken_reward: float, action_reward: float) -> Service:\n",
    "    \"\"\"Build the resist stripping device.\"\"\"\n",
    "    return build_generic_breakable_service(name, RESIST_STRIPPING, broken_prob=broken_prob, broken_reward=broken_reward,\n",
    "                                           action_reward=action_reward)\n",
    "\n",
    "\n",
    "service_resist_stripping = resist_stripping_service(RESIST_STRIPPING_SERVICE_NAME, DEFAULT_BROKEN_PROB,\n",
    "                                                     DEFAULT_BROKEN_REWARD, USA_REWARD)\n",
    "\n",
    "render_service(service_resist_stripping)"
   ]
  },
  {
   "cell_type": "code",
   "execution_count": 36,
   "metadata": {},
   "outputs": [
    {
     "data": {
      "text/plain": "<IPython.core.display.SVG object>",
      "image/svg+xml": "<svg xmlns=\"http://www.w3.org/2000/svg\" xmlns:xlink=\"http://www.w3.org/1999/xlink\" width=\"187pt\" height=\"110pt\" viewBox=\"0.00 0.00 186.55 110.09\">\n<g id=\"graph0\" class=\"graph\" transform=\"scale(1 1) rotate(0) translate(4 106.09)\">\n<polygon fill=\"white\" stroke=\"none\" points=\"-4,4 -4,-106.09 182.55,-106.09 182.55,4 -4,4\"/>\n<!-- fake -->\n<g id=\"node1\" class=\"node\">\n<title>fake</title>\n</g>\n<!-- ready -->\n<g id=\"node2\" class=\"node\">\n<title>ready</title>\n<ellipse fill=\"none\" stroke=\"black\" cx=\"125.55\" cy=\"-34.55\" rx=\"30.59\" ry=\"30.59\"/>\n<ellipse fill=\"none\" stroke=\"black\" cx=\"125.55\" cy=\"-34.55\" rx=\"34.59\" ry=\"34.59\"/>\n<text text-anchor=\"middle\" x=\"125.55\" y=\"-30.85\" font-family=\"Times New Roman,serif\" font-size=\"14.00\">ready</text>\n</g>\n<!-- fake&#45;&gt;ready -->\n<g id=\"edge1\" class=\"edge\">\n<title>fake-&gt;ready</title>\n<path fill=\"none\" stroke=\"black\" stroke-width=\"2\" d=\"M54.38,-34.55C62.06,-34.55 70.67,-34.55 79.17,-34.55\"/>\n<polygon fill=\"black\" stroke=\"black\" stroke-width=\"2\" points=\"77.55,-38.05 87.55,-34.55 77.55,-31.05 77.55,-38.05\"/>\n</g>\n<!-- ready&#45;&gt;ready -->\n<g id=\"edge2\" class=\"edge\">\n<title>ready-&gt;ready</title>\n<path fill=\"none\" stroke=\"black\" d=\"M115.61,-68.16C115.76,-78.74 119.07,-87.09 125.55,-87.09 129.49,-87.09 132.27,-83.99 133.86,-79.17\"/>\n<polygon fill=\"black\" stroke=\"black\" points=\"137.27,-80.06 135.27,-69.65 130.35,-79.03 137.27,-80.06\"/>\n<text text-anchor=\"middle\" x=\"125.55\" y=\"-90.89\" font-family=\"Times New Roman,serif\" font-size=\"14.00\">assembly, 1.0, -1.0</text>\n</g>\n</g>\n</svg>"
     },
     "metadata": {},
     "output_type": "display_data"
    }
   ],
   "source": [
    "def assembly_service(name: str = ASSEMBLY_SERVICE_NAME, action_reward: float = USA_REWARD) -> Service:\n",
    "    \"\"\"Build the human assembly device.\"\"\"\n",
    "    return build_generic_service_one_state(\n",
    "        name,\n",
    "        {ASSEMBLY},\n",
    "        action_reward=action_reward\n",
    "    )\n",
    "\n",
    "service_assembly = assembly_service()\n",
    "render_service(service_assembly)\n"
   ]
  },
  {
   "cell_type": "code",
   "execution_count": 37,
   "metadata": {},
   "outputs": [
    {
     "data": {
      "text/plain": "<IPython.core.display.SVG object>",
      "image/svg+xml": "<svg xmlns=\"http://www.w3.org/2000/svg\" xmlns:xlink=\"http://www.w3.org/1999/xlink\" width=\"179pt\" height=\"110pt\" viewBox=\"0.00 0.00 179.05 110.09\">\n<g id=\"graph0\" class=\"graph\" transform=\"scale(1 1) rotate(0) translate(4 106.09)\">\n<polygon fill=\"white\" stroke=\"none\" points=\"-4,4 -4,-106.09 175.05,-106.09 175.05,4 -4,4\"/>\n<!-- fake -->\n<g id=\"node1\" class=\"node\">\n<title>fake</title>\n</g>\n<!-- ready -->\n<g id=\"node2\" class=\"node\">\n<title>ready</title>\n<ellipse fill=\"none\" stroke=\"black\" cx=\"125.55\" cy=\"-34.55\" rx=\"30.59\" ry=\"30.59\"/>\n<ellipse fill=\"none\" stroke=\"black\" cx=\"125.55\" cy=\"-34.55\" rx=\"34.59\" ry=\"34.59\"/>\n<text text-anchor=\"middle\" x=\"125.55\" y=\"-30.85\" font-family=\"Times New Roman,serif\" font-size=\"14.00\">ready</text>\n</g>\n<!-- fake&#45;&gt;ready -->\n<g id=\"edge1\" class=\"edge\">\n<title>fake-&gt;ready</title>\n<path fill=\"none\" stroke=\"black\" stroke-width=\"2\" d=\"M54.38,-34.55C62.06,-34.55 70.67,-34.55 79.17,-34.55\"/>\n<polygon fill=\"black\" stroke=\"black\" stroke-width=\"2\" points=\"77.55,-38.05 87.55,-34.55 77.55,-31.05 77.55,-38.05\"/>\n</g>\n<!-- ready&#45;&gt;ready -->\n<g id=\"edge2\" class=\"edge\">\n<title>ready-&gt;ready</title>\n<path fill=\"none\" stroke=\"black\" d=\"M115.61,-68.16C115.76,-78.74 119.07,-87.09 125.55,-87.09 129.49,-87.09 132.27,-83.99 133.86,-79.17\"/>\n<polygon fill=\"black\" stroke=\"black\" points=\"137.27,-80.06 135.27,-69.65 130.35,-79.03 137.27,-80.06\"/>\n<text text-anchor=\"middle\" x=\"125.55\" y=\"-90.89\" font-family=\"Times New Roman,serif\" font-size=\"14.00\">testing, 1.0, -1.0</text>\n</g>\n</g>\n</svg>"
     },
     "metadata": {},
     "output_type": "display_data"
    }
   ],
   "source": [
    "def testing_service(name: str = TESTING_SERVICE_NAME, action_reward: float = USA_REWARD) -> Service:\n",
    "    \"\"\"Build the human testing device.\"\"\"\n",
    "    return build_generic_service_one_state(\n",
    "        name,\n",
    "        {TESTING},\n",
    "        action_reward=action_reward\n",
    "    )\n",
    "\n",
    "service_testing = testing_service()\n",
    "render_service(service_testing)\n"
   ]
  },
  {
   "cell_type": "code",
   "execution_count": 38,
   "metadata": {},
   "outputs": [
    {
     "data": {
      "text/plain": "<IPython.core.display.SVG object>",
      "image/svg+xml": "<svg xmlns=\"http://www.w3.org/2000/svg\" xmlns:xlink=\"http://www.w3.org/1999/xlink\" width=\"189pt\" height=\"110pt\" viewBox=\"0.00 0.00 189.05 110.09\">\n<g id=\"graph0\" class=\"graph\" transform=\"scale(1 1) rotate(0) translate(4 106.09)\">\n<polygon fill=\"white\" stroke=\"none\" points=\"-4,4 -4,-106.09 185.05,-106.09 185.05,4 -4,4\"/>\n<!-- fake -->\n<g id=\"node1\" class=\"node\">\n<title>fake</title>\n</g>\n<!-- ready -->\n<g id=\"node2\" class=\"node\">\n<title>ready</title>\n<ellipse fill=\"none\" stroke=\"black\" cx=\"125.55\" cy=\"-34.55\" rx=\"30.59\" ry=\"30.59\"/>\n<ellipse fill=\"none\" stroke=\"black\" cx=\"125.55\" cy=\"-34.55\" rx=\"34.59\" ry=\"34.59\"/>\n<text text-anchor=\"middle\" x=\"125.55\" y=\"-30.85\" font-family=\"Times New Roman,serif\" font-size=\"14.00\">ready</text>\n</g>\n<!-- fake&#45;&gt;ready -->\n<g id=\"edge1\" class=\"edge\">\n<title>fake-&gt;ready</title>\n<path fill=\"none\" stroke=\"black\" stroke-width=\"2\" d=\"M54.38,-34.55C62.06,-34.55 70.67,-34.55 79.17,-34.55\"/>\n<polygon fill=\"black\" stroke=\"black\" stroke-width=\"2\" points=\"77.55,-38.05 87.55,-34.55 77.55,-31.05 77.55,-38.05\"/>\n</g>\n<!-- ready&#45;&gt;ready -->\n<g id=\"edge2\" class=\"edge\">\n<title>ready-&gt;ready</title>\n<path fill=\"none\" stroke=\"black\" d=\"M115.61,-68.16C115.76,-78.74 119.07,-87.09 125.55,-87.09 129.49,-87.09 132.27,-83.99 133.86,-79.17\"/>\n<polygon fill=\"black\" stroke=\"black\" points=\"137.27,-80.06 135.27,-69.65 130.35,-79.03 137.27,-80.06\"/>\n<text text-anchor=\"middle\" x=\"125.55\" y=\"-90.89\" font-family=\"Times New Roman,serif\" font-size=\"14.00\">packaging, 1.0, -1.0</text>\n</g>\n</g>\n</svg>"
     },
     "metadata": {},
     "output_type": "display_data"
    }
   ],
   "source": [
    "def packaging_service(name: str = PACKAGING_SERVICE_NAME, action_reward: float = USA_REWARD) -> Service:\n",
    "    \"\"\"Build the human packaging device.\"\"\"\n",
    "    return build_generic_service_one_state(\n",
    "        name,\n",
    "        {PACKAGING},\n",
    "        action_reward=action_reward\n",
    "    )\n",
    "\n",
    "service_packaging = packaging_service()\n",
    "render_service(service_packaging)"
   ]
  },
  {
   "cell_type": "markdown",
   "metadata": {},
   "source": [
    "# First Phase - Raw materials and design assortment\n",
    "## Target Specification\n",
    "The target specification of the first phase is defined as follows:"
   ]
  },
  {
   "cell_type": "code",
   "execution_count": 39,
   "metadata": {},
   "outputs": [
    {
     "data": {
      "text/plain": "<IPython.core.display.SVG object>",
      "image/svg+xml": "<svg xmlns=\"http://www.w3.org/2000/svg\" xmlns:xlink=\"http://www.w3.org/1999/xlink\" width=\"1797pt\" height=\"89pt\" viewBox=\"0.00 0.00 1796.97 88.85\">\n<g id=\"graph0\" class=\"graph\" transform=\"scale(1 1) rotate(0) translate(4 84.85)\">\n<polygon fill=\"white\" stroke=\"none\" points=\"-4,4 -4,-84.85 1792.97,-84.85 1792.97,4 -4,4\"/>\n<!-- fake -->\n<g id=\"node1\" class=\"node\">\n<title>fake</title>\n</g>\n<!-- s0 -->\n<g id=\"node10\" class=\"node\">\n<title>s0</title>\n<ellipse fill=\"none\" stroke=\"black\" cx=\"113.85\" cy=\"-42.85\" rx=\"18.72\" ry=\"18.72\"/>\n<ellipse fill=\"none\" stroke=\"black\" cx=\"113.85\" cy=\"-42.85\" rx=\"22.7\" ry=\"22.7\"/>\n<text text-anchor=\"middle\" x=\"113.85\" y=\"-39.15\" font-family=\"Times New Roman,serif\" font-size=\"14.00\">s0</text>\n</g>\n<!-- fake&#45;&gt;s0 -->\n<g id=\"edge1\" class=\"edge\">\n<title>fake-&gt;s0</title>\n<path fill=\"none\" stroke=\"black\" stroke-width=\"2\" d=\"M54.38,-42.85C62.32,-42.85 71.13,-42.85 79.46,-42.85\"/>\n<polygon fill=\"black\" stroke=\"black\" stroke-width=\"2\" points=\"77.74,-46.35 87.74,-42.85 77.74,-39.35 77.74,-46.35\"/>\n</g>\n<!-- s9 -->\n<g id=\"node2\" class=\"node\">\n<title>s9</title>\n<ellipse fill=\"none\" stroke=\"black\" cx=\"1770.12\" cy=\"-42.85\" rx=\"18.7\" ry=\"18.7\"/>\n<text text-anchor=\"middle\" x=\"1770.12\" y=\"-39.15\" font-family=\"Times New Roman,serif\" font-size=\"14.00\">s9</text>\n</g>\n<!-- s9&#45;&gt;s0 -->\n<g id=\"edge11\" class=\"edge\">\n<title>s9-&gt;s0</title>\n<path fill=\"none\" stroke=\"black\" d=\"M1751.73,-47.79C1745.9,-49.29 1739.34,-50.82 1733.27,-51.85 1665.58,-63.35 1648.08,-65.85 1579.42,-65.85 318.54,-65.85 318.54,-65.85 318.54,-65.85 245.46,-65.85 226.92,-63.04 154.7,-51.85 152.34,-51.48 149.92,-51.06 147.49,-50.6\"/>\n<polygon fill=\"black\" stroke=\"black\" points=\"148.24,-47.18 137.73,-48.56 146.81,-54.03 148.24,-47.18\"/>\n<text text-anchor=\"middle\" x=\"939.48\" y=\"-69.65\" font-family=\"Times New Roman,serif\" font-size=\"14.00\">pick_copper_frame,0,1.0</text>\n</g>\n<!-- s8 -->\n<g id=\"node3\" class=\"node\">\n<title>s8</title>\n<ellipse fill=\"none\" stroke=\"black\" cx=\"1578.42\" cy=\"-18.85\" rx=\"18.7\" ry=\"18.7\"/>\n<text text-anchor=\"middle\" x=\"1578.42\" y=\"-15.15\" font-family=\"Times New Roman,serif\" font-size=\"14.00\">s8</text>\n</g>\n<!-- s8&#45;&gt;s9 -->\n<g id=\"edge10\" class=\"edge\">\n<title>s8-&gt;s9</title>\n<path fill=\"none\" stroke=\"black\" d=\"M1597.46,-20.67C1626.24,-23.63 1684.28,-29.89 1733.27,-36.85 1735.47,-37.16 1737.75,-37.5 1740.03,-37.86\"/>\n<polygon fill=\"black\" stroke=\"black\" points=\"1739.35,-41.29 1749.78,-39.44 1740.47,-34.38 1739.35,-41.29\"/>\n<text text-anchor=\"middle\" x=\"1674.27\" y=\"-40.65\" font-family=\"Times New Roman,serif\" font-size=\"14.00\">pick_chemicals,0,1.0</text>\n</g>\n<!-- s7 -->\n<g id=\"node4\" class=\"node\">\n<title>s7</title>\n<ellipse fill=\"none\" stroke=\"black\" cx=\"1404.72\" cy=\"-18.85\" rx=\"18.7\" ry=\"18.7\"/>\n<text text-anchor=\"middle\" x=\"1404.72\" y=\"-15.15\" font-family=\"Times New Roman,serif\" font-size=\"14.00\">s7</text>\n</g>\n<!-- s7&#45;&gt;s8 -->\n<g id=\"edge9\" class=\"edge\">\n<title>s7-&gt;s8</title>\n<path fill=\"none\" stroke=\"black\" d=\"M1423.77,-18.85C1453.4,-18.85 1512.61,-18.85 1548.25,-18.85\"/>\n<polygon fill=\"black\" stroke=\"black\" points=\"1547.84,-22.35 1557.84,-18.85 1547.84,-15.35 1547.84,-22.35\"/>\n<text text-anchor=\"middle\" x=\"1491.57\" y=\"-22.65\" font-family=\"Times New Roman,serif\" font-size=\"14.00\">pick_plastic,0,1.0</text>\n</g>\n<!-- s1 -->\n<g id=\"node5\" class=\"node\">\n<title>s1</title>\n<ellipse fill=\"none\" stroke=\"black\" cx=\"319.54\" cy=\"-18.85\" rx=\"18.7\" ry=\"18.7\"/>\n<text text-anchor=\"middle\" x=\"319.54\" y=\"-15.15\" font-family=\"Times New Roman,serif\" font-size=\"14.00\">s1</text>\n</g>\n<!-- s2 -->\n<g id=\"node9\" class=\"node\">\n<title>s2</title>\n<ellipse fill=\"none\" stroke=\"black\" cx=\"493.24\" cy=\"-18.85\" rx=\"18.7\" ry=\"18.7\"/>\n<text text-anchor=\"middle\" x=\"493.24\" y=\"-15.15\" font-family=\"Times New Roman,serif\" font-size=\"14.00\">s2</text>\n</g>\n<!-- s1&#45;&gt;s2 -->\n<g id=\"edge3\" class=\"edge\">\n<title>s1-&gt;s2</title>\n<path fill=\"none\" stroke=\"black\" d=\"M338.6,-18.85C368.22,-18.85 427.43,-18.85 463.07,-18.85\"/>\n<polygon fill=\"black\" stroke=\"black\" points=\"462.66,-22.35 472.66,-18.85 462.66,-15.35 462.66,-22.35\"/>\n<text text-anchor=\"middle\" x=\"406.39\" y=\"-22.65\" font-family=\"Times New Roman,serif\" font-size=\"14.00\">pick_silicon,0,1.0</text>\n</g>\n<!-- s4 -->\n<g id=\"node6\" class=\"node\">\n<title>s4</title>\n<ellipse fill=\"none\" stroke=\"black\" cx=\"831.63\" cy=\"-18.85\" rx=\"18.7\" ry=\"18.7\"/>\n<text text-anchor=\"middle\" x=\"831.63\" y=\"-15.15\" font-family=\"Times New Roman,serif\" font-size=\"14.00\">s4</text>\n</g>\n<!-- s5 -->\n<g id=\"node11\" class=\"node\">\n<title>s5</title>\n<ellipse fill=\"none\" stroke=\"black\" cx=\"1047.33\" cy=\"-18.85\" rx=\"18.7\" ry=\"18.7\"/>\n<text text-anchor=\"middle\" x=\"1047.33\" y=\"-15.15\" font-family=\"Times New Roman,serif\" font-size=\"14.00\">s5</text>\n</g>\n<!-- s4&#45;&gt;s5 -->\n<g id=\"edge6\" class=\"edge\">\n<title>s4-&gt;s5</title>\n<path fill=\"none\" stroke=\"black\" d=\"M850.49,-18.85C887.33,-18.85 972.11,-18.85 1017.08,-18.85\"/>\n<polygon fill=\"black\" stroke=\"black\" points=\"1016.87,-22.35 1026.87,-18.85 1016.87,-15.35 1016.87,-22.35\"/>\n<text text-anchor=\"middle\" x=\"939.48\" y=\"-22.65\" font-family=\"Times New Roman,serif\" font-size=\"14.00\">pick_phosphor,0,1.0</text>\n</g>\n<!-- s3 -->\n<g id=\"node7\" class=\"node\">\n<title>s3</title>\n<ellipse fill=\"none\" stroke=\"black\" cx=\"660.94\" cy=\"-18.85\" rx=\"18.7\" ry=\"18.7\"/>\n<text text-anchor=\"middle\" x=\"660.94\" y=\"-15.15\" font-family=\"Times New Roman,serif\" font-size=\"14.00\">s3</text>\n</g>\n<!-- s3&#45;&gt;s4 -->\n<g id=\"edge5\" class=\"edge\">\n<title>s3-&gt;s4</title>\n<path fill=\"none\" stroke=\"black\" d=\"M679.99,-18.85C708.96,-18.85 766.11,-18.85 801.09,-18.85\"/>\n<polygon fill=\"black\" stroke=\"black\" points=\"800.94,-22.35 810.94,-18.85 800.94,-15.35 800.94,-22.35\"/>\n<text text-anchor=\"middle\" x=\"746.29\" y=\"-22.65\" font-family=\"Times New Roman,serif\" font-size=\"14.00\">pick_boron,0,1.0</text>\n</g>\n<!-- s6 -->\n<g id=\"node8\" class=\"node\">\n<title>s6</title>\n<ellipse fill=\"none\" stroke=\"black\" cx=\"1238.03\" cy=\"-18.85\" rx=\"18.7\" ry=\"18.7\"/>\n<text text-anchor=\"middle\" x=\"1238.03\" y=\"-15.15\" font-family=\"Times New Roman,serif\" font-size=\"14.00\">s6</text>\n</g>\n<!-- s6&#45;&gt;s7 -->\n<g id=\"edge8\" class=\"edge\">\n<title>s6-&gt;s7</title>\n<path fill=\"none\" stroke=\"black\" d=\"M1256.97,-18.85C1285.23,-18.85 1340.41,-18.85 1374.47,-18.85\"/>\n<polygon fill=\"black\" stroke=\"black\" points=\"1374.04,-22.35 1384.04,-18.85 1374.04,-15.35 1374.04,-22.35\"/>\n<text text-anchor=\"middle\" x=\"1321.38\" y=\"-22.65\" font-family=\"Times New Roman,serif\" font-size=\"14.00\">pick_resist,0,1.0</text>\n</g>\n<!-- s2&#45;&gt;s3 -->\n<g id=\"edge4\" class=\"edge\">\n<title>s2-&gt;s3</title>\n<path fill=\"none\" stroke=\"black\" d=\"M512.29,-18.85C540.8,-18.85 596.53,-18.85 630.78,-18.85\"/>\n<polygon fill=\"black\" stroke=\"black\" points=\"630.4,-22.35 640.4,-18.85 630.4,-15.35 630.4,-22.35\"/>\n<text text-anchor=\"middle\" x=\"577.09\" y=\"-22.65\" font-family=\"Times New Roman,serif\" font-size=\"14.00\">pick_wafer,0,1.0</text>\n</g>\n<!-- s0&#45;&gt;s1 -->\n<g id=\"edge2\" class=\"edge\">\n<title>s0-&gt;s1</title>\n<path fill=\"none\" stroke=\"black\" d=\"M136.75,-39.39C142.58,-38.51 148.87,-37.61 154.7,-36.85 201.75,-30.72 256.59,-24.98 289.39,-21.7\"/>\n<polygon fill=\"black\" stroke=\"black\" points=\"289.71,-25.18 299.31,-20.71 289.01,-18.22 289.71,-25.18\"/>\n<text text-anchor=\"middle\" x=\"218.7\" y=\"-40.65\" font-family=\"Times New Roman,serif\" font-size=\"14.00\">pick_buy_design,0,1.0</text>\n</g>\n<!-- s5&#45;&gt;s6 -->\n<g id=\"edge7\" class=\"edge\">\n<title>s5-&gt;s6</title>\n<path fill=\"none\" stroke=\"black\" d=\"M1066.42,-18.85C1099.04,-18.85 1167.97,-18.85 1207.5,-18.85\"/>\n<polygon fill=\"black\" stroke=\"black\" points=\"1207.48,-22.35 1217.48,-18.85 1207.48,-15.35 1207.48,-22.35\"/>\n<text text-anchor=\"middle\" x=\"1142.68\" y=\"-22.65\" font-family=\"Times New Roman,serif\" font-size=\"14.00\">pick_aluminum,0,1.0</text>\n</g>\n</g>\n</svg>"
     },
     "metadata": {},
     "output_type": "display_data"
    }
   ],
   "source": [
    "def target_service():\n",
    "    \"\"\"Build the target service.\"\"\"\n",
    "    transition_function = {\n",
    "       \"s0\": {\n",
    "            \"pick_buy_design\": (\"s1\", 1.0, 0),\n",
    "        },\n",
    "        \"s1\": {\"pick_silicon\": (\"s2\", 1.0, 0),\n",
    "        },\n",
    "        \"s2\": {\"pick_wafer\": (\"s3\", 1.0, 0),},\n",
    "        \"s3\": {\"pick_boron\": (\"s4\", 1.0, 0), },\n",
    "        \"s4\": {\"pick_phosphor\": (\"s5\", 1.0, 0), },\n",
    "        \"s5\": {\"pick_aluminum\": (\"s6\", 1.0, 0), },\n",
    "        \"s6\": {\"pick_resist\": (\"s7\", 1.0, 0), },\n",
    "        \"s7\": {\"pick_plastic\": (\"s8\", 1.0, 0), },\n",
    "        \"s8\": {\"pick_chemicals\": (\"s9\", 1.0, 0), },\n",
    "        \"s9\": {\"pick_copper_frame\": (\"s0\", 1.0, 0), },\n",
    "    }\n",
    "\n",
    "    initial_state = \"s0\"\n",
    "    final_states = {\"s0\"}\n",
    "\n",
    "    return build_target_from_transitions(\n",
    "        transition_function, initial_state, final_states\n",
    "    )\n",
    "\n",
    "target = target_service()\n",
    "render_target(target)"
   ]
"metadata": {
    "collapsed": false
   }
  }
 ],
 "metadata": {
  "kernelspec": {
   "display_name": "Python 3 (ipykernel)",
   "language": "python",
   "name": "python3"
  },
  "language_info": {
   "codemirror_mode": {
    "name": "ipython",
    "version": 3
   },
   "file_extension": ".py",
   "mimetype": "text/x-python",
   "name": "python",
   "nbconvert_exporter": "python",
   "pygments_lexer": "ipython3",
   "version": "3.10.9"
  }
 },
 "nbformat": 4,
 "nbformat_minor": 1
}
